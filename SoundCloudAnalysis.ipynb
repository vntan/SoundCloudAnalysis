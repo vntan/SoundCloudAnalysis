{
 "cells": [
  {
   "cell_type": "markdown",
   "id": "a0bcc353",
   "metadata": {
    "deletable": false,
    "editable": false,
    "run_control": {
     "frozen": true
    }
   },
   "source": [
    "# PROJECT 1: EXPLORATORY DATA ANALYSIS\n"
   ]
  },
  {
   "cell_type": "markdown",
   "id": "03dbd956",
   "metadata": {
    "deletable": false,
    "editable": false,
    "run_control": {
     "frozen": true
    }
   },
   "source": [
    "## Project Name:\n"
   ]
  },
  {
   "cell_type": "markdown",
   "id": "dc227b11",
   "metadata": {
    "deletable": false,
    "editable": false,
    "run_control": {
     "frozen": true
    }
   },
   "source": [
    "SOUNDCLOUD ANALYSIS\n"
   ]
  },
  {
   "cell_type": "markdown",
   "id": "7fcd00d0",
   "metadata": {
    "deletable": false,
    "editable": false,
    "run_control": {
     "frozen": true
    }
   },
   "source": [
    "## Assignment Table\n"
   ]
  },
  {
   "cell_type": "markdown",
   "id": "086fa5ec",
   "metadata": {
    "deletable": false,
    "editable": false,
    "run_control": {
     "frozen": true
    }
   },
   "source": [
    "|    ID    | Fullname           | Contribution rate |\n",
    "| :------: | :----------------- | :---------------: |\n",
    "| 20127323 | Võ Nhật Tân        |                   |\n",
    "| 20127447 | Ngô Đức Bảo        |                   |\n",
    "| 20127275 | Lê Nguyễn Nhật Phú |                   |\n",
    "| 20127681 | Nguyễn Thiên Phúc  |                   |\n"
   ]
  },
  {
   "cell_type": "markdown",
   "id": "8d9a0c2c",
   "metadata": {},
   "source": [
    "## Import Libraries\n"
   ]
  },
  {
   "cell_type": "code",
   "execution_count": 1,
   "id": "1b03b544",
   "metadata": {},
   "outputs": [],
   "source": [
    "import numpy as np\n",
    "import time\n",
    "import pandas as pd\n",
    "import random\n",
    "import requests\n",
    "import requests_cache\n",
    "import warnings\n",
    "from bs4 import BeautifulSoup\n",
    "import os.path\n",
    "from concurrent.futures import ThreadPoolExecutor, process, wait"
   ]
  },
  {
   "cell_type": "code",
   "execution_count": 2,
   "id": "a1b2a123",
   "metadata": {},
   "outputs": [],
   "source": [
    "from selenium import webdriver\n",
    "from selenium.webdriver.common.keys import Keys\n",
    "from selenium.webdriver.common.by import By\n",
    "from selenium.webdriver.support.ui import WebDriverWait\n",
    "from selenium.webdriver.support import expected_conditions as EC"
   ]
  },
  {
   "cell_type": "code",
   "execution_count": 3,
   "id": "0533e35a",
   "metadata": {},
   "outputs": [],
   "source": [
    "requests_cache.install_cache('cache', expire_after=None)\n",
    "np.set_printoptions(precision= 3, suppress=True)\n",
    "pd.set_option('display.max_colwidth', 100) \n",
    "pd.set_option('display.max_columns', 100)\n",
    "pd.set_option('display.float_format', '{:.3f}'.format)"
   ]
  },
  {
   "cell_type": "code",
   "execution_count": 4,
   "id": "e9fef3af",
   "metadata": {},
   "outputs": [],
   "source": [
    "SLEEP_TIME = 2\n",
    "SCROLL_PAUSE_TIME = 0.5"
   ]
  },
  {
   "cell_type": "markdown",
   "id": "23b98d35",
   "metadata": {
    "deletable": false,
    "editable": false,
    "heading_collapsed": true,
    "run_control": {
     "frozen": true
    }
   },
   "source": [
    "## Data Collection"
   ]
  },
  {
   "cell_type": "code",
   "execution_count": null,
   "id": "d8ee96fb",
   "metadata": {
    "hidden": true
   },
   "outputs": [],
   "source": [
    "def asynchronousGetWebData(listData, getDataFunc, *argv, max_screens = 6,):\n",
    "    '''\n",
    "    Input:\n",
    "        - listData: list of urls which need to parse the content to the useful information \n",
    "        - getDataFunc - func: Fucntion supports parse each item in listData to get information\n",
    "            * First parameter must be the item in list data\n",
    "            * The next parameter is saved in *argv\n",
    "        - max_screens - int: Maximum screens that open at the same time\n",
    "        \n",
    "    Output:\n",
    "        - Returns list of result data\n",
    "    '''\n",
    "    result_value = []\n",
    "    \n",
    "    for item_index in range(0, len(listData), max_screens):\n",
    "        start = item_index\n",
    "        end = item_index + max_screens\n",
    "        if end > len(listData):\n",
    "            end = len(listData)\n",
    "            \n",
    "        tmpData = listData[start:end]\n",
    "        threadList = []\n",
    "        with ThreadPoolExecutor() as executor:\n",
    "            for url in tmpData:\n",
    "                threadList.append(executor.submit(getDataFunc, url, *argv))\n",
    "                \n",
    "        wait(threadList)\n",
    "        \n",
    "        for thread in threadList:\n",
    "            if thread.done() and not thread.cancelled():\n",
    "                result_value.append(thread.result())\n",
    "    return result_value\n",
    "    "
   ]
  },
  {
   "cell_type": "markdown",
   "id": "1156f81e",
   "metadata": {
    "heading_collapsed": true,
    "hidden": true
   },
   "source": [
    "### Collect Users"
   ]
  },
  {
   "cell_type": "code",
   "execution_count": null,
   "id": "88e0b079",
   "metadata": {
    "hidden": true
   },
   "outputs": [],
   "source": [
    "urlList = [ 'https://soundcloud.com/user-593335594/sets/is-500-songs-the-playlist', \\\n",
    "            'https://soundcloud.com/user-593335594/sets/amazing-artistry-2',\\\n",
    "            'https://soundcloud.com/user-593335594/sets/playlist-that-wont-crash-my',\\\n",
    "            'https://soundcloud.com/user-593335594/sets/my-personal-favorites',\\\n",
    "            'https://soundcloud.com/user-593335594/sets/amazing',\\\n",
    "            'https://soundcloud.com/user-593335594/sets/i-found-more-music',\\\n",
    "            'https://soundcloud.com/user-593335594/sets/chivalry-is-dead',\\\n",
    "            'https://soundcloud.com/idla/sets/old-songs',\\\n",
    "            'https://soundcloud.com/idla/sets/pop-playlist-2020',\\\n",
    "            'https://soundcloud.com/idla/sets/lost-in-the-blues',\\\n",
    "            'https://soundcloud.com/user987150052/sets/hot-playlist',\\\n",
    "            'https://soundcloud.com/user61185041/sets/hot-playlist',\\\n",
    "            'https://soundcloud.com/discover/sets/charts-top:all-music:vn',\\\n",
    "            'https://soundcloud.com/discover/sets/charts-trending:danceedm:vn',\\\n",
    "            'https://soundcloud.com/bytufekci/sets/top-100-songs-of-2020']"
   ]
  },
  {
   "cell_type": "code",
   "execution_count": null,
   "id": "20be5a34",
   "metadata": {
    "hidden": true
   },
   "outputs": [],
   "source": [
    "def getAllUserURL(url):\n",
    "    driver = webdriver.Chrome()\n",
    "    driver.maximize_window()\n",
    "    driver.get(url)\n",
    "    userProfileUrl = set()\n",
    "    try:\n",
    "        WebDriverWait(driver, 10).until(EC.element_to_be_clickable((By.ID, 'onetrust-accept-btn-handler'))).click()\n",
    "    except:\n",
    "        pass\n",
    "\n",
    "    #Scroll to the bottom\n",
    "    last_height = driver.execute_script(\"return document.body.scrollHeight\")\n",
    "    while True:\n",
    "        # Scroll down to bottom\n",
    "        driver.execute_script(\"window.scrollTo(0, document.body.scrollHeight);\")\n",
    "        # Wait to load page\n",
    "        time.sleep(SCROLL_PAUSE_TIME)\n",
    "        # Calculate new scroll height and compare with last scroll height\n",
    "        new_height = driver.execute_script(\"return document.body.scrollHeight\")\n",
    "        if new_height == last_height:\n",
    "            break\n",
    "        last_height = new_height\n",
    "        \n",
    "    WebDriverWait(driver, 10).until(EC.element_to_be_clickable((By.CLASS_NAME, 'trackItem__username')))\n",
    "    newUserUrl = driver.find_elements(By.CLASS_NAME, 'trackItem__username')\n",
    "    for user in newUserUrl:\n",
    "        userProfileUrl.add(user.get_attribute('href'))\n",
    "    driver.close()\n",
    "    return userProfileUrl"
   ]
  },
  {
   "cell_type": "code",
   "execution_count": null,
   "id": "16102445",
   "metadata": {
    "hidden": true
   },
   "outputs": [],
   "source": [
    "userUrlList = []\n",
    "if os.path.isfile('linkusercaches.txt'):\n",
    "    with open('linkusercaches.txt', 'r') as f:\n",
    "        userUrlList = f.read().splitlines()\n",
    "\n",
    "else:\n",
    "    data = asynchronousGetWebData(urlList, getAllUserURL)\n",
    "    userUrlList = []\n",
    "    for item in data:\n",
    "        userUrlList = userUrlList + list(item)\n",
    "    userUrlList = list(set(userUrlList))\n",
    "    with open(r'linkusercaches.txt', 'w') as fp:\n",
    "        for item in userUrlList:\n",
    "            # write each item on a new line\n",
    "            fp.write(\"%s\\n\" % item)\n",
    "            \n",
    "print(f'The number of profile link: {len(userUrlList)}')"
   ]
  },
  {
   "cell_type": "code",
   "execution_count": null,
   "id": "ac21a6a3",
   "metadata": {
    "hidden": true
   },
   "outputs": [],
   "source": [
    "def get_user_info(url):    \n",
    "    driver = webdriver.Chrome()\n",
    "    driver.maximize_window()\n",
    "    driver.get(url)\n",
    "    #try:\n",
    "    #WebDriverWait(driver, 10).until(EC.element_to_be_clickable((By.ID, 'onetrust-accept-btn-handler'))).click()\n",
    "    #except:\n",
    "        #pass\n",
    "    username = WebDriverWait(driver, 10).until(EC.element_to_be_clickable((By.CSS_SELECTOR, 'h2.profileHeaderInfo__userName'))).text\n",
    "\n",
    "    isVertified = driver.find_element(By.CSS_SELECTOR, 'h2.profileHeaderInfo__userName>div').text\n",
    "    if len(isVertified) > 0: username = username.strip()[:-len(isVertified.strip())].strip()\n",
    "    userID = url.split('/')[-1]\n",
    "    userurl = url\n",
    "    WebDriverWait(driver, 10).until(EC.element_to_be_clickable((By.CLASS_NAME, 'infoStats__value.sc-font-light')))\n",
    "    info = driver.find_elements(By.CLASS_NAME, 'infoStats__value.sc-font-light')\n",
    "    followers = info[0].text\n",
    "    following = info[1].text\n",
    "    tracks = info[2].text\n",
    "    #go to user's sets which have the url https://soundcloud.com/{userID}/sets\n",
    "    driver.get(f'https://soundcloud.com/{userID}/sets')\n",
    "    playlistIDs = []\n",
    "    time.sleep(1)\n",
    "    WebDriverWait(driver, 10).until(EC.presence_of_element_located((By.CSS_SELECTOR, \".emptyNetworkPage__headline, .sc-link-primary.soundTitle__title.sc-link-dark.sc-text-h4\")))\n",
    "\n",
    "    if not driver.find_elements(By.CLASS_NAME, 'emptyNetworkPage__headline'):\n",
    "        playlist = driver.find_elements(By.CLASS_NAME, 'sc-link-primary.soundTitle__title.sc-link-dark.sc-text-h4')\n",
    "        if len(playlist) != 0:\n",
    "            for p in playlist:\n",
    "                playlistIDs.append(p.get_attribute('href').split('/')[-1])\n",
    "\n",
    "        \n",
    "    driver.close()\n",
    "    return [userID, username, len(isVertified.strip()) > 0, userurl, followers, following, tracks, \";\".join(playlistIDs)]"
   ]
  },
  {
   "cell_type": "code",
   "execution_count": null,
   "id": "c0f92d76",
   "metadata": {
    "hidden": true
   },
   "outputs": [],
   "source": [
    "#this cell takes a long time to run (more than 114 minutes to go through 1278 users)\n",
    "#data = asynchronousGetWebData(userUrlList, get_user_info)\n",
    "index_range_list = np.linspace(0, len(userUrlList), 6).astype(np.int64)\n",
    "users = pd.DataFrame(columns=['UserID', 'Username', 'Verified', 'UserURL', 'Followers', 'Following', 'NumOfTracks', 'PlaylistIDs'])\n",
    "for i in range(5):\n",
    "    start_index = index_range_list[i]\n",
    "    end_index = index_range_list[i + 1]\n",
    "    data = asynchronousGetWebData(userUrlList[start_index:end_index], get_user_info)\n",
    "\n",
    "    mini_user = pd.DataFrame(data, columns=['UserID', 'Username', 'Verified', 'UserURL', 'Followers', 'Following', 'NumOfTracks', 'PlaylistIDs'])\n",
    "    users = pd.concat([users, mini_user])\n",
    "    \n",
    "users.to_csv('users.csv', index=False)"
   ]
  },
  {
   "cell_type": "markdown",
   "id": "79d0cd44",
   "metadata": {
    "heading_collapsed": true,
    "hidden": true
   },
   "source": [
    "### Collect Playlists"
   ]
  },
  {
   "cell_type": "code",
   "execution_count": null,
   "id": "cc57e0f0",
   "metadata": {
    "hidden": true
   },
   "outputs": [],
   "source": [
    "users = pd.read_csv('users.csv', index_col=\"UserID\")\n",
    "print(users.shape)\n",
    "users.head()"
   ]
  },
  {
   "cell_type": "code",
   "execution_count": null,
   "id": "bf303baf",
   "metadata": {
    "hidden": true
   },
   "outputs": [],
   "source": [
    "users[\"PlaylistIDs\"] = users[\"PlaylistIDs\"].str.split(';')"
   ]
  },
  {
   "cell_type": "code",
   "execution_count": null,
   "id": "285769cc",
   "metadata": {
    "hidden": true
   },
   "outputs": [],
   "source": [
    "userPlaylist = users.explode(\"PlaylistIDs\").dropna(subset=[\"PlaylistIDs\"])\n",
    "userPlaylist"
   ]
  },
  {
   "cell_type": "code",
   "execution_count": null,
   "id": "6dc13c7a",
   "metadata": {
    "hidden": true
   },
   "outputs": [],
   "source": [
    "listPlaylistURL = userPlaylist[['PlaylistIDs', 'UserURL']]\n",
    "listPlaylistURL['PlaylistUrl'] = listPlaylistURL['UserURL'] + '/sets/' + listPlaylistURL['PlaylistIDs']\n",
    "listPlaylistURL.reset_index(inplace=True)"
   ]
  },
  {
   "cell_type": "code",
   "execution_count": null,
   "id": "29687935",
   "metadata": {
    "hidden": true
   },
   "outputs": [],
   "source": [
    "def getPlayListInfo(urlPlaylistInfo):\n",
    "    userID ,urlPlaylist = urlPlaylistInfo[0], urlPlaylistInfo[1]\n",
    "    \n",
    "    driver = webdriver.Chrome()\n",
    "    driver.maximize_window()\n",
    "    driver.get(urlPlaylist)\n",
    "    \n",
    "    last_height = driver.execute_script(\"return document.body.scrollHeight\")\n",
    "    while True:\n",
    "        # Scroll down to bottom\n",
    "        driver.execute_script(\"window.scrollTo(0, document.body.scrollHeight);\")\n",
    "        # Wait to load page\n",
    "        time.sleep(SCROLL_PAUSE_TIME)\n",
    "        # Calculate new scroll height and compare with last scroll height\n",
    "        new_height = driver.execute_script(\"return document.body.scrollHeight\")\n",
    "        if new_height == last_height:\n",
    "            break\n",
    "        last_height = new_height\n",
    "    time.sleep(SLEEP_TIME)\n",
    "    \n",
    "    try:\n",
    "        PlaylistName = driver.find_element(By.CSS_SELECTOR, 'h1.soundTitle__title').text\n",
    "    except:\n",
    "        PlaylistName = None\n",
    "    #check Likes \n",
    "\n",
    "    try:\n",
    "        Likes = driver.find_element(By.CLASS_NAME, 'sc-ministats-likes').find_elements(By.TAG_NAME, 'span')[1].text\n",
    "    except:\n",
    "        Likes = None\n",
    "    #check Reposts\n",
    "    try:\n",
    "        Reposts = driver.find_element(By.CLASS_NAME, 'sc-ministats-reposts').find_elements(By.TAG_NAME, 'span')[1].text\n",
    "    except:\n",
    "        Reposts = None\n",
    "    #check Datetime\n",
    "    try:\n",
    "        Datetime = driver.find_element(By.CLASS_NAME, 'relativeTime').get_attribute('datetime')\n",
    "    except:\n",
    "        Datetime = None\n",
    "    #check TagContent\n",
    "    try:\n",
    "        TagContent = driver.find_element(By.CLASS_NAME, 'sc-tagContent').text.split(',')\n",
    "    except:\n",
    "        TagContent = None\n",
    "    \n",
    "    \n",
    "\n",
    "    driver.close()\n",
    "    return [userID, PlaylistName, urlPlaylist, Likes, Reposts, TagContent, Datetime]"
   ]
  },
  {
   "cell_type": "code",
   "execution_count": null,
   "id": "d71e756b",
   "metadata": {
    "hidden": true
   },
   "outputs": [],
   "source": [
    "index_range_list = np.linspace(0, len(listPlaylistURL), 10).astype(np.int64)\n",
    "playlists = pd.DataFrame(columns=['UserIDPlaylist' , 'PlaylistName', 'PlaylistURL', 'Likes', 'Reposts', 'TagContent' , 'Uploadtime'])\n",
    "\n",
    "for i in range(len(index_range_list) - 1):\n",
    "    start_index = index_range_list[i]\n",
    "    end_index = index_range_list[i + 1]\n",
    "    data = asynchronousGetWebData(listPlaylistURL[[\"UserID\", \"PlaylistUrl\"]][start_index:end_index].values, getPlayListInfo)\n",
    "\n",
    "    mini_playlists = pd.DataFrame(data, columns=['UserIDPlaylist' , 'PlaylistName', 'PlaylistURL', 'Likes', 'Reposts', 'TagContent' , 'Uploadtime'])\n",
    "    playlists = pd.concat([playlists, mini_playlists])"
   ]
  },
  {
   "cell_type": "code",
   "execution_count": null,
   "id": "92cd6e48",
   "metadata": {
    "hidden": true
   },
   "outputs": [],
   "source": [
    "playlists = playlists.reset_index(drop=True)\n",
    "playlists_copy = playlists.copy()"
   ]
  },
  {
   "cell_type": "code",
   "execution_count": null,
   "id": "cd924e48",
   "metadata": {
    "hidden": true
   },
   "outputs": [],
   "source": [
    "driver = webdriver.Chrome()\n",
    "driver.maximize_window()\n",
    "url_col = list()\n",
    "for i in range(len(playlists)):\n",
    "    row = list()\n",
    "    driver.get(playlists['PlaylistURL'][i])\n",
    "\n",
    "    last_height = driver.execute_script(\"return document.body.scrollHeight\")\n",
    "    while True:\n",
    "        # Scroll down to bottom\n",
    "        driver.execute_script(\"window.scrollTo(0, document.body.scrollHeight);\")\n",
    "        # Wait to load page\n",
    "        time.sleep(SCROLL_PAUSE_TIME)\n",
    "        # Calculate new scroll height and compare with last scroll height\n",
    "        new_height = driver.execute_script(\"return document.body.scrollHeight\")\n",
    "        if new_height == last_height:\n",
    "            break\n",
    "        last_height = new_height\n",
    "\n",
    "    try:\n",
    "        WebDriverWait(driver, 10).until(EC.element_to_be_clickable((By.CLASS_NAME, 'trackItem__trackTitle')))\n",
    "        list_of_url = driver.find_elements(By.CLASS_NAME, 'trackItem__trackTitle')\n",
    "        for element in driver.find_elements(By.CLASS_NAME, 'trackItem__trackTitle'):\n",
    "            row.append(element.get_attribute('href').split('?')[0])\n",
    "    except:\n",
    "        pass\n",
    "\n",
    "    url_col.append(row)\n",
    "driver.quit()"
   ]
  },
  {
   "cell_type": "code",
   "execution_count": null,
   "id": "e0f7aea9",
   "metadata": {
    "hidden": true
   },
   "outputs": [],
   "source": [
    "playlists = playlists_copy.copy()\n",
    "def fill_correct_form(row):\n",
    "    data = row.copy()\n",
    "    if row['TagContent'] != None and len(row['TagContent']) > 0 and row['TagContent'][0] != '':\n",
    "        data['TagContent'] = row['TagContent'][0]\n",
    "    else: data['TagContent'] = None\n",
    "    return data\n",
    "\n",
    "\n",
    "playlists = playlists.apply(fill_correct_form, axis = 1)\n",
    "playlists"
   ]
  },
  {
   "cell_type": "code",
   "execution_count": null,
   "id": "a2e7920f",
   "metadata": {
    "hidden": true
   },
   "outputs": [],
   "source": [
    "url_col_new = list()\n",
    "for row in url_col:\n",
    "    url_col_new.append(';'.join(row))\n",
    "playlists.insert(len(playlists.columns), 'trackUrl', url_col_new)\n",
    "\n",
    "def empty_to_none(row):\n",
    "    data = row.copy()\n",
    "    if row['trackUrl'] == '':\n",
    "        data['trackUrl'] = None\n",
    "    else:\n",
    "        data['trackUrl'] = row['trackUrl']\n",
    "    return data\n",
    "\n",
    "playlists = playlists.apply(empty_to_none, axis=1)\n",
    "playlists.to_csv('playlists.csv', index=False)"
   ]
  },
  {
   "cell_type": "markdown",
   "id": "3db4c37e",
   "metadata": {
    "heading_collapsed": true,
    "hidden": true
   },
   "source": [
    "### Collect Tracks\n"
   ]
  },
  {
   "cell_type": "code",
   "execution_count": null,
   "id": "b54424fb",
   "metadata": {
    "hidden": true
   },
   "outputs": [],
   "source": [
    "playlists = pd.read_csv('playlists.csv')\n",
    "playlists"
   ]
  },
  {
   "cell_type": "code",
   "execution_count": null,
   "id": "99246250",
   "metadata": {
    "hidden": true
   },
   "outputs": [],
   "source": [
    "list_track_url = playlists['trackUrl']\n",
    "list_track_url = list_track_url.str.split(';')\n",
    "list_track_url = list_track_url.explode().dropna()\n",
    "type(list_track_url)"
   ]
  },
  {
   "cell_type": "code",
   "execution_count": null,
   "id": "9adc6090",
   "metadata": {
    "hidden": true
   },
   "outputs": [],
   "source": [
    "def asynchronousGetWebData_2(listData, getDataFunc, *argv, max_screens = 3,):\n",
    "    '''\n",
    "    Input:\n",
    "        - listData: list of urls which need to parse the content to the useful information \n",
    "        - getDataFunc - func: Fucntion supports parse each item in listData to get information\n",
    "            * Parameter base on function's parameter(s)\n",
    "            * Parameters must be ordered\n",
    "        - max_screens - int: Maximum screens that open at the same time\n",
    "        \n",
    "    Output:\n",
    "        - Returns list of result data\n",
    "    '''\n",
    "    result_value = []\n",
    "\n",
    "    i_range_list = np.linspace(0, len(listData), max_screens + 1).astype(np.int64)\n",
    "\n",
    "    thread_list = []\n",
    "    with ThreadPoolExecutor() as executor:\n",
    "        for i in range(len(i_range_list) - 1):\n",
    "            start = i_range_list[i]\n",
    "            end = i_range_list[i + 1]\n",
    "            thread_list.append(executor.submit(getDataFunc, listData[start:end], *argv))\n",
    "\n",
    "    wait(thread_list)\n",
    "\n",
    "    # thread.result() gonna be a 2D list\n",
    "    for thread in thread_list:\n",
    "        if thread.done() and not thread.cancelled():\n",
    "            result_value.extend(thread.result())\n",
    "\n",
    "    return result_value\n",
    "    "
   ]
  },
  {
   "cell_type": "code",
   "execution_count": null,
   "id": "cfed5598",
   "metadata": {
    "hidden": true
   },
   "outputs": [],
   "source": [
    "def getTrackInfo(url_list):\n",
    "    driver = webdriver.Chrome()\n",
    "    driver.maximize_window()\n",
    "\n",
    "    track_info_list = list()\n",
    "\n",
    "    for url in url_list: \n",
    "        driver.get(url)\n",
    "        \n",
    "        # get user that upload the track\n",
    "        user_id = url.split('/')[3]\n",
    "\n",
    "        # get url track (for clearer variable)\n",
    "        url_track = url\n",
    "        \n",
    "        time.sleep(5)\n",
    "        #get name\n",
    "        try:\n",
    "            name = driver.find_element(By.CLASS_NAME, 'soundTitle__title').text\n",
    "        except:\n",
    "            name = None\n",
    "\n",
    "        #get plays, likes, reposts container\n",
    "        try:\n",
    "            container = driver.find_element(By.CLASS_NAME, 'listenEngagement__stats')\n",
    "        except:\n",
    "            container = driver.find_element(By.CLASS_NAME, 'sound__soundStats')\n",
    "        \n",
    "        #check plays\n",
    "        try:\n",
    "            plays = container.find_element(By.CLASS_NAME, 'sc-ministats-plays').find_elements(By.TAG_NAME, 'span')[1].text\n",
    "        except:\n",
    "            plays = None\n",
    "\n",
    "        #check likes\n",
    "        try:\n",
    "            likes = container.find_element(By.CLASS_NAME, 'sc-ministats-likes').find_elements(By.TAG_NAME, 'span')[1].text\n",
    "        except:\n",
    "            likes = None\n",
    "\n",
    "        #check reposts\n",
    "        try:\n",
    "            reposts = container.find_element(By.CLASS_NAME, 'sc-ministats-reposts').find_elements(By.TAG_NAME, 'span')[1].text\n",
    "        except:\n",
    "            reposts = None\n",
    "\n",
    "         #check comments\n",
    "        try:\n",
    "            comments = driver.find_element(By.CLASS_NAME, 'commentsList__actualTitle').text.split(' ')[0]\n",
    "        except:\n",
    "            comments = None\n",
    "\n",
    "        #check date time\n",
    "        try:\n",
    "            date_time = driver.find_element(By.CLASS_NAME, 'relativeTime').get_attribute('datetime')\n",
    "        except:\n",
    "            date_time = None\n",
    "\n",
    "        #check tag content\n",
    "        try:\n",
    "            tag_content = driver.find_element(By.CLASS_NAME, 'sc-tagContent').text\n",
    "        except:\n",
    "            tag_content = None\n",
    "        \n",
    "        track_info_list.append([user_id, name, url_track, plays, likes, reposts, comments, tag_content, date_time])\n",
    "    \n",
    "    driver.quit()\n",
    "\n",
    "    return track_info_list"
   ]
  },
  {
   "cell_type": "code",
   "execution_count": null,
   "id": "db2e9184",
   "metadata": {
    "hidden": true
   },
   "outputs": [],
   "source": [
    "index_range_list = np.linspace(0, len(list_track_url), 6).astype(np.int64)\n",
    "tracks = pd.DataFrame(columns=['UserIDTrack','TrackName','TrackURL','Plays', 'Likes', 'Reposts', 'Comments', 'TagContent' , 'Uploadtime'])\n",
    "\n",
    "for i in range(len(index_range_list) - 1):\n",
    "    start_index = index_range_list[i]\n",
    "    end_index = index_range_list[i + 1]\n",
    "    data = asynchronousGetWebData_2(list_track_url[start_index:end_index].values, getTrackInfo)\n",
    "\n",
    "    mini_tracks = pd.DataFrame(data, columns=['UserIDTrack','TrackName','TrackURL','Plays', 'Likes', 'Reposts', 'Comments', 'TagContent' , 'Uploadtime'])\n",
    "    tracks = pd.concat([tracks, mini_tracks])"
   ]
  },
  {
   "cell_type": "code",
   "execution_count": null,
   "id": "a5098eac",
   "metadata": {
    "hidden": true
   },
   "outputs": [],
   "source": [
    "tracks.to_csv('tracks.csv', index=False)"
   ]
  },
  {
   "cell_type": "markdown",
   "id": "ff526629",
   "metadata": {
    "heading_collapsed": true,
    "hidden": true
   },
   "source": [
    "### Make three file relate to each other\n"
   ]
  },
  {
   "cell_type": "code",
   "execution_count": null,
   "id": "45c4b6fd",
   "metadata": {
    "hidden": true
   },
   "outputs": [],
   "source": [
    "tracks = pd.read_csv('tracks.csv')\n",
    "playlists = pd.read_csv('playlists.csv')\n",
    "users = pd.read_csv('users.csv')"
   ]
  },
  {
   "cell_type": "code",
   "execution_count": null,
   "id": "38c87fac",
   "metadata": {
    "hidden": true
   },
   "outputs": [],
   "source": [
    "tracks = tracks.drop_duplicates(subset=['TrackURL']).reset_index(drop=True)\n",
    "playlists = playlists.drop_duplicates(subset=['PlaylistURL']).reset_index(drop=True)"
   ]
  },
  {
   "cell_type": "code",
   "execution_count": null,
   "id": "00132fc8",
   "metadata": {
    "hidden": true
   },
   "outputs": [],
   "source": [
    "# refill column 'playlistIDs' in dataframe playlists with list index in dataframe users\n",
    "def get_right_playlist_id(row):\n",
    "    if pd.isnull(row['playlistIDs']):\n",
    "        return None\n",
    "    list_playlist_id = row['playlistIDs'].split(';')\n",
    "    playlist_ids = list()\n",
    "    for playlist in list_playlist_id:\n",
    "        playlist_url = row['userUrl'] + '/sets/' + playlist\n",
    "        playlist_id = playlists[playlists['PlaylistURL'] == playlist_url]\n",
    "        if playlist_id.empty:\n",
    "            continue\n",
    "        playlist_ids.append(str(playlist_id.index[0]))\n",
    "    # No playlist_id matched\n",
    "    if len(playlist_ids) == 0:\n",
    "        return None\n",
    "    return ';'.join(playlist_ids)\n",
    "users['playlistIDs'] = users.apply(get_right_playlist_id, axis=1)"
   ]
  },
  {
   "cell_type": "code",
   "execution_count": null,
   "id": "38e6bb97",
   "metadata": {
    "hidden": true
   },
   "outputs": [],
   "source": [
    "# refill column 'UserIDTrack' in dataframe tracks with index in dataframe users\n",
    "def get_right_user_id(row):\n",
    "    user_id = users[users['userID'] == row['UserIDTrack']]\n",
    "    if user_id.empty:\n",
    "        return np.nan\n",
    "    else:\n",
    "        return user_id.index[0]\n",
    "tracks['UserIDTrack'] = tracks.apply(get_right_user_id, axis=1)"
   ]
  },
  {
   "cell_type": "code",
   "execution_count": null,
   "id": "71b3e624",
   "metadata": {
    "hidden": true
   },
   "outputs": [],
   "source": [
    "# refill column 'UserIDPlaylist' in dataframe playlists with index in dataframe users\n",
    "def get_right_user_id_playlist(row):\n",
    "    user_id = users[users['userID'] == row['UserIDPlaylist']]\n",
    "    if user_id.empty:\n",
    "        return np.nan\n",
    "    else:\n",
    "        return user_id.index[0]\n",
    "playlists['UserIDPlaylist'] = playlists.apply(get_right_user_id_playlist, axis=1)\n",
    "\n",
    "# refill column 'trackUrl' in dataframe playlists with list index in dataframe tracks\n",
    "def get_right_track_id(row):\n",
    "    if pd.isnull(row['trackUrl']):\n",
    "        return None\n",
    "    list_track_url = row['trackUrl'].split(';')\n",
    "    track_ids = list()\n",
    "    for track in list_track_url:\n",
    "        track_id = tracks[tracks['TrackURL'] == track]\n",
    "        if track_id.empty:\n",
    "            continue\n",
    "        track_ids.append(str(track_id.index[0]))\n",
    "    if track_ids[0] == '':\n",
    "        return None\n",
    "    return ';'.join(track_ids)\n",
    "playlists['trackUrl'] = playlists.apply(get_right_track_id, axis=1)"
   ]
  },
  {
   "cell_type": "code",
   "execution_count": null,
   "id": "d2cd2dab",
   "metadata": {
    "hidden": true
   },
   "outputs": [],
   "source": [
    "users['UserID'] = users.index\n",
    "playlists['PlaylistID'] = playlists.index\n",
    "tracks['TrackID'] = tracks.index"
   ]
  },
  {
   "cell_type": "code",
   "execution_count": null,
   "id": "de33b6e7",
   "metadata": {
    "hidden": true
   },
   "outputs": [],
   "source": [
    "users = users.drop(columns=['userID'])\n",
    "temp_cols=users.columns.tolist()\n",
    "new_cols=temp_cols[-1:] + temp_cols[:-1]\n",
    "users=users[new_cols]"
   ]
  },
  {
   "cell_type": "code",
   "execution_count": null,
   "id": "11d92bad",
   "metadata": {
    "hidden": true
   },
   "outputs": [],
   "source": [
    "temp_cols=playlists.columns.tolist()\n",
    "new_cols=temp_cols[-1:] + temp_cols[:-1]\n",
    "playlists=playlists[new_cols]"
   ]
  },
  {
   "cell_type": "code",
   "execution_count": null,
   "id": "220339ac",
   "metadata": {
    "hidden": true
   },
   "outputs": [],
   "source": [
    "temp_cols=tracks.columns.tolist()\n",
    "new_cols=temp_cols[-1:] + temp_cols[:-1]\n",
    "tracks=tracks[new_cols]"
   ]
  },
  {
   "cell_type": "code",
   "execution_count": null,
   "id": "ed152283",
   "metadata": {
    "hidden": true
   },
   "outputs": [],
   "source": [
    "users = users.rename(columns={\"username\": \"Username\", \"userUrl\": \"UserURL\", \"followers\": \"Followers\", \n",
    "                            \"following\": \"Following\", \"tracks\": \"NumOfTracks\", \"playlistIDs\": \"PlaylistIDs\"})\n",
    "playlists = playlists.rename(columns={\"UserIDPlaylist\": \"UserID\", \"trackUrl\": \"TrackID\"})\n",
    "tracks = tracks.rename(columns={\"UserIDTrack\": \"UserID\"})"
   ]
  },
  {
   "cell_type": "code",
   "execution_count": null,
   "id": "2c4c203d",
   "metadata": {
    "hidden": true
   },
   "outputs": [],
   "source": [
    "users.to_csv('users.csv', index=False)\n",
    "playlists.to_csv('playlists.csv', index=False)\n",
    "tracks.to_csv('tracks.csv', index=False)"
   ]
  },
  {
   "cell_type": "markdown",
   "id": "6a89d136",
   "metadata": {
    "deletable": false,
    "editable": false,
    "run_control": {
     "frozen": true
    }
   },
   "source": [
    "## Exploratory Data Analysis\n"
   ]
  },
  {
   "cell_type": "markdown",
   "id": "fbee3fbc",
   "metadata": {},
   "source": [
    "### Load Datasets\n"
   ]
  },
  {
   "cell_type": "code",
   "execution_count": 5,
   "id": "7ea30da6",
   "metadata": {},
   "outputs": [],
   "source": [
    "#Load datasets\n",
    "tracks_df = pd.read_csv('tracks.csv', index_col = ['TrackID'])\n",
    "playlists_df = pd.read_csv('playlists.csv', index_col = ['PlaylistID'])\n",
    "users_df = pd.read_csv('users.csv', index_col = ['UserID'])"
   ]
  },
  {
   "cell_type": "code",
   "execution_count": 6,
   "id": "1ab99f37",
   "metadata": {},
   "outputs": [
    {
     "data": {
      "text/html": [
       "<div>\n",
       "<style scoped>\n",
       "    .dataframe tbody tr th:only-of-type {\n",
       "        vertical-align: middle;\n",
       "    }\n",
       "\n",
       "    .dataframe tbody tr th {\n",
       "        vertical-align: top;\n",
       "    }\n",
       "\n",
       "    .dataframe thead th {\n",
       "        text-align: right;\n",
       "    }\n",
       "</style>\n",
       "<table border=\"1\" class=\"dataframe\">\n",
       "  <thead>\n",
       "    <tr style=\"text-align: right;\">\n",
       "      <th></th>\n",
       "      <th>TrackName</th>\n",
       "      <th>UserID</th>\n",
       "      <th>TrackURL</th>\n",
       "      <th>Plays</th>\n",
       "      <th>Likes</th>\n",
       "      <th>Reposts</th>\n",
       "      <th>Comments</th>\n",
       "      <th>TagContent</th>\n",
       "      <th>Uploadtime</th>\n",
       "    </tr>\n",
       "    <tr>\n",
       "      <th>TrackID</th>\n",
       "      <th></th>\n",
       "      <th></th>\n",
       "      <th></th>\n",
       "      <th></th>\n",
       "      <th></th>\n",
       "      <th></th>\n",
       "      <th></th>\n",
       "      <th></th>\n",
       "      <th></th>\n",
       "    </tr>\n",
       "  </thead>\n",
       "  <tbody>\n",
       "    <tr>\n",
       "      <th>0</th>\n",
       "      <td>ARCANE (Transcend Into The New Paradigm)</td>\n",
       "      <td>1207.000</td>\n",
       "      <td>https://soundcloud.com/lala-land-361191160/arcane-transcend-into-the-new-paradigm</td>\n",
       "      <td>10.1K</td>\n",
       "      <td>179</td>\n",
       "      <td>88</td>\n",
       "      <td>76</td>\n",
       "      <td>Experimental Trap</td>\n",
       "      <td>2021-11-04T20:55:56.000Z</td>\n",
       "    </tr>\n",
       "    <tr>\n",
       "      <th>1</th>\n",
       "      <td>LOCKDOWN</td>\n",
       "      <td>1207.000</td>\n",
       "      <td>https://soundcloud.com/lala-land-361191160/lockdown</td>\n",
       "      <td>10.1K</td>\n",
       "      <td>150</td>\n",
       "      <td>77</td>\n",
       "      <td>55</td>\n",
       "      <td>Drill</td>\n",
       "      <td>2021-12-03T18:29:10.000Z</td>\n",
       "    </tr>\n",
       "    <tr>\n",
       "      <th>2</th>\n",
       "      <td>MESIAH</td>\n",
       "      <td>1207.000</td>\n",
       "      <td>https://soundcloud.com/lala-land-361191160/mesiah</td>\n",
       "      <td>11.2K</td>\n",
       "      <td>191</td>\n",
       "      <td>111</td>\n",
       "      <td>61</td>\n",
       "      <td>Hip-hop &amp; Rap</td>\n",
       "      <td>2021-12-20T19:35:51.000Z</td>\n",
       "    </tr>\n",
       "    <tr>\n",
       "      <th>3</th>\n",
       "      <td>E.P. Speaks (Intro) (Prod. By E.P. Beats)</td>\n",
       "      <td>NaN</td>\n",
       "      <td>https://soundcloud.com/dj_david254/e-p-speaks-intro</td>\n",
       "      <td>272</td>\n",
       "      <td>17</td>\n",
       "      <td>2</td>\n",
       "      <td>NaN</td>\n",
       "      <td>Hip-hop &amp; Rap</td>\n",
       "      <td>2019-07-27T03:15:46.000Z</td>\n",
       "    </tr>\n",
       "    <tr>\n",
       "      <th>4</th>\n",
       "      <td>MR. VICK (Prod. By E.P. Beats)</td>\n",
       "      <td>NaN</td>\n",
       "      <td>https://soundcloud.com/dj_david254/mr-vick-prod-by-e-p-beats</td>\n",
       "      <td>246</td>\n",
       "      <td>17</td>\n",
       "      <td>2</td>\n",
       "      <td>NaN</td>\n",
       "      <td>Hip-hop &amp; Rap</td>\n",
       "      <td>2019-07-27T03:15:44.000Z</td>\n",
       "    </tr>\n",
       "  </tbody>\n",
       "</table>\n",
       "</div>"
      ],
      "text/plain": [
       "                                         TrackName   UserID  \\\n",
       "TrackID                                                       \n",
       "0         ARCANE (Transcend Into The New Paradigm) 1207.000   \n",
       "1                                         LOCKDOWN 1207.000   \n",
       "2                                           MESIAH 1207.000   \n",
       "3        E.P. Speaks (Intro) (Prod. By E.P. Beats)      NaN   \n",
       "4                   MR. VICK (Prod. By E.P. Beats)      NaN   \n",
       "\n",
       "                                                                                  TrackURL  \\\n",
       "TrackID                                                                                      \n",
       "0        https://soundcloud.com/lala-land-361191160/arcane-transcend-into-the-new-paradigm   \n",
       "1                                      https://soundcloud.com/lala-land-361191160/lockdown   \n",
       "2                                        https://soundcloud.com/lala-land-361191160/mesiah   \n",
       "3                                      https://soundcloud.com/dj_david254/e-p-speaks-intro   \n",
       "4                             https://soundcloud.com/dj_david254/mr-vick-prod-by-e-p-beats   \n",
       "\n",
       "         Plays Likes Reposts Comments         TagContent  \\\n",
       "TrackID                                                    \n",
       "0        10.1K   179      88       76  Experimental Trap   \n",
       "1        10.1K   150      77       55              Drill   \n",
       "2        11.2K   191     111       61      Hip-hop & Rap   \n",
       "3          272    17       2      NaN      Hip-hop & Rap   \n",
       "4          246    17       2      NaN      Hip-hop & Rap   \n",
       "\n",
       "                       Uploadtime  \n",
       "TrackID                            \n",
       "0        2021-11-04T20:55:56.000Z  \n",
       "1        2021-12-03T18:29:10.000Z  \n",
       "2        2021-12-20T19:35:51.000Z  \n",
       "3        2019-07-27T03:15:46.000Z  \n",
       "4        2019-07-27T03:15:44.000Z  "
      ]
     },
     "execution_count": 6,
     "metadata": {},
     "output_type": "execute_result"
    }
   ],
   "source": [
    "tracks_df.head()"
   ]
  },
  {
   "cell_type": "code",
   "execution_count": 7,
   "id": "b5147f62",
   "metadata": {},
   "outputs": [
    {
     "data": {
      "text/html": [
       "<div>\n",
       "<style scoped>\n",
       "    .dataframe tbody tr th:only-of-type {\n",
       "        vertical-align: middle;\n",
       "    }\n",
       "\n",
       "    .dataframe tbody tr th {\n",
       "        vertical-align: top;\n",
       "    }\n",
       "\n",
       "    .dataframe thead th {\n",
       "        text-align: right;\n",
       "    }\n",
       "</style>\n",
       "<table border=\"1\" class=\"dataframe\">\n",
       "  <thead>\n",
       "    <tr style=\"text-align: right;\">\n",
       "      <th></th>\n",
       "      <th>UserID</th>\n",
       "      <th>PlaylistName</th>\n",
       "      <th>PlaylistURL</th>\n",
       "      <th>Likes</th>\n",
       "      <th>Reposts</th>\n",
       "      <th>TagContent</th>\n",
       "      <th>Uploadtime</th>\n",
       "      <th>TrackID</th>\n",
       "    </tr>\n",
       "    <tr>\n",
       "      <th>PlaylistID</th>\n",
       "      <th></th>\n",
       "      <th></th>\n",
       "      <th></th>\n",
       "      <th></th>\n",
       "      <th></th>\n",
       "      <th></th>\n",
       "      <th></th>\n",
       "      <th></th>\n",
       "    </tr>\n",
       "  </thead>\n",
       "  <tbody>\n",
       "    <tr>\n",
       "      <th>0</th>\n",
       "      <td>0</td>\n",
       "      <td>The Arcane Trilogy</td>\n",
       "      <td>https://soundcloud.com/e-p-beats/sets/the-arcane-trilogy</td>\n",
       "      <td>3</td>\n",
       "      <td>3</td>\n",
       "      <td>NaN</td>\n",
       "      <td>2022-01-14T22:11:32.000Z</td>\n",
       "      <td>0;1;2</td>\n",
       "    </tr>\n",
       "    <tr>\n",
       "      <th>1</th>\n",
       "      <td>0</td>\n",
       "      <td>(Prod/Feat) E.P. Beats</td>\n",
       "      <td>https://soundcloud.com/e-p-beats/sets/prod-by-e-p-beats</td>\n",
       "      <td>44</td>\n",
       "      <td>18</td>\n",
       "      <td>Hip-hop &amp; Rap</td>\n",
       "      <td>2019-07-30T21:23:37.000Z</td>\n",
       "      <td>3;4;5;6;7;8;9;10;11;12;13;14;15;16;17;18;19;20;21;22;23;24;25;26;27;28;29;30;31;32;33;34;35;36;3...</td>\n",
       "    </tr>\n",
       "    <tr>\n",
       "      <th>2</th>\n",
       "      <td>1</td>\n",
       "      <td>MahnoraBotdf</td>\n",
       "      <td>https://soundcloud.com/mahnorabotdf/sets/mahnorabotdf</td>\n",
       "      <td>1</td>\n",
       "      <td>NaN</td>\n",
       "      <td>blue</td>\n",
       "      <td>2015-07-22T07:02:08.000Z</td>\n",
       "      <td>213;214;215</td>\n",
       "    </tr>\n",
       "    <tr>\n",
       "      <th>3</th>\n",
       "      <td>2</td>\n",
       "      <td>These Two Windows</td>\n",
       "      <td>https://soundcloud.com/alecbenjamin/sets/these-two-windows</td>\n",
       "      <td>4441</td>\n",
       "      <td>348</td>\n",
       "      <td>NaN</td>\n",
       "      <td>2020-05-29T04:01:28.000Z</td>\n",
       "      <td>216;217;218;219;220;221;222;223;224;225</td>\n",
       "    </tr>\n",
       "    <tr>\n",
       "      <th>4</th>\n",
       "      <td>6</td>\n",
       "      <td>SGV - Snow In April (OUT NOW)</td>\n",
       "      <td>https://soundcloud.com/etherealmedia/sets/sgv-snow-in-april-out-now</td>\n",
       "      <td>8</td>\n",
       "      <td>2</td>\n",
       "      <td>NaN</td>\n",
       "      <td>2020-04-22T03:13:36.000Z</td>\n",
       "      <td>226</td>\n",
       "    </tr>\n",
       "  </tbody>\n",
       "</table>\n",
       "</div>"
      ],
      "text/plain": [
       "            UserID                   PlaylistName  \\\n",
       "PlaylistID                                          \n",
       "0                0             The Arcane Trilogy   \n",
       "1                0         (Prod/Feat) E.P. Beats   \n",
       "2                1                   MahnoraBotdf   \n",
       "3                2              These Two Windows   \n",
       "4                6  SGV - Snow In April (OUT NOW)   \n",
       "\n",
       "                                                                    PlaylistURL  \\\n",
       "PlaylistID                                                                        \n",
       "0                      https://soundcloud.com/e-p-beats/sets/the-arcane-trilogy   \n",
       "1                       https://soundcloud.com/e-p-beats/sets/prod-by-e-p-beats   \n",
       "2                         https://soundcloud.com/mahnorabotdf/sets/mahnorabotdf   \n",
       "3                    https://soundcloud.com/alecbenjamin/sets/these-two-windows   \n",
       "4           https://soundcloud.com/etherealmedia/sets/sgv-snow-in-april-out-now   \n",
       "\n",
       "           Likes Reposts     TagContent                Uploadtime  \\\n",
       "PlaylistID                                                          \n",
       "0              3       3            NaN  2022-01-14T22:11:32.000Z   \n",
       "1             44      18  Hip-hop & Rap  2019-07-30T21:23:37.000Z   \n",
       "2              1     NaN           blue  2015-07-22T07:02:08.000Z   \n",
       "3           4441     348            NaN  2020-05-29T04:01:28.000Z   \n",
       "4              8       2            NaN  2020-04-22T03:13:36.000Z   \n",
       "\n",
       "                                                                                                        TrackID  \n",
       "PlaylistID                                                                                                       \n",
       "0                                                                                                         0;1;2  \n",
       "1           3;4;5;6;7;8;9;10;11;12;13;14;15;16;17;18;19;20;21;22;23;24;25;26;27;28;29;30;31;32;33;34;35;36;3...  \n",
       "2                                                                                                   213;214;215  \n",
       "3                                                                       216;217;218;219;220;221;222;223;224;225  \n",
       "4                                                                                                           226  "
      ]
     },
     "execution_count": 7,
     "metadata": {},
     "output_type": "execute_result"
    }
   ],
   "source": [
    "playlists_df.head()"
   ]
  },
  {
   "cell_type": "code",
   "execution_count": 8,
   "id": "116425ef",
   "metadata": {},
   "outputs": [
    {
     "data": {
      "text/html": [
       "<div>\n",
       "<style scoped>\n",
       "    .dataframe tbody tr th:only-of-type {\n",
       "        vertical-align: middle;\n",
       "    }\n",
       "\n",
       "    .dataframe tbody tr th {\n",
       "        vertical-align: top;\n",
       "    }\n",
       "\n",
       "    .dataframe thead th {\n",
       "        text-align: right;\n",
       "    }\n",
       "</style>\n",
       "<table border=\"1\" class=\"dataframe\">\n",
       "  <thead>\n",
       "    <tr style=\"text-align: right;\">\n",
       "      <th></th>\n",
       "      <th>Username</th>\n",
       "      <th>Verified</th>\n",
       "      <th>UserURL</th>\n",
       "      <th>Followers</th>\n",
       "      <th>Following</th>\n",
       "      <th>NumOfTracks</th>\n",
       "      <th>PlaylistIDs</th>\n",
       "    </tr>\n",
       "    <tr>\n",
       "      <th>UserID</th>\n",
       "      <th></th>\n",
       "      <th></th>\n",
       "      <th></th>\n",
       "      <th></th>\n",
       "      <th></th>\n",
       "      <th></th>\n",
       "      <th></th>\n",
       "    </tr>\n",
       "  </thead>\n",
       "  <tbody>\n",
       "    <tr>\n",
       "      <th>0</th>\n",
       "      <td>P-Town Anthems (E.P. Beats)</td>\n",
       "      <td>False</td>\n",
       "      <td>https://soundcloud.com/e-p-beats</td>\n",
       "      <td>510</td>\n",
       "      <td>1,327</td>\n",
       "      <td>2</td>\n",
       "      <td>0;1</td>\n",
       "    </tr>\n",
       "    <tr>\n",
       "      <th>1</th>\n",
       "      <td>Mahnora-Botdf</td>\n",
       "      <td>False</td>\n",
       "      <td>https://soundcloud.com/mahnorabotdf</td>\n",
       "      <td>89</td>\n",
       "      <td>1</td>\n",
       "      <td>14</td>\n",
       "      <td>2</td>\n",
       "    </tr>\n",
       "    <tr>\n",
       "      <th>2</th>\n",
       "      <td>Alec Benjamin</td>\n",
       "      <td>True</td>\n",
       "      <td>https://soundcloud.com/alecbenjamin</td>\n",
       "      <td>223K</td>\n",
       "      <td>0</td>\n",
       "      <td>91</td>\n",
       "      <td>3</td>\n",
       "    </tr>\n",
       "    <tr>\n",
       "      <th>3</th>\n",
       "      <td>Shaikh &amp; Shaikhi</td>\n",
       "      <td>False</td>\n",
       "      <td>https://soundcloud.com/muhammad-salman-mansoor</td>\n",
       "      <td>2,043</td>\n",
       "      <td>161</td>\n",
       "      <td>39</td>\n",
       "      <td>NaN</td>\n",
       "    </tr>\n",
       "    <tr>\n",
       "      <th>4</th>\n",
       "      <td>Jiala Ji</td>\n",
       "      <td>False</td>\n",
       "      <td>https://soundcloud.com/jialaji</td>\n",
       "      <td>164</td>\n",
       "      <td>204</td>\n",
       "      <td>9</td>\n",
       "      <td>NaN</td>\n",
       "    </tr>\n",
       "  </tbody>\n",
       "</table>\n",
       "</div>"
      ],
      "text/plain": [
       "                           Username  Verified  \\\n",
       "UserID                                          \n",
       "0       P-Town Anthems (E.P. Beats)     False   \n",
       "1                     Mahnora-Botdf     False   \n",
       "2                     Alec Benjamin      True   \n",
       "3                  Shaikh & Shaikhi     False   \n",
       "4                          Jiala Ji     False   \n",
       "\n",
       "                                               UserURL Followers Following  \\\n",
       "UserID                                                                       \n",
       "0                     https://soundcloud.com/e-p-beats       510     1,327   \n",
       "1                  https://soundcloud.com/mahnorabotdf        89         1   \n",
       "2                  https://soundcloud.com/alecbenjamin      223K         0   \n",
       "3       https://soundcloud.com/muhammad-salman-mansoor     2,043       161   \n",
       "4                       https://soundcloud.com/jialaji       164       204   \n",
       "\n",
       "       NumOfTracks PlaylistIDs  \n",
       "UserID                          \n",
       "0                2         0;1  \n",
       "1               14           2  \n",
       "2               91           3  \n",
       "3               39         NaN  \n",
       "4                9         NaN  "
      ]
     },
     "execution_count": 8,
     "metadata": {},
     "output_type": "execute_result"
    }
   ],
   "source": [
    "users_df.head()"
   ]
  },
  {
   "cell_type": "markdown",
   "id": "52537beb",
   "metadata": {},
   "source": [
    "### Get size of each dataset\n"
   ]
  },
  {
   "cell_type": "code",
   "execution_count": 9,
   "id": "e4d98dc0",
   "metadata": {},
   "outputs": [
    {
     "name": "stdout",
     "output_type": "stream",
     "text": [
      "Tracks size: 15457 rows; 9 columns\n",
      "Playlists size: 2504 rows; 8 columns\n",
      "Users size: 1354 rows; 7 columns\n"
     ]
    }
   ],
   "source": [
    "#Dataset size\n",
    "print(f'Tracks size: {tracks_df.shape[0]} rows; {tracks_df.shape[1]} columns')\n",
    "print(f'Playlists size: {playlists_df.shape[0]} rows; {playlists_df.shape[1]} columns')\n",
    "print(f'Users size: {users_df.shape[0]} rows; {users_df.shape[1]} columns')"
   ]
  },
  {
   "cell_type": "markdown",
   "id": "82c66a22",
   "metadata": {},
   "source": [
    "### Check the duplicate data in each dataset\n"
   ]
  },
  {
   "cell_type": "code",
   "execution_count": 10,
   "id": "10915e07",
   "metadata": {},
   "outputs": [],
   "source": [
    "# Tracks\n",
    "is_tracks_duplicate = tracks_df.duplicated().sum()\n",
    "is_playlists_duplicate = playlists_df.duplicated().sum()\n",
    "is_users_duplicate  = users_df.duplicated().sum()"
   ]
  },
  {
   "cell_type": "code",
   "execution_count": 11,
   "id": "60133860",
   "metadata": {},
   "outputs": [
    {
     "name": "stdout",
     "output_type": "stream",
     "text": [
      "Count the sample of tracks duplicated: 0\n",
      "Count the sample of playlists duplicated: 0\n",
      "Count the sample of users duplicated: 0\n"
     ]
    }
   ],
   "source": [
    "print(f'Count the sample of tracks duplicated: {is_tracks_duplicate}')\n",
    "print(f'Count the sample of playlists duplicated: {is_playlists_duplicate}')\n",
    "print(f'Count the sample of users duplicated: {is_users_duplicate}')"
   ]
  },
  {
   "cell_type": "markdown",
   "id": "772664e5",
   "metadata": {},
   "source": [
    "### Meaning of each column\n"
   ]
  },
  {
   "cell_type": "markdown",
   "id": "8cc87c14",
   "metadata": {},
   "source": [
    "**_1. Track's columns information_**\n",
    "\n",
    "| Column Name | Meaning                                                              |\n",
    "| :---------- | :------------------------------------------------------------------- |\n",
    "| TrackID     | The ID of the track                                                  |\n",
    "| UserID      | The ID of the user publishing the track                              |\n",
    "| TrackURL    | The URL of the track                                                 |\n",
    "| Plays       | A number of people listened the song                                 |\n",
    "| Likes       | A number of people liked this song                                   |\n",
    "| Reposts     | A number of people reposted this song                                |\n",
    "| Comments    | A number of comments in this this song                               |\n",
    "| TagContent  | Tag is defined by the owner, it is usually the mainly genre of songs |\n",
    "| Uploadtime  | Time creates the playlist                                            |\n"
   ]
  },
  {
   "cell_type": "markdown",
   "id": "ce9212df",
   "metadata": {},
   "source": [
    "**_2. Playlists's columns information_**\n",
    "\n",
    "| Column Name | Meaning                                                              |\n",
    "| ----------- | -------------------------------------------------------------------- |\n",
    "| PlaylistID  | The ID of the playlist                                               |\n",
    "| UserID      | The ID of the user owns the playlist                                 |\n",
    "| PlaylistURL | The URL of the playlist                                              |\n",
    "| Likes       | A number of people liked the playlist                                |\n",
    "| Reposts     | A number of people reposted this playlist                            |\n",
    "| TagContent  | Tag is defined by the owner, it is usually the mainly genre of songs |\n",
    "| Uploadtime  | Time creates the playlist                                            |\n",
    "| TrackIDs    | A list contains IDs of tracks which user add to this playlist        |\n"
   ]
  },
  {
   "cell_type": "markdown",
   "id": "51812480",
   "metadata": {},
   "source": [
    "**_3. Users's columns information_**\n",
    "\n",
    "| Column Name | Meaning                                      |\n",
    "| ----------- | -------------------------------------------- |\n",
    "| UserID      | The ID of the user                           |\n",
    "| Username    | The name of the user                         |\n",
    "| Verified    | Is the user verified by Soundcloud?          |\n",
    "| UserURL     | The URL of the user                          |\n",
    "| Followers   | A number of people follows the user          |\n",
    "| Following   | A number of people is followed by the user   |\n",
    "| NumOfTracks | A number of tracks which this user creates   |\n",
    "| PlaylistIDs | A list contains IDs of playlists own by user |\n"
   ]
  },
  {
   "cell_type": "markdown",
   "id": "28aa8172",
   "metadata": {},
   "source": [
    "### Process the name and datatype of the columns that isn't suitable for further processing\n"
   ]
  },
  {
   "cell_type": "code",
   "execution_count": 12,
   "id": "1343eba8",
   "metadata": {},
   "outputs": [],
   "source": [
    "def convert_numberic(column, isCopy = True):\n",
    "    if isCopy: column = column.copy()\n",
    "    column_tmp = column\n",
    "    \n",
    "    if column.dtypes != object:\n",
    "        return column\n",
    "    \n",
    "    try:\n",
    "        column_tmp = column.replace(r'[KM]+$|[,]', '', regex=True).astype(float) * \\\n",
    "                     column.str.extract(r'[\\d\\.]+([KM]+)', expand=False).fillna(1) \\\n",
    "                               .replace(['K','M'], [10**3, 10**6]).astype(int)\n",
    "        return column_tmp\n",
    "    except Exception as e:\n",
    "        warnings.warn(\"Oops!\", e.__class__, \"occurred.\")\n",
    "        return column_tmp"
   ]
  },
  {
   "cell_type": "markdown",
   "id": "70a8412b",
   "metadata": {},
   "source": [
    "#### 1. Tracks dataset\n"
   ]
  },
  {
   "cell_type": "code",
   "execution_count": 13,
   "id": "d9934cf9",
   "metadata": {},
   "outputs": [],
   "source": [
    "tracks_df =  pd.read_csv('tracks.csv', index_col = ['TrackID'])"
   ]
  },
  {
   "cell_type": "code",
   "execution_count": 14,
   "id": "1ad717ea",
   "metadata": {},
   "outputs": [
    {
     "name": "stdout",
     "output_type": "stream",
     "text": [
      "Datatype of each column in Tracks dataset: \n",
      "TrackName      object\n",
      "UserID        float64\n",
      "TrackURL       object\n",
      "Plays          object\n",
      "Likes          object\n",
      "Reposts        object\n",
      "Comments       object\n",
      "TagContent     object\n",
      "Uploadtime     object\n",
      "dtype: object\n"
     ]
    }
   ],
   "source": [
    "print('Datatype of each column in Tracks dataset: ')\n",
    "print(tracks_df.dtypes)"
   ]
  },
  {
   "cell_type": "markdown",
   "id": "04a36448",
   "metadata": {},
   "source": [
    "As we can see, Plays, Likes, Repost and Comments columns indicates the number of people so that it is the numberic attributes.\n"
   ]
  },
  {
   "cell_type": "code",
   "execution_count": 15,
   "id": "6cdbe268",
   "metadata": {},
   "outputs": [
    {
     "name": "stdout",
     "output_type": "stream",
     "text": [
      "Values are not a instance of number datatype in Play column: []\n",
      "Values are not a instance of number datatype in Likes column: []\n",
      "Values are not a instance of number datatype in Reposts column: []\n",
      "Values are not a instance of number datatype in Comments column: ['Comments']\n"
     ]
    }
   ],
   "source": [
    "#Checking Plays, Likes, Reposts, Comments columns is the instance of numberic datatype\n",
    "\n",
    "values_not_number_plays_column = tracks_df[~tracks_df[\"Plays\"].str.contains(\"[\\d,\\\\.MK]\", regex=True, na=True)]\\\n",
    "                                   [\"Plays\"].unique()\n",
    "\n",
    "values_not_number_likes_column = tracks_df[~tracks_df[\"Likes\"].str.contains(\"[\\d,\\\\.MK]\", regex=True, na=True)]\\\n",
    "                                   [\"Likes\"].unique()\n",
    "\n",
    "values_not_number_reposts_column = tracks_df[~tracks_df[\"Reposts\"].str.contains(\"[\\d,\\\\.MK]\", regex=True, na=True)]\\\n",
    "                                   [\"Reposts\"].unique()\n",
    "\n",
    "values_not_number_comments_column = tracks_df[~tracks_df[\"Comments\"].str.contains(\"[\\d,\\\\.MK]\", regex=True, na=True)]\\\n",
    "                                             [\"Comments\"].unique()\n",
    "\n",
    "\n",
    "print(f\"Values are not a instance of number datatype in Play column: {values_not_number_plays_column}\")\n",
    "print(f\"Values are not a instance of number datatype in Likes column: {values_not_number_likes_column}\")\n",
    "print(f\"Values are not a instance of number datatype in Reposts column: {values_not_number_reposts_column}\")\n",
    "print(f\"Values are not a instance of number datatype in Comments column: {values_not_number_comments_column}\")"
   ]
  },
  {
   "cell_type": "markdown",
   "id": "54c1c934",
   "metadata": {},
   "source": [
    "All of values in Likes and Reposts are a instance of numberic datatype except values in Comments column. Therefore, we replace the values which are not the number datatype to the nan values.\n"
   ]
  },
  {
   "cell_type": "code",
   "execution_count": 16,
   "id": "92565bca",
   "metadata": {},
   "outputs": [],
   "source": [
    "# Replace the values which are not numbers with nan values\n",
    "tracks_df[\"Comments\"] = tracks_df[\"Comments\"].replace(\"|\".join(values_not_number_comments_column), np.nan)"
   ]
  },
  {
   "cell_type": "code",
   "execution_count": 17,
   "id": "338a255a",
   "metadata": {},
   "outputs": [],
   "source": [
    "#Convert datatype of Likes, Reposts, Comments columns to number datatype\n",
    "tracks_df[\"Plays\"] = convert_numberic(tracks_df[\"Plays\"])\n",
    "tracks_df[\"Likes\"] = convert_numberic(tracks_df[\"Likes\"])\n",
    "tracks_df[\"Reposts\"] = convert_numberic(tracks_df[\"Reposts\"])\n",
    "tracks_df[\"Comments\"] = convert_numberic(tracks_df[\"Comments\"])"
   ]
  },
  {
   "cell_type": "code",
   "execution_count": 18,
   "id": "c4cc8c05",
   "metadata": {},
   "outputs": [],
   "source": [
    "#Convert Uploadtime columns to datetime datatype\n",
    "tracks_df['Uploadtime'] = pd.to_datetime(tracks_df['Uploadtime'])"
   ]
  },
  {
   "cell_type": "code",
   "execution_count": 19,
   "id": "71f08f8a",
   "metadata": {},
   "outputs": [],
   "source": [
    "#Update the name of columns in Playlists dataset\n",
    "tracks_df.rename(columns = {'Uploadtime':'UploadTime'}, inplace = True)"
   ]
  },
  {
   "cell_type": "code",
   "execution_count": 20,
   "id": "56f87448",
   "metadata": {},
   "outputs": [
    {
     "data": {
      "text/plain": [
       "TrackName                  object\n",
       "UserID                    float64\n",
       "TrackURL                   object\n",
       "Plays                     float64\n",
       "Likes                     float64\n",
       "Reposts                   float64\n",
       "Comments                  float64\n",
       "TagContent                 object\n",
       "UploadTime    datetime64[ns, UTC]\n",
       "dtype: object"
      ]
     },
     "execution_count": 20,
     "metadata": {},
     "output_type": "execute_result"
    }
   ],
   "source": [
    "tracks_df.dtypes "
   ]
  },
  {
   "cell_type": "code",
   "execution_count": 21,
   "id": "f6a63c93",
   "metadata": {},
   "outputs": [
    {
     "data": {
      "text/html": [
       "<div>\n",
       "<style scoped>\n",
       "    .dataframe tbody tr th:only-of-type {\n",
       "        vertical-align: middle;\n",
       "    }\n",
       "\n",
       "    .dataframe tbody tr th {\n",
       "        vertical-align: top;\n",
       "    }\n",
       "\n",
       "    .dataframe thead th {\n",
       "        text-align: right;\n",
       "    }\n",
       "</style>\n",
       "<table border=\"1\" class=\"dataframe\">\n",
       "  <thead>\n",
       "    <tr style=\"text-align: right;\">\n",
       "      <th></th>\n",
       "      <th>TrackName</th>\n",
       "      <th>UserID</th>\n",
       "      <th>TrackURL</th>\n",
       "      <th>Plays</th>\n",
       "      <th>Likes</th>\n",
       "      <th>Reposts</th>\n",
       "      <th>Comments</th>\n",
       "      <th>TagContent</th>\n",
       "      <th>UploadTime</th>\n",
       "    </tr>\n",
       "    <tr>\n",
       "      <th>TrackID</th>\n",
       "      <th></th>\n",
       "      <th></th>\n",
       "      <th></th>\n",
       "      <th></th>\n",
       "      <th></th>\n",
       "      <th></th>\n",
       "      <th></th>\n",
       "      <th></th>\n",
       "      <th></th>\n",
       "    </tr>\n",
       "  </thead>\n",
       "  <tbody>\n",
       "    <tr>\n",
       "      <th>0</th>\n",
       "      <td>ARCANE (Transcend Into The New Paradigm)</td>\n",
       "      <td>1207.000</td>\n",
       "      <td>https://soundcloud.com/lala-land-361191160/arcane-transcend-into-the-new-paradigm</td>\n",
       "      <td>10100.000</td>\n",
       "      <td>179.000</td>\n",
       "      <td>88.000</td>\n",
       "      <td>76.000</td>\n",
       "      <td>Experimental Trap</td>\n",
       "      <td>2021-11-04 20:55:56+00:00</td>\n",
       "    </tr>\n",
       "    <tr>\n",
       "      <th>1</th>\n",
       "      <td>LOCKDOWN</td>\n",
       "      <td>1207.000</td>\n",
       "      <td>https://soundcloud.com/lala-land-361191160/lockdown</td>\n",
       "      <td>10100.000</td>\n",
       "      <td>150.000</td>\n",
       "      <td>77.000</td>\n",
       "      <td>55.000</td>\n",
       "      <td>Drill</td>\n",
       "      <td>2021-12-03 18:29:10+00:00</td>\n",
       "    </tr>\n",
       "    <tr>\n",
       "      <th>2</th>\n",
       "      <td>MESIAH</td>\n",
       "      <td>1207.000</td>\n",
       "      <td>https://soundcloud.com/lala-land-361191160/mesiah</td>\n",
       "      <td>11200.000</td>\n",
       "      <td>191.000</td>\n",
       "      <td>111.000</td>\n",
       "      <td>61.000</td>\n",
       "      <td>Hip-hop &amp; Rap</td>\n",
       "      <td>2021-12-20 19:35:51+00:00</td>\n",
       "    </tr>\n",
       "    <tr>\n",
       "      <th>3</th>\n",
       "      <td>E.P. Speaks (Intro) (Prod. By E.P. Beats)</td>\n",
       "      <td>NaN</td>\n",
       "      <td>https://soundcloud.com/dj_david254/e-p-speaks-intro</td>\n",
       "      <td>272.000</td>\n",
       "      <td>17.000</td>\n",
       "      <td>2.000</td>\n",
       "      <td>NaN</td>\n",
       "      <td>Hip-hop &amp; Rap</td>\n",
       "      <td>2019-07-27 03:15:46+00:00</td>\n",
       "    </tr>\n",
       "    <tr>\n",
       "      <th>4</th>\n",
       "      <td>MR. VICK (Prod. By E.P. Beats)</td>\n",
       "      <td>NaN</td>\n",
       "      <td>https://soundcloud.com/dj_david254/mr-vick-prod-by-e-p-beats</td>\n",
       "      <td>246.000</td>\n",
       "      <td>17.000</td>\n",
       "      <td>2.000</td>\n",
       "      <td>NaN</td>\n",
       "      <td>Hip-hop &amp; Rap</td>\n",
       "      <td>2019-07-27 03:15:44+00:00</td>\n",
       "    </tr>\n",
       "  </tbody>\n",
       "</table>\n",
       "</div>"
      ],
      "text/plain": [
       "                                         TrackName   UserID  \\\n",
       "TrackID                                                       \n",
       "0         ARCANE (Transcend Into The New Paradigm) 1207.000   \n",
       "1                                         LOCKDOWN 1207.000   \n",
       "2                                           MESIAH 1207.000   \n",
       "3        E.P. Speaks (Intro) (Prod. By E.P. Beats)      NaN   \n",
       "4                   MR. VICK (Prod. By E.P. Beats)      NaN   \n",
       "\n",
       "                                                                                  TrackURL  \\\n",
       "TrackID                                                                                      \n",
       "0        https://soundcloud.com/lala-land-361191160/arcane-transcend-into-the-new-paradigm   \n",
       "1                                      https://soundcloud.com/lala-land-361191160/lockdown   \n",
       "2                                        https://soundcloud.com/lala-land-361191160/mesiah   \n",
       "3                                      https://soundcloud.com/dj_david254/e-p-speaks-intro   \n",
       "4                             https://soundcloud.com/dj_david254/mr-vick-prod-by-e-p-beats   \n",
       "\n",
       "            Plays   Likes  Reposts  Comments         TagContent  \\\n",
       "TrackID                                                           \n",
       "0       10100.000 179.000   88.000    76.000  Experimental Trap   \n",
       "1       10100.000 150.000   77.000    55.000              Drill   \n",
       "2       11200.000 191.000  111.000    61.000      Hip-hop & Rap   \n",
       "3         272.000  17.000    2.000       NaN      Hip-hop & Rap   \n",
       "4         246.000  17.000    2.000       NaN      Hip-hop & Rap   \n",
       "\n",
       "                       UploadTime  \n",
       "TrackID                            \n",
       "0       2021-11-04 20:55:56+00:00  \n",
       "1       2021-12-03 18:29:10+00:00  \n",
       "2       2021-12-20 19:35:51+00:00  \n",
       "3       2019-07-27 03:15:46+00:00  \n",
       "4       2019-07-27 03:15:44+00:00  "
      ]
     },
     "execution_count": 21,
     "metadata": {},
     "output_type": "execute_result"
    }
   ],
   "source": [
    "tracks_df.head()"
   ]
  },
  {
   "cell_type": "markdown",
   "id": "ebd33e71",
   "metadata": {},
   "source": [
    "#### 2. Playlists Dataset\n"
   ]
  },
  {
   "cell_type": "code",
   "execution_count": 22,
   "id": "d3e63635",
   "metadata": {},
   "outputs": [],
   "source": [
    "playlists_df =  pd.read_csv('playlists.csv', index_col = ['PlaylistID'])"
   ]
  },
  {
   "cell_type": "code",
   "execution_count": 23,
   "id": "8574b552",
   "metadata": {},
   "outputs": [
    {
     "name": "stdout",
     "output_type": "stream",
     "text": [
      "Datatype of each column in Playlists dataset: \n",
      "UserID           int64\n",
      "PlaylistName    object\n",
      "PlaylistURL     object\n",
      "Likes           object\n",
      "Reposts         object\n",
      "TagContent      object\n",
      "Uploadtime      object\n",
      "TrackID         object\n",
      "dtype: object\n"
     ]
    }
   ],
   "source": [
    "#Show the columns' datatype\n",
    "print('Datatype of each column in Playlists dataset: ')\n",
    "print(playlists_df.dtypes)"
   ]
  },
  {
   "cell_type": "code",
   "execution_count": 24,
   "id": "2cde0c7b",
   "metadata": {},
   "outputs": [
    {
     "name": "stdout",
     "output_type": "stream",
     "text": [
      "Values are not a instance of number datatype in Likes column: []\n",
      "Values are not a instance of number datatype in Reposts column: []\n"
     ]
    }
   ],
   "source": [
    "#Checking Likes, Reposts columns is the instance of numberic datatype\n",
    "\n",
    "values_not_number_likes_column = playlists_df[~playlists_df[\"Likes\"].str.contains(\"[\\d,\\\\.MK]\", regex=True, na=True)]\\\n",
    "                                   [\"Likes\"].unique()\n",
    "\n",
    "values_not_number_reposts_column = playlists_df[~playlists_df[\"Reposts\"].str.contains(\"[\\d,\\\\.MK]\", regex=True, na=True)]\\\n",
    "                                   [\"Reposts\"].unique()\n",
    "\n",
    "print(f\"Values are not a instance of number datatype in Likes column: {values_not_number_likes_column}\")\n",
    "print(f\"Values are not a instance of number datatype in Reposts column: {values_not_number_reposts_column}\")"
   ]
  },
  {
   "cell_type": "code",
   "execution_count": 25,
   "id": "db8f66fa",
   "metadata": {},
   "outputs": [],
   "source": [
    "#Convert datatype of Likes, Reposts, Comments columns to number datatype\n",
    "playlists_df[\"Likes\"] = convert_numberic(playlists_df[\"Likes\"])\n",
    "playlists_df[\"Reposts\"] = convert_numberic(playlists_df[\"Reposts\"])"
   ]
  },
  {
   "cell_type": "code",
   "execution_count": 26,
   "id": "04fb53e6",
   "metadata": {},
   "outputs": [],
   "source": [
    "#Convert Uploadtime columns to datetime datatype\n",
    "playlists_df['Uploadtime'] = pd.to_datetime(playlists_df['Uploadtime'])"
   ]
  },
  {
   "cell_type": "code",
   "execution_count": 27,
   "id": "b809ae24",
   "metadata": {},
   "outputs": [],
   "source": [
    "#Update the name of columns in Playlists dataset\n",
    "playlists_df.rename(columns = {'Uploadtime':'UploadTime', 'TrackID': 'ListTrackIDs'}, inplace = True)"
   ]
  },
  {
   "cell_type": "code",
   "execution_count": 28,
   "id": "eee23e17",
   "metadata": {},
   "outputs": [
    {
     "data": {
      "text/plain": [
       "UserID                        int64\n",
       "PlaylistName                 object\n",
       "PlaylistURL                  object\n",
       "Likes                       float64\n",
       "Reposts                     float64\n",
       "TagContent                   object\n",
       "UploadTime      datetime64[ns, UTC]\n",
       "ListTrackIDs                 object\n",
       "dtype: object"
      ]
     },
     "execution_count": 28,
     "metadata": {},
     "output_type": "execute_result"
    }
   ],
   "source": [
    "playlists_df.dtypes"
   ]
  },
  {
   "cell_type": "code",
   "execution_count": 30,
   "id": "17da18f3",
   "metadata": {},
   "outputs": [
    {
     "data": {
      "text/html": [
       "<div>\n",
       "<style scoped>\n",
       "    .dataframe tbody tr th:only-of-type {\n",
       "        vertical-align: middle;\n",
       "    }\n",
       "\n",
       "    .dataframe tbody tr th {\n",
       "        vertical-align: top;\n",
       "    }\n",
       "\n",
       "    .dataframe thead th {\n",
       "        text-align: right;\n",
       "    }\n",
       "</style>\n",
       "<table border=\"1\" class=\"dataframe\">\n",
       "  <thead>\n",
       "    <tr style=\"text-align: right;\">\n",
       "      <th></th>\n",
       "      <th>UserID</th>\n",
       "      <th>PlaylistName</th>\n",
       "      <th>PlaylistURL</th>\n",
       "      <th>Likes</th>\n",
       "      <th>Reposts</th>\n",
       "      <th>TagContent</th>\n",
       "      <th>UploadTime</th>\n",
       "      <th>ListTrackIDs</th>\n",
       "    </tr>\n",
       "    <tr>\n",
       "      <th>PlaylistID</th>\n",
       "      <th></th>\n",
       "      <th></th>\n",
       "      <th></th>\n",
       "      <th></th>\n",
       "      <th></th>\n",
       "      <th></th>\n",
       "      <th></th>\n",
       "      <th></th>\n",
       "    </tr>\n",
       "  </thead>\n",
       "  <tbody>\n",
       "    <tr>\n",
       "      <th>0</th>\n",
       "      <td>0</td>\n",
       "      <td>The Arcane Trilogy</td>\n",
       "      <td>https://soundcloud.com/e-p-beats/sets/the-arcane-trilogy</td>\n",
       "      <td>3.000</td>\n",
       "      <td>3.000</td>\n",
       "      <td>NaN</td>\n",
       "      <td>2022-01-14 22:11:32+00:00</td>\n",
       "      <td>0;1;2</td>\n",
       "    </tr>\n",
       "    <tr>\n",
       "      <th>1</th>\n",
       "      <td>0</td>\n",
       "      <td>(Prod/Feat) E.P. Beats</td>\n",
       "      <td>https://soundcloud.com/e-p-beats/sets/prod-by-e-p-beats</td>\n",
       "      <td>44.000</td>\n",
       "      <td>18.000</td>\n",
       "      <td>Hip-hop &amp; Rap</td>\n",
       "      <td>2019-07-30 21:23:37+00:00</td>\n",
       "      <td>3;4;5;6;7;8;9;10;11;12;13;14;15;16;17;18;19;20;21;22;23;24;25;26;27;28;29;30;31;32;33;34;35;36;3...</td>\n",
       "    </tr>\n",
       "    <tr>\n",
       "      <th>2</th>\n",
       "      <td>1</td>\n",
       "      <td>MahnoraBotdf</td>\n",
       "      <td>https://soundcloud.com/mahnorabotdf/sets/mahnorabotdf</td>\n",
       "      <td>1.000</td>\n",
       "      <td>NaN</td>\n",
       "      <td>blue</td>\n",
       "      <td>2015-07-22 07:02:08+00:00</td>\n",
       "      <td>213;214;215</td>\n",
       "    </tr>\n",
       "    <tr>\n",
       "      <th>3</th>\n",
       "      <td>2</td>\n",
       "      <td>These Two Windows</td>\n",
       "      <td>https://soundcloud.com/alecbenjamin/sets/these-two-windows</td>\n",
       "      <td>4441.000</td>\n",
       "      <td>348.000</td>\n",
       "      <td>NaN</td>\n",
       "      <td>2020-05-29 04:01:28+00:00</td>\n",
       "      <td>216;217;218;219;220;221;222;223;224;225</td>\n",
       "    </tr>\n",
       "    <tr>\n",
       "      <th>4</th>\n",
       "      <td>6</td>\n",
       "      <td>SGV - Snow In April (OUT NOW)</td>\n",
       "      <td>https://soundcloud.com/etherealmedia/sets/sgv-snow-in-april-out-now</td>\n",
       "      <td>8.000</td>\n",
       "      <td>2.000</td>\n",
       "      <td>NaN</td>\n",
       "      <td>2020-04-22 03:13:36+00:00</td>\n",
       "      <td>226</td>\n",
       "    </tr>\n",
       "  </tbody>\n",
       "</table>\n",
       "</div>"
      ],
      "text/plain": [
       "            UserID                   PlaylistName  \\\n",
       "PlaylistID                                          \n",
       "0                0             The Arcane Trilogy   \n",
       "1                0         (Prod/Feat) E.P. Beats   \n",
       "2                1                   MahnoraBotdf   \n",
       "3                2              These Two Windows   \n",
       "4                6  SGV - Snow In April (OUT NOW)   \n",
       "\n",
       "                                                                    PlaylistURL  \\\n",
       "PlaylistID                                                                        \n",
       "0                      https://soundcloud.com/e-p-beats/sets/the-arcane-trilogy   \n",
       "1                       https://soundcloud.com/e-p-beats/sets/prod-by-e-p-beats   \n",
       "2                         https://soundcloud.com/mahnorabotdf/sets/mahnorabotdf   \n",
       "3                    https://soundcloud.com/alecbenjamin/sets/these-two-windows   \n",
       "4           https://soundcloud.com/etherealmedia/sets/sgv-snow-in-april-out-now   \n",
       "\n",
       "              Likes  Reposts     TagContent                UploadTime  \\\n",
       "PlaylistID                                                              \n",
       "0             3.000    3.000            NaN 2022-01-14 22:11:32+00:00   \n",
       "1            44.000   18.000  Hip-hop & Rap 2019-07-30 21:23:37+00:00   \n",
       "2             1.000      NaN           blue 2015-07-22 07:02:08+00:00   \n",
       "3          4441.000  348.000            NaN 2020-05-29 04:01:28+00:00   \n",
       "4             8.000    2.000            NaN 2020-04-22 03:13:36+00:00   \n",
       "\n",
       "                                                                                                   ListTrackIDs  \n",
       "PlaylistID                                                                                                       \n",
       "0                                                                                                         0;1;2  \n",
       "1           3;4;5;6;7;8;9;10;11;12;13;14;15;16;17;18;19;20;21;22;23;24;25;26;27;28;29;30;31;32;33;34;35;36;3...  \n",
       "2                                                                                                   213;214;215  \n",
       "3                                                                       216;217;218;219;220;221;222;223;224;225  \n",
       "4                                                                                                           226  "
      ]
     },
     "execution_count": 30,
     "metadata": {},
     "output_type": "execute_result"
    }
   ],
   "source": [
    "playlists_df.head()"
   ]
  },
  {
   "cell_type": "markdown",
   "id": "90fecd13",
   "metadata": {},
   "source": [
    "#### 3. Users Dataset\n"
   ]
  },
  {
   "cell_type": "code",
   "execution_count": 33,
   "id": "d363f102",
   "metadata": {},
   "outputs": [],
   "source": [
    "users_df = pd.read_csv('users.csv', index_col = ['UserID'])"
   ]
  },
  {
   "cell_type": "code",
   "execution_count": 34,
   "id": "5e38a806",
   "metadata": {},
   "outputs": [
    {
     "name": "stdout",
     "output_type": "stream",
     "text": [
      "Datatype of each column in Users dataset: \n",
      "Username       object\n",
      "Verified         bool\n",
      "UserURL        object\n",
      "Followers      object\n",
      "Following      object\n",
      "NumOfTracks    object\n",
      "PlaylistIDs    object\n",
      "dtype: object\n"
     ]
    }
   ],
   "source": [
    "print('Datatype of each column in Users dataset: ')\n",
    "print(users_df.dtypes)"
   ]
  },
  {
   "cell_type": "code",
   "execution_count": 35,
   "id": "8e7af389",
   "metadata": {},
   "outputs": [
    {
     "name": "stdout",
     "output_type": "stream",
     "text": [
      "Values are not a instance of number datatype in Followers column: []\n",
      "Values are not a instance of number datatype in Following column: []\n",
      "Values are not a instance of number datatype in NumOfTracks column: []\n"
     ]
    }
   ],
   "source": [
    "#Checking Followers, Following, NumOfTracks columns is the instance of numberic datatype\n",
    "\n",
    "values_not_number_followers_column = users_df[~users_df[\"Followers\"].str.contains(\"[\\d,\\\\.MK]\", regex=True, na=True)]\\\n",
    "                                   [\"Followers\"].unique()\n",
    "\n",
    "values_not_number_following_column = users_df[~users_df[\"Following\"].str.contains(\"[\\d,\\\\.MK]\", regex=True, na=True)]\\\n",
    "                                   [\"Following\"].unique()\n",
    "\n",
    "values_not_number_NumOfTracks_column = users_df[~users_df[\"NumOfTracks\"].str.contains(\"[\\d,\\\\.MK]\", regex=True, na=True)]\\\n",
    "                                   [\"NumOfTracks\"].unique()\n",
    "\n",
    "print(f\"Values are not a instance of number datatype in Followers column: {values_not_number_followers_column}\")\n",
    "print(f\"Values are not a instance of number datatype in Following column: {values_not_number_following_column}\")\n",
    "print(f\"Values are not a instance of number datatype in NumOfTracks column: {values_not_number_NumOfTracks_column}\")"
   ]
  },
  {
   "cell_type": "code",
   "execution_count": 36,
   "id": "b58d3773",
   "metadata": {},
   "outputs": [],
   "source": [
    "#Convert datatype of Followers, Following, NumOfTracks columns to number datatype\n",
    "users_df[\"Followers\"] = convert_numberic(users_df[\"Followers\"])\n",
    "users_df[\"Following\"] = convert_numberic(users_df[\"Following\"])\n",
    "users_df[\"NumOfTracks\"] = convert_numberic(users_df[\"NumOfTracks\"])"
   ]
  },
  {
   "cell_type": "code",
   "execution_count": 37,
   "id": "259634bc",
   "metadata": {},
   "outputs": [],
   "source": [
    "#Update the name of columns in Users dataset\n",
    "users_df.rename(columns = {'Uploadtime':'UploadTime', 'PlaylistIDs': 'ListPlaylistIDs'}, inplace = True)"
   ]
  },
  {
   "cell_type": "code",
   "execution_count": 38,
   "id": "a6a973df",
   "metadata": {},
   "outputs": [
    {
     "data": {
      "text/plain": [
       "Username            object\n",
       "Verified              bool\n",
       "UserURL             object\n",
       "Followers          float64\n",
       "Following          float64\n",
       "NumOfTracks        float64\n",
       "ListPlaylistIDs     object\n",
       "dtype: object"
      ]
     },
     "execution_count": 38,
     "metadata": {},
     "output_type": "execute_result"
    }
   ],
   "source": [
    "users_df.dtypes"
   ]
  },
  {
   "cell_type": "code",
   "execution_count": 39,
   "id": "0f88efc5",
   "metadata": {},
   "outputs": [
    {
     "data": {
      "text/html": [
       "<div>\n",
       "<style scoped>\n",
       "    .dataframe tbody tr th:only-of-type {\n",
       "        vertical-align: middle;\n",
       "    }\n",
       "\n",
       "    .dataframe tbody tr th {\n",
       "        vertical-align: top;\n",
       "    }\n",
       "\n",
       "    .dataframe thead th {\n",
       "        text-align: right;\n",
       "    }\n",
       "</style>\n",
       "<table border=\"1\" class=\"dataframe\">\n",
       "  <thead>\n",
       "    <tr style=\"text-align: right;\">\n",
       "      <th></th>\n",
       "      <th>Username</th>\n",
       "      <th>Verified</th>\n",
       "      <th>UserURL</th>\n",
       "      <th>Followers</th>\n",
       "      <th>Following</th>\n",
       "      <th>NumOfTracks</th>\n",
       "      <th>ListPlaylistIDs</th>\n",
       "    </tr>\n",
       "    <tr>\n",
       "      <th>UserID</th>\n",
       "      <th></th>\n",
       "      <th></th>\n",
       "      <th></th>\n",
       "      <th></th>\n",
       "      <th></th>\n",
       "      <th></th>\n",
       "      <th></th>\n",
       "    </tr>\n",
       "  </thead>\n",
       "  <tbody>\n",
       "    <tr>\n",
       "      <th>0</th>\n",
       "      <td>P-Town Anthems (E.P. Beats)</td>\n",
       "      <td>False</td>\n",
       "      <td>https://soundcloud.com/e-p-beats</td>\n",
       "      <td>510.000</td>\n",
       "      <td>1327.000</td>\n",
       "      <td>2.000</td>\n",
       "      <td>0;1</td>\n",
       "    </tr>\n",
       "    <tr>\n",
       "      <th>1</th>\n",
       "      <td>Mahnora-Botdf</td>\n",
       "      <td>False</td>\n",
       "      <td>https://soundcloud.com/mahnorabotdf</td>\n",
       "      <td>89.000</td>\n",
       "      <td>1.000</td>\n",
       "      <td>14.000</td>\n",
       "      <td>2</td>\n",
       "    </tr>\n",
       "    <tr>\n",
       "      <th>2</th>\n",
       "      <td>Alec Benjamin</td>\n",
       "      <td>True</td>\n",
       "      <td>https://soundcloud.com/alecbenjamin</td>\n",
       "      <td>223000.000</td>\n",
       "      <td>0.000</td>\n",
       "      <td>91.000</td>\n",
       "      <td>3</td>\n",
       "    </tr>\n",
       "    <tr>\n",
       "      <th>3</th>\n",
       "      <td>Shaikh &amp; Shaikhi</td>\n",
       "      <td>False</td>\n",
       "      <td>https://soundcloud.com/muhammad-salman-mansoor</td>\n",
       "      <td>2043.000</td>\n",
       "      <td>161.000</td>\n",
       "      <td>39.000</td>\n",
       "      <td>NaN</td>\n",
       "    </tr>\n",
       "    <tr>\n",
       "      <th>4</th>\n",
       "      <td>Jiala Ji</td>\n",
       "      <td>False</td>\n",
       "      <td>https://soundcloud.com/jialaji</td>\n",
       "      <td>164.000</td>\n",
       "      <td>204.000</td>\n",
       "      <td>9.000</td>\n",
       "      <td>NaN</td>\n",
       "    </tr>\n",
       "  </tbody>\n",
       "</table>\n",
       "</div>"
      ],
      "text/plain": [
       "                           Username  Verified  \\\n",
       "UserID                                          \n",
       "0       P-Town Anthems (E.P. Beats)     False   \n",
       "1                     Mahnora-Botdf     False   \n",
       "2                     Alec Benjamin      True   \n",
       "3                  Shaikh & Shaikhi     False   \n",
       "4                          Jiala Ji     False   \n",
       "\n",
       "                                               UserURL  Followers  Following  \\\n",
       "UserID                                                                         \n",
       "0                     https://soundcloud.com/e-p-beats    510.000   1327.000   \n",
       "1                  https://soundcloud.com/mahnorabotdf     89.000      1.000   \n",
       "2                  https://soundcloud.com/alecbenjamin 223000.000      0.000   \n",
       "3       https://soundcloud.com/muhammad-salman-mansoor   2043.000    161.000   \n",
       "4                       https://soundcloud.com/jialaji    164.000    204.000   \n",
       "\n",
       "        NumOfTracks ListPlaylistIDs  \n",
       "UserID                               \n",
       "0             2.000             0;1  \n",
       "1            14.000               2  \n",
       "2            91.000               3  \n",
       "3            39.000             NaN  \n",
       "4             9.000             NaN  "
      ]
     },
     "execution_count": 39,
     "metadata": {},
     "output_type": "execute_result"
    }
   ],
   "source": [
    "users_df.head()"
   ]
  },
  {
   "cell_type": "markdown",
   "id": "bd0ebb8b",
   "metadata": {},
   "source": [
    "### Check the correction of relationship between dataset\n"
   ]
  },
  {
   "cell_type": "code",
   "execution_count": 31,
   "id": "036a86e4",
   "metadata": {},
   "outputs": [
    {
     "name": "stdout",
     "output_type": "stream",
     "text": [
      "There is no problem about relationship between Tracks dataset and Users dataset\n"
     ]
    }
   ],
   "source": [
    "#Check UserID in Tracks exists in Users dataset\n",
    "userID_not_in_users_dataset  = (~tracks_df[\"UserID\"].isin(users_df.index.to_list() + [np.nan])).sum()\n",
    "if userID_not_in_users_dataset > 0:\n",
    "    print('There is a confict between UserID in Tracks dataset and UserID in Users dataset')\n",
    "else:\n",
    "    print('There is no problem about relationship between Tracks dataset and Users dataset')"
   ]
  },
  {
   "cell_type": "code",
   "execution_count": 32,
   "id": "9b06de67",
   "metadata": {},
   "outputs": [
    {
     "name": "stdout",
     "output_type": "stream",
     "text": [
      "There is no problem about relationship between Playlists dataset and Tracks dataset\n"
     ]
    }
   ],
   "source": [
    "#Check TrackID in Playlists exists in Tracks dataset\n",
    "\n",
    "trackIDs_in_playlists = playlists_df[\"ListTrackIDs\"].str.split(';').explode().astype(np.float64)\n",
    "\n",
    "trackIDs_not_in_tracks_dataset  = (~trackIDs_in_playlists.isin(tracks_df.index.to_list() + [np.nan])).sum()\n",
    "\n",
    "if trackIDs_not_in_tracks_dataset > 0:\n",
    "    print('There is a confict between TrackID in Playlists dataset and TrackID in Track dataset')\n",
    "else:\n",
    "    print('There is no problem about relationship between Playlists dataset and Tracks dataset')"
   ]
  },
  {
   "cell_type": "code",
   "execution_count": 40,
   "id": "4a1a79d6",
   "metadata": {},
   "outputs": [
    {
     "name": "stdout",
     "output_type": "stream",
     "text": [
      "There is no problem about relationship between Playlists dataset and Users dataset\n"
     ]
    }
   ],
   "source": [
    "#Check UserID in Playlists exists in Users dataset\n",
    "\n",
    "userIDs_not_in_users_dataset  = (~playlists_df[\"UserID\"].isin(users_df.index.to_list() + [np.nan])).sum()\n",
    "\n",
    "if userIDs_not_in_users_dataset > 0:\n",
    "    print('There is a confict between UserID in Playlists dataset and UserID in Users dataset')\n",
    "else:\n",
    "    print('There is no problem about relationship between Playlists dataset and Users dataset')"
   ]
  },
  {
   "cell_type": "code",
   "execution_count": 41,
   "id": "02849950",
   "metadata": {},
   "outputs": [
    {
     "name": "stdout",
     "output_type": "stream",
     "text": [
      "There is no problem about relationship between Users dataset and Playlists dataset\n"
     ]
    }
   ],
   "source": [
    "#Check PlaylistID in Users exists in PlaylistID dataset\n",
    "\n",
    "users_df\n",
    "playlistIDs_in_users = users_df[\"ListPlaylistIDs\"].str.split(';').explode().astype(np.float64)\n",
    "\n",
    "playlistIDs_not_in_playlists_dataset  = (~playlistIDs_in_users.isin(playlists_df.index.to_list() + [np.nan])).sum()\n",
    "playlistIDs_not_in_playlists_dataset\n",
    "\n",
    "if playlistIDs_not_in_playlists_dataset > 0:\n",
    "    print('There is a confict between PlaylistID in Users dataset and PlaylistID in Playlists dataset')\n",
    "else:\n",
    "    print('There is no problem about relationship between Users dataset and Playlists dataset')"
   ]
  },
  {
   "cell_type": "markdown",
   "id": "2fd20ff6",
   "metadata": {},
   "source": [
    "### The distribution of data in numberic columns in each datasets\n"
   ]
  },
  {
   "cell_type": "code",
   "execution_count": 42,
   "id": "c5773d41",
   "metadata": {},
   "outputs": [
    {
     "name": "stdout",
     "output_type": "stream",
     "text": [
      "Numberic data distribution in Tracks Dataset: \n"
     ]
    },
    {
     "data": {
      "text/html": [
       "<div>\n",
       "<style scoped>\n",
       "    .dataframe tbody tr th:only-of-type {\n",
       "        vertical-align: middle;\n",
       "    }\n",
       "\n",
       "    .dataframe tbody tr th {\n",
       "        vertical-align: top;\n",
       "    }\n",
       "\n",
       "    .dataframe thead th {\n",
       "        text-align: right;\n",
       "    }\n",
       "</style>\n",
       "<table border=\"1\" class=\"dataframe\">\n",
       "  <thead>\n",
       "    <tr style=\"text-align: right;\">\n",
       "      <th></th>\n",
       "      <th>Plays</th>\n",
       "      <th>Likes</th>\n",
       "      <th>Reposts</th>\n",
       "      <th>Comments</th>\n",
       "    </tr>\n",
       "  </thead>\n",
       "  <tbody>\n",
       "    <tr>\n",
       "      <th>missing_percentage</th>\n",
       "      <td>0.408</td>\n",
       "      <td>0.789</td>\n",
       "      <td>5.784</td>\n",
       "      <td>21.544</td>\n",
       "    </tr>\n",
       "    <tr>\n",
       "      <th>count</th>\n",
       "      <td>15394.000</td>\n",
       "      <td>15335.000</td>\n",
       "      <td>14563.000</td>\n",
       "      <td>12127.000</td>\n",
       "    </tr>\n",
       "    <tr>\n",
       "      <th>mean</th>\n",
       "      <td>1673760.823</td>\n",
       "      <td>23585.644</td>\n",
       "      <td>1810.549</td>\n",
       "      <td>521.146</td>\n",
       "    </tr>\n",
       "    <tr>\n",
       "      <th>std</th>\n",
       "      <td>8838152.501</td>\n",
       "      <td>111305.456</td>\n",
       "      <td>9022.291</td>\n",
       "      <td>5222.977</td>\n",
       "    </tr>\n",
       "    <tr>\n",
       "      <th>min</th>\n",
       "      <td>1.000</td>\n",
       "      <td>1.000</td>\n",
       "      <td>1.000</td>\n",
       "      <td>1.000</td>\n",
       "    </tr>\n",
       "    <tr>\n",
       "      <th>25%</th>\n",
       "      <td>8670.250</td>\n",
       "      <td>183.000</td>\n",
       "      <td>24.000</td>\n",
       "      <td>9.000</td>\n",
       "    </tr>\n",
       "    <tr>\n",
       "      <th>50%</th>\n",
       "      <td>61250.000</td>\n",
       "      <td>1238.000</td>\n",
       "      <td>116.000</td>\n",
       "      <td>33.000</td>\n",
       "    </tr>\n",
       "    <tr>\n",
       "      <th>75%</th>\n",
       "      <td>381000.000</td>\n",
       "      <td>6943.500</td>\n",
       "      <td>642.000</td>\n",
       "      <td>139.000</td>\n",
       "    </tr>\n",
       "    <tr>\n",
       "      <th>max</th>\n",
       "      <td>326000000.000</td>\n",
       "      <td>3100000.000</td>\n",
       "      <td>328000.000</td>\n",
       "      <td>349439.000</td>\n",
       "    </tr>\n",
       "  </tbody>\n",
       "</table>\n",
       "</div>"
      ],
      "text/plain": [
       "                           Plays       Likes    Reposts   Comments\n",
       "missing_percentage         0.408       0.789      5.784     21.544\n",
       "count                  15394.000   15335.000  14563.000  12127.000\n",
       "mean                 1673760.823   23585.644   1810.549    521.146\n",
       "std                  8838152.501  111305.456   9022.291   5222.977\n",
       "min                        1.000       1.000      1.000      1.000\n",
       "25%                     8670.250     183.000     24.000      9.000\n",
       "50%                    61250.000    1238.000    116.000     33.000\n",
       "75%                   381000.000    6943.500    642.000    139.000\n",
       "max                326000000.000 3100000.000 328000.000 349439.000"
      ]
     },
     "execution_count": 42,
     "metadata": {},
     "output_type": "execute_result"
    }
   ],
   "source": [
    "#Tracks dataset\n",
    "\n",
    "tracks_df_describe = tracks_df.loc[:, tracks_df.columns!='UserID'].describe()\n",
    "\n",
    "numeric_col_info_tracks = pd.DataFrame({\n",
    "    'missing_percentage': (1 - tracks_df_describe.loc[\"count\"] / tracks_df.shape[0]) * 100, \n",
    "}).T\n",
    "\n",
    "numeric_col_info_tracks = pd.concat([numeric_col_info_tracks, tracks_df_describe])\n",
    "\n",
    "print('Numberic data distribution in Tracks Dataset: ')\n",
    "numeric_col_info_tracks"
   ]
  },
  {
   "cell_type": "code",
   "execution_count": 43,
   "id": "e4f04919",
   "metadata": {},
   "outputs": [
    {
     "name": "stdout",
     "output_type": "stream",
     "text": [
      "Numberic data distribution in Playlists Dataset: \n"
     ]
    },
    {
     "data": {
      "text/html": [
       "<div>\n",
       "<style scoped>\n",
       "    .dataframe tbody tr th:only-of-type {\n",
       "        vertical-align: middle;\n",
       "    }\n",
       "\n",
       "    .dataframe tbody tr th {\n",
       "        vertical-align: top;\n",
       "    }\n",
       "\n",
       "    .dataframe thead th {\n",
       "        text-align: right;\n",
       "    }\n",
       "</style>\n",
       "<table border=\"1\" class=\"dataframe\">\n",
       "  <thead>\n",
       "    <tr style=\"text-align: right;\">\n",
       "      <th></th>\n",
       "      <th>Likes</th>\n",
       "      <th>Reposts</th>\n",
       "    </tr>\n",
       "  </thead>\n",
       "  <tbody>\n",
       "    <tr>\n",
       "      <th>missing_percentage</th>\n",
       "      <td>3.474</td>\n",
       "      <td>13.059</td>\n",
       "    </tr>\n",
       "    <tr>\n",
       "      <th>count</th>\n",
       "      <td>2417.000</td>\n",
       "      <td>2177.000</td>\n",
       "    </tr>\n",
       "    <tr>\n",
       "      <th>mean</th>\n",
       "      <td>1817.109</td>\n",
       "      <td>251.426</td>\n",
       "    </tr>\n",
       "    <tr>\n",
       "      <th>std</th>\n",
       "      <td>12948.624</td>\n",
       "      <td>1547.717</td>\n",
       "    </tr>\n",
       "    <tr>\n",
       "      <th>min</th>\n",
       "      <td>1.000</td>\n",
       "      <td>1.000</td>\n",
       "    </tr>\n",
       "    <tr>\n",
       "      <th>25%</th>\n",
       "      <td>5.000</td>\n",
       "      <td>2.000</td>\n",
       "    </tr>\n",
       "    <tr>\n",
       "      <th>50%</th>\n",
       "      <td>35.000</td>\n",
       "      <td>10.000</td>\n",
       "    </tr>\n",
       "    <tr>\n",
       "      <th>75%</th>\n",
       "      <td>301.000</td>\n",
       "      <td>73.000</td>\n",
       "    </tr>\n",
       "    <tr>\n",
       "      <th>max</th>\n",
       "      <td>307000.000</td>\n",
       "      <td>36900.000</td>\n",
       "    </tr>\n",
       "  </tbody>\n",
       "</table>\n",
       "</div>"
      ],
      "text/plain": [
       "                        Likes   Reposts\n",
       "missing_percentage      3.474    13.059\n",
       "count                2417.000  2177.000\n",
       "mean                 1817.109   251.426\n",
       "std                 12948.624  1547.717\n",
       "min                     1.000     1.000\n",
       "25%                     5.000     2.000\n",
       "50%                    35.000    10.000\n",
       "75%                   301.000    73.000\n",
       "max                307000.000 36900.000"
      ]
     },
     "execution_count": 43,
     "metadata": {},
     "output_type": "execute_result"
    }
   ],
   "source": [
    "#Playlists dataset\n",
    "\n",
    "playlists_df_describe = playlists_df.loc[:, playlists_df.columns!='UserID'].describe()\n",
    "\n",
    "numeric_col_info_playlists = pd.DataFrame({\n",
    "    'missing_percentage': (1 - playlists_df_describe.loc[\"count\"] / playlists_df.shape[0]) * 100, \n",
    "}).T\n",
    "\n",
    "numeric_col_info_playlists = pd.concat([numeric_col_info_playlists, playlists_df_describe])\n",
    "\n",
    "print('Numberic data distribution in Playlists Dataset: ')\n",
    "numeric_col_info_playlists\n",
    "\n"
   ]
  },
  {
   "cell_type": "code",
   "execution_count": 44,
   "id": "91b7823a",
   "metadata": {},
   "outputs": [
    {
     "name": "stdout",
     "output_type": "stream",
     "text": [
      "Numberic data distribution in Users Dataset: \n"
     ]
    },
    {
     "data": {
      "text/html": [
       "<div>\n",
       "<style scoped>\n",
       "    .dataframe tbody tr th:only-of-type {\n",
       "        vertical-align: middle;\n",
       "    }\n",
       "\n",
       "    .dataframe tbody tr th {\n",
       "        vertical-align: top;\n",
       "    }\n",
       "\n",
       "    .dataframe thead th {\n",
       "        text-align: right;\n",
       "    }\n",
       "</style>\n",
       "<table border=\"1\" class=\"dataframe\">\n",
       "  <thead>\n",
       "    <tr style=\"text-align: right;\">\n",
       "      <th></th>\n",
       "      <th>Followers</th>\n",
       "      <th>Following</th>\n",
       "      <th>NumOfTracks</th>\n",
       "    </tr>\n",
       "  </thead>\n",
       "  <tbody>\n",
       "    <tr>\n",
       "      <th>missing_percentage</th>\n",
       "      <td>0.000</td>\n",
       "      <td>0.000</td>\n",
       "      <td>0.000</td>\n",
       "    </tr>\n",
       "    <tr>\n",
       "      <th>count</th>\n",
       "      <td>1354.000</td>\n",
       "      <td>1354.000</td>\n",
       "      <td>1354.000</td>\n",
       "    </tr>\n",
       "    <tr>\n",
       "      <th>mean</th>\n",
       "      <td>182742.253</td>\n",
       "      <td>167.828</td>\n",
       "      <td>197.205</td>\n",
       "    </tr>\n",
       "    <tr>\n",
       "      <th>std</th>\n",
       "      <td>773922.471</td>\n",
       "      <td>378.879</td>\n",
       "      <td>1009.154</td>\n",
       "    </tr>\n",
       "    <tr>\n",
       "      <th>min</th>\n",
       "      <td>0.000</td>\n",
       "      <td>0.000</td>\n",
       "      <td>1.000</td>\n",
       "    </tr>\n",
       "    <tr>\n",
       "      <th>25%</th>\n",
       "      <td>236.500</td>\n",
       "      <td>1.000</td>\n",
       "      <td>11.000</td>\n",
       "    </tr>\n",
       "    <tr>\n",
       "      <th>50%</th>\n",
       "      <td>1811.000</td>\n",
       "      <td>13.000</td>\n",
       "      <td>34.000</td>\n",
       "    </tr>\n",
       "    <tr>\n",
       "      <th>75%</th>\n",
       "      <td>25950.000</td>\n",
       "      <td>112.000</td>\n",
       "      <td>99.000</td>\n",
       "    </tr>\n",
       "    <tr>\n",
       "      <th>max</th>\n",
       "      <td>8490000.000</td>\n",
       "      <td>2003.000</td>\n",
       "      <td>22200.000</td>\n",
       "    </tr>\n",
       "  </tbody>\n",
       "</table>\n",
       "</div>"
      ],
      "text/plain": [
       "                     Followers  Following  NumOfTracks\n",
       "missing_percentage       0.000      0.000        0.000\n",
       "count                 1354.000   1354.000     1354.000\n",
       "mean                182742.253    167.828      197.205\n",
       "std                 773922.471    378.879     1009.154\n",
       "min                      0.000      0.000        1.000\n",
       "25%                    236.500      1.000       11.000\n",
       "50%                   1811.000     13.000       34.000\n",
       "75%                  25950.000    112.000       99.000\n",
       "max                8490000.000   2003.000    22200.000"
      ]
     },
     "execution_count": 44,
     "metadata": {},
     "output_type": "execute_result"
    }
   ],
   "source": [
    "#Users dataset\n",
    "\n",
    "users_df_describe = users_df.loc[:, users_df.columns!='UserID'].describe()\n",
    "\n",
    "users_df_describe\n",
    "numeric_col_info_users = pd.DataFrame({\n",
    "    'missing_percentage': (1 - users_df_describe.loc[\"count\"] / users_df.shape[0]) * 100, \n",
    "}).T\n",
    "\n",
    "numeric_col_info_users = pd.concat([numeric_col_info_users, users_df_describe])\n",
    "\n",
    "print('Numberic data distribution in Users Dataset: ')\n",
    "numeric_col_info_users"
   ]
  },
  {
   "cell_type": "markdown",
   "id": "ecade60b",
   "metadata": {},
   "source": [
    "### The distribution of data in non-numberic columns in each datasets\n"
   ]
  },
  {
   "cell_type": "code",
   "execution_count": 45,
   "id": "3756f643",
   "metadata": {},
   "outputs": [
    {
     "name": "stdout",
     "output_type": "stream",
     "text": [
      "Non-numberic data distribution in Tracks Dataset:\n"
     ]
    },
    {
     "data": {
      "text/html": [
       "<div>\n",
       "<style scoped>\n",
       "    .dataframe tbody tr th:only-of-type {\n",
       "        vertical-align: middle;\n",
       "    }\n",
       "\n",
       "    .dataframe tbody tr th {\n",
       "        vertical-align: top;\n",
       "    }\n",
       "\n",
       "    .dataframe thead th {\n",
       "        text-align: right;\n",
       "    }\n",
       "</style>\n",
       "<table border=\"1\" class=\"dataframe\">\n",
       "  <thead>\n",
       "    <tr style=\"text-align: right;\">\n",
       "      <th></th>\n",
       "      <th>TagContent</th>\n",
       "    </tr>\n",
       "  </thead>\n",
       "  <tbody>\n",
       "    <tr>\n",
       "      <th>missing_percentage</th>\n",
       "      <td>13.347</td>\n",
       "    </tr>\n",
       "    <tr>\n",
       "      <th>num_values</th>\n",
       "      <td>2566</td>\n",
       "    </tr>\n",
       "    <tr>\n",
       "      <th>value_counts</th>\n",
       "      <td>Dance &amp; EDM          1162\n",
       "Electronic           1007\n",
       "Hip-hop &amp; Rap         821\n",
       "Pop               ...</td>\n",
       "    </tr>\n",
       "  </tbody>\n",
       "</table>\n",
       "</div>"
      ],
      "text/plain": [
       "                                                                                                             TagContent\n",
       "missing_percentage                                                                                               13.347\n",
       "num_values                                                                                                         2566\n",
       "value_counts        Dance & EDM          1162\n",
       "Electronic           1007\n",
       "Hip-hop & Rap         821\n",
       "Pop               ..."
      ]
     },
     "execution_count": 45,
     "metadata": {},
     "output_type": "execute_result"
    }
   ],
   "source": [
    "tracks_nonnumberic_df = tracks_df.select_dtypes(exclude=[np.number])\n",
    "tracks_nonnumberic_df = tracks_nonnumberic_df[\"TagContent\"]\n",
    "\n",
    "\n",
    "non_numberic_col_info_tracks = pd.DataFrame({\n",
    "    \"missing_percentage\": ((tracks_nonnumberic_df.isnull().sum() / tracks_df.shape[0])*100),\n",
    "    \"num_values\": len(tracks_nonnumberic_df.value_counts().keys()),\n",
    "    \"value_counts\": {\"TagContent\": pd.Series(tracks_nonnumberic_df.value_counts().to_dict())}                        \n",
    "}, index=[\"TagContent\"]).T\n",
    "\n",
    "print('Non-numberic data distribution in Tracks Dataset:')\n",
    "non_numberic_col_info_tracks"
   ]
  },
  {
   "cell_type": "code",
   "execution_count": 46,
   "id": "3f595cc2",
   "metadata": {},
   "outputs": [
    {
     "name": "stdout",
     "output_type": "stream",
     "text": [
      "Non-numberic data distribution in Playlists Dataset:\n"
     ]
    },
    {
     "data": {
      "text/html": [
       "<div>\n",
       "<style scoped>\n",
       "    .dataframe tbody tr th:only-of-type {\n",
       "        vertical-align: middle;\n",
       "    }\n",
       "\n",
       "    .dataframe tbody tr th {\n",
       "        vertical-align: top;\n",
       "    }\n",
       "\n",
       "    .dataframe thead th {\n",
       "        text-align: right;\n",
       "    }\n",
       "</style>\n",
       "<table border=\"1\" class=\"dataframe\">\n",
       "  <thead>\n",
       "    <tr style=\"text-align: right;\">\n",
       "      <th></th>\n",
       "      <th>TagContent</th>\n",
       "    </tr>\n",
       "  </thead>\n",
       "  <tbody>\n",
       "    <tr>\n",
       "      <th>missing_percentage</th>\n",
       "      <td>63.658</td>\n",
       "    </tr>\n",
       "    <tr>\n",
       "      <th>num_values</th>\n",
       "      <td>308</td>\n",
       "    </tr>\n",
       "    <tr>\n",
       "      <th>value_counts</th>\n",
       "      <td>Electronic          179\n",
       "Dance &amp; EDM          91\n",
       "Hip-hop &amp; Rap        51\n",
       "Pop                  46\n",
       "...</td>\n",
       "    </tr>\n",
       "  </tbody>\n",
       "</table>\n",
       "</div>"
      ],
      "text/plain": [
       "                                                                                                             TagContent\n",
       "missing_percentage                                                                                               63.658\n",
       "num_values                                                                                                          308\n",
       "value_counts        Electronic          179\n",
       "Dance & EDM          91\n",
       "Hip-hop & Rap        51\n",
       "Pop                  46\n",
       "..."
      ]
     },
     "execution_count": 46,
     "metadata": {},
     "output_type": "execute_result"
    }
   ],
   "source": [
    "playlists_nonnumberic_df = playlists_df.select_dtypes(exclude=[np.number])\n",
    "playlists_nonnumberic_df = playlists_df[\"TagContent\"]\n",
    "\n",
    "non_numberic_col_info_playlists = pd.DataFrame({\n",
    "    \"missing_percentage\": ((playlists_nonnumberic_df.isnull().sum() / playlists_df.shape[0])*100),\n",
    "    \"num_values\": len(playlists_nonnumberic_df.value_counts().keys()),\n",
    "    \"value_counts\": {\"TagContent\": pd.Series(playlists_nonnumberic_df.value_counts().to_dict())}                        \n",
    "}, index=[\"TagContent\"]).T\n",
    "\n",
    "print('Non-numberic data distribution in Playlists Dataset:')\n",
    "non_numberic_col_info_playlists"
   ]
  },
  {
   "cell_type": "code",
   "execution_count": 47,
   "id": "d45c4cb4",
   "metadata": {},
   "outputs": [
    {
     "data": {
      "text/html": [
       "<div>\n",
       "<style scoped>\n",
       "    .dataframe tbody tr th:only-of-type {\n",
       "        vertical-align: middle;\n",
       "    }\n",
       "\n",
       "    .dataframe tbody tr th {\n",
       "        vertical-align: top;\n",
       "    }\n",
       "\n",
       "    .dataframe thead th {\n",
       "        text-align: right;\n",
       "    }\n",
       "</style>\n",
       "<table border=\"1\" class=\"dataframe\">\n",
       "  <thead>\n",
       "    <tr style=\"text-align: right;\">\n",
       "      <th></th>\n",
       "      <th>Username</th>\n",
       "      <th>Verified</th>\n",
       "      <th>UserURL</th>\n",
       "      <th>ListPlaylistIDs</th>\n",
       "    </tr>\n",
       "    <tr>\n",
       "      <th>UserID</th>\n",
       "      <th></th>\n",
       "      <th></th>\n",
       "      <th></th>\n",
       "      <th></th>\n",
       "    </tr>\n",
       "  </thead>\n",
       "  <tbody>\n",
       "    <tr>\n",
       "      <th>0</th>\n",
       "      <td>P-Town Anthems (E.P. Beats)</td>\n",
       "      <td>False</td>\n",
       "      <td>https://soundcloud.com/e-p-beats</td>\n",
       "      <td>0;1</td>\n",
       "    </tr>\n",
       "    <tr>\n",
       "      <th>1</th>\n",
       "      <td>Mahnora-Botdf</td>\n",
       "      <td>False</td>\n",
       "      <td>https://soundcloud.com/mahnorabotdf</td>\n",
       "      <td>2</td>\n",
       "    </tr>\n",
       "    <tr>\n",
       "      <th>2</th>\n",
       "      <td>Alec Benjamin</td>\n",
       "      <td>True</td>\n",
       "      <td>https://soundcloud.com/alecbenjamin</td>\n",
       "      <td>3</td>\n",
       "    </tr>\n",
       "    <tr>\n",
       "      <th>3</th>\n",
       "      <td>Shaikh &amp; Shaikhi</td>\n",
       "      <td>False</td>\n",
       "      <td>https://soundcloud.com/muhammad-salman-mansoor</td>\n",
       "      <td>NaN</td>\n",
       "    </tr>\n",
       "    <tr>\n",
       "      <th>4</th>\n",
       "      <td>Jiala Ji</td>\n",
       "      <td>False</td>\n",
       "      <td>https://soundcloud.com/jialaji</td>\n",
       "      <td>NaN</td>\n",
       "    </tr>\n",
       "    <tr>\n",
       "      <th>...</th>\n",
       "      <td>...</td>\n",
       "      <td>...</td>\n",
       "      <td>...</td>\n",
       "      <td>...</td>\n",
       "    </tr>\n",
       "    <tr>\n",
       "      <th>1349</th>\n",
       "      <td>Ava Max</td>\n",
       "      <td>False</td>\n",
       "      <td>https://soundcloud.com/user-478177208</td>\n",
       "      <td>NaN</td>\n",
       "    </tr>\n",
       "    <tr>\n",
       "      <th>1350</th>\n",
       "      <td>♦HLTR$KLTR♦</td>\n",
       "      <td>False</td>\n",
       "      <td>https://soundcloud.com/hltrskltr</td>\n",
       "      <td>2492;2493;2494;2495;2496</td>\n",
       "    </tr>\n",
       "    <tr>\n",
       "      <th>1351</th>\n",
       "      <td>Tasty</td>\n",
       "      <td>True</td>\n",
       "      <td>https://soundcloud.com/tastynetwork</td>\n",
       "      <td>2497;2498;2499;2500</td>\n",
       "    </tr>\n",
       "    <tr>\n",
       "      <th>1352</th>\n",
       "      <td>Darren Styles</td>\n",
       "      <td>True</td>\n",
       "      <td>https://soundcloud.com/darren-styles</td>\n",
       "      <td>2501;2502;2503</td>\n",
       "    </tr>\n",
       "    <tr>\n",
       "      <th>1353</th>\n",
       "      <td>Fasih Dawood</td>\n",
       "      <td>False</td>\n",
       "      <td>https://soundcloud.com/fasih-dawood</td>\n",
       "      <td>NaN</td>\n",
       "    </tr>\n",
       "  </tbody>\n",
       "</table>\n",
       "<p>1354 rows × 4 columns</p>\n",
       "</div>"
      ],
      "text/plain": [
       "                           Username  Verified  \\\n",
       "UserID                                          \n",
       "0       P-Town Anthems (E.P. Beats)     False   \n",
       "1                     Mahnora-Botdf     False   \n",
       "2                     Alec Benjamin      True   \n",
       "3                  Shaikh & Shaikhi     False   \n",
       "4                          Jiala Ji     False   \n",
       "...                             ...       ...   \n",
       "1349                        Ava Max     False   \n",
       "1350                    ♦HLTR$KLTR♦     False   \n",
       "1351                          Tasty      True   \n",
       "1352                  Darren Styles      True   \n",
       "1353                   Fasih Dawood     False   \n",
       "\n",
       "                                               UserURL  \\\n",
       "UserID                                                   \n",
       "0                     https://soundcloud.com/e-p-beats   \n",
       "1                  https://soundcloud.com/mahnorabotdf   \n",
       "2                  https://soundcloud.com/alecbenjamin   \n",
       "3       https://soundcloud.com/muhammad-salman-mansoor   \n",
       "4                       https://soundcloud.com/jialaji   \n",
       "...                                                ...   \n",
       "1349             https://soundcloud.com/user-478177208   \n",
       "1350                  https://soundcloud.com/hltrskltr   \n",
       "1351               https://soundcloud.com/tastynetwork   \n",
       "1352              https://soundcloud.com/darren-styles   \n",
       "1353               https://soundcloud.com/fasih-dawood   \n",
       "\n",
       "                 ListPlaylistIDs  \n",
       "UserID                            \n",
       "0                            0;1  \n",
       "1                              2  \n",
       "2                              3  \n",
       "3                            NaN  \n",
       "4                            NaN  \n",
       "...                          ...  \n",
       "1349                         NaN  \n",
       "1350    2492;2493;2494;2495;2496  \n",
       "1351         2497;2498;2499;2500  \n",
       "1352              2501;2502;2503  \n",
       "1353                         NaN  \n",
       "\n",
       "[1354 rows x 4 columns]"
      ]
     },
     "execution_count": 47,
     "metadata": {},
     "output_type": "execute_result"
    }
   ],
   "source": [
    "users_nonnumberic_df = users_df.select_dtypes(exclude=[np.number])\n",
    "users_nonnumberic_df"
   ]
  },
  {
   "cell_type": "markdown",
   "id": "be0896fb",
   "metadata": {},
   "source": [
    "### Make the question\n"
   ]
  },
  {
   "cell_type": "markdown",
   "id": "4cecee67",
   "metadata": {},
   "source": [
    "#### **1.Tìm 10 thể loại bài hát được nghe nhiều nhất trong năm 2020**\n"
   ]
  },
  {
   "cell_type": "markdown",
   "id": "db56598a",
   "metadata": {},
   "source": [
    "Thể loại bài hát được nghe nhiều nhất lần lượt là: Hip Hop, Rap, Trap, R&B, Pop, Electronic, Rock, Dance, House, Indie\n"
   ]
  },
  {
   "cell_type": "code",
   "execution_count": 48,
   "id": "f5478c61",
   "metadata": {},
   "outputs": [
    {
     "data": {
      "text/plain": [
       "<AxesSubplot:title={'center':'Top 10 genre in 2020'}>"
      ]
     },
     "execution_count": 48,
     "metadata": {},
     "output_type": "execute_result"
    },
    {
     "data": {
      "image/png": "[encoded data removed]",
      "text/plain": [
       "<Figure size 1000x500 with 1 Axes>"
      ]
     },
     "metadata": {},
     "output_type": "display_data"
    }
   ],
   "source": [
    "#find the most popular song in 2020\n",
    "most_popular_song = tracks_df[tracks_df['UploadTime'].dt.year == 2020].sort_values(by='Plays', ascending=False)\n",
    "most_popular_song.dropna(subset=['TagContent'], inplace=True)\n",
    "#visualize 10 tag content of the most popular song\n",
    "most_popular_song['TagContent'].value_counts().head(10).plot(kind='barh', figsize=(10, 5), title='Top 10 genre in 2020')\n"
   ]
  },
  {
   "cell_type": "markdown",
   "id": "8c1d6ef1",
   "metadata": {},
   "source": [
    "#### **2. Xu hướng nghe nhạc Disco từ năm 2016-2022**\n"
   ]
  },
  {
   "cell_type": "markdown",
   "id": "b13ee3cb",
   "metadata": {},
   "source": [
    "Nhạc Disco được thịnh hành nhất vào năm 2019 bởi số lượt nghe nhiều nhất\n"
   ]
  },
  {
   "cell_type": "code",
   "execution_count": 49,
   "id": "464db3fe",
   "metadata": {},
   "outputs": [
    {
     "data": {
      "text/plain": [
       "<AxesSubplot:title={'center':'Disco trend from 2018 to 2022'}, xlabel='UploadTime'>"
      ]
     },
     "execution_count": 49,
     "metadata": {},
     "output_type": "execute_result"
    },
    {
     "data": {
      "image/png": "[encoded data removed]",
      "text/plain": [
       "<Figure size 1000x500 with 1 Axes>"
      ]
     },
     "metadata": {},
     "output_type": "display_data"
    }
   ],
   "source": [
    "#find the R&B trend from 2018 to 2022\n",
    "Disco_trend = tracks_df[tracks_df['TagContent'] == 'Disco']\n",
    "#from 2018 to 2022 based on play rate\n",
    "Disco_trend = Disco_trend[Disco_trend['UploadTime'].dt.year >= 2016]\n",
    "Disco_trend = Disco_trend[Disco_trend['UploadTime'].dt.year <= 2022]\n",
    "Disco_trend = Disco_trend.groupby(Disco_trend['UploadTime'].dt.year).sum()\n",
    "Disco_trend\n",
    "#draw line chart with year and number of plays\n",
    "Disco_trend['Plays'].plot(kind='line', figsize=(10, 5), title='Disco trend from 2018 to 2022', color='red', marker = 'o')\n",
    "\n"
   ]
  },
  {
   "cell_type": "markdown",
   "id": "e799cba5",
   "metadata": {},
   "source": [
    "### 3. Những playlists được nhiều người yêu thích nhất trong năm 2021\n"
   ]
  },
  {
   "cell_type": "code",
   "execution_count": 50,
   "id": "58fbe8a6",
   "metadata": {},
   "outputs": [
    {
     "data": {
      "text/html": [
       "<div>\n",
       "<style scoped>\n",
       "    .dataframe tbody tr th:only-of-type {\n",
       "        vertical-align: middle;\n",
       "    }\n",
       "\n",
       "    .dataframe tbody tr th {\n",
       "        vertical-align: top;\n",
       "    }\n",
       "\n",
       "    .dataframe thead th {\n",
       "        text-align: right;\n",
       "    }\n",
       "</style>\n",
       "<table border=\"1\" class=\"dataframe\">\n",
       "  <thead>\n",
       "    <tr style=\"text-align: right;\">\n",
       "      <th></th>\n",
       "      <th>UserID</th>\n",
       "      <th>PlaylistName</th>\n",
       "      <th>PlaylistURL</th>\n",
       "      <th>Likes</th>\n",
       "      <th>Reposts</th>\n",
       "      <th>TagContent</th>\n",
       "      <th>UploadTime</th>\n",
       "      <th>ListTrackIDs</th>\n",
       "    </tr>\n",
       "    <tr>\n",
       "      <th>PlaylistID</th>\n",
       "      <th></th>\n",
       "      <th></th>\n",
       "      <th></th>\n",
       "      <th></th>\n",
       "      <th></th>\n",
       "      <th></th>\n",
       "      <th></th>\n",
       "      <th></th>\n",
       "    </tr>\n",
       "  </thead>\n",
       "  <tbody>\n",
       "    <tr>\n",
       "      <th>916</th>\n",
       "      <td>533</td>\n",
       "      <td>Sincerely, Kentrell</td>\n",
       "      <td>https://soundcloud.com/nba-youngboy/sets/sincerely-kentrell</td>\n",
       "      <td>73100.000</td>\n",
       "      <td>2521.000</td>\n",
       "      <td>YoungBoy Never Broke Again</td>\n",
       "      <td>2021-09-10 04:04:22+00:00</td>\n",
       "      <td>5712;5713;5714;5715;5716</td>\n",
       "    </tr>\n",
       "    <tr>\n",
       "      <th>926</th>\n",
       "      <td>536</td>\n",
       "      <td>SoulFly</td>\n",
       "      <td>https://soundcloud.com/rodwave/sets/soulfly</td>\n",
       "      <td>49500.000</td>\n",
       "      <td>1835.000</td>\n",
       "      <td>Hip-hop &amp; Rap</td>\n",
       "      <td>2021-03-25 01:58:00+00:00</td>\n",
       "      <td>5768;5769;5770;5771;5772;5773;5774;5775;5776;5777;5778;5779;5780;5781;5782</td>\n",
       "    </tr>\n",
       "    <tr>\n",
       "      <th>1031</th>\n",
       "      <td>609</td>\n",
       "      <td>Lil Peep &amp; Lil Tracy - CASTLES II</td>\n",
       "      <td>https://soundcloud.com/lil_peep/sets/lil-peep-lil-tracy-castles-ii</td>\n",
       "      <td>18700.000</td>\n",
       "      <td>1063.000</td>\n",
       "      <td>Hip-hop &amp; Rap</td>\n",
       "      <td>2021-07-02 04:03:45+00:00</td>\n",
       "      <td>6195;6196;6197;6198;6199</td>\n",
       "    </tr>\n",
       "    <tr>\n",
       "      <th>1029</th>\n",
       "      <td>609</td>\n",
       "      <td>Lil Peep &amp; Harry Fraud - HIGH FASHION</td>\n",
       "      <td>https://soundcloud.com/lil_peep/sets/lil-peep-harry-fraud-high</td>\n",
       "      <td>8783.000</td>\n",
       "      <td>599.000</td>\n",
       "      <td>Hip-hop &amp; Rap</td>\n",
       "      <td>2021-12-03 05:03:58+00:00</td>\n",
       "      <td>6189;6190;6191</td>\n",
       "    </tr>\n",
       "    <tr>\n",
       "      <th>917</th>\n",
       "      <td>533</td>\n",
       "      <td>YoungBoy Never Broke Again: The Complete Collection</td>\n",
       "      <td>https://soundcloud.com/nba-youngboy/sets/the-complete-collection</td>\n",
       "      <td>7406.000</td>\n",
       "      <td>552.000</td>\n",
       "      <td>Hip-hop &amp; Rap</td>\n",
       "      <td>2021-09-10 01:51:42+00:00</td>\n",
       "      <td>5717;5718;5719;5720</td>\n",
       "    </tr>\n",
       "    <tr>\n",
       "      <th>...</th>\n",
       "      <td>...</td>\n",
       "      <td>...</td>\n",
       "      <td>...</td>\n",
       "      <td>...</td>\n",
       "      <td>...</td>\n",
       "      <td>...</td>\n",
       "      <td>...</td>\n",
       "      <td>...</td>\n",
       "    </tr>\n",
       "    <tr>\n",
       "      <th>1812</th>\n",
       "      <td>990</td>\n",
       "      <td>+++</td>\n",
       "      <td>https://soundcloud.com/vasily-stroganov/sets/2w6igewpwdo0</td>\n",
       "      <td>NaN</td>\n",
       "      <td>NaN</td>\n",
       "      <td>NaN</td>\n",
       "      <td>2021-10-09 06:58:57+00:00</td>\n",
       "      <td>11891;11892;11893;11894;11895</td>\n",
       "    </tr>\n",
       "    <tr>\n",
       "      <th>1813</th>\n",
       "      <td>990</td>\n",
       "      <td>TICNIKRUSRAP</td>\n",
       "      <td>https://soundcloud.com/vasily-stroganov/sets/ticnikrusrap</td>\n",
       "      <td>NaN</td>\n",
       "      <td>NaN</td>\n",
       "      <td>NaN</td>\n",
       "      <td>2021-09-28 08:22:03+00:00</td>\n",
       "      <td>11896;11897;11898;11899</td>\n",
       "    </tr>\n",
       "    <tr>\n",
       "      <th>1814</th>\n",
       "      <td>990</td>\n",
       "      <td>GYM</td>\n",
       "      <td>https://soundcloud.com/vasily-stroganov/sets/gym</td>\n",
       "      <td>NaN</td>\n",
       "      <td>NaN</td>\n",
       "      <td>NaN</td>\n",
       "      <td>2021-04-16 18:27:25+00:00</td>\n",
       "      <td>11900;11901;11902;11903;11904;11905;11906;11907;11908;11909;11910;11911;11912;11913;11914;11915;...</td>\n",
       "    </tr>\n",
       "    <tr>\n",
       "      <th>1931</th>\n",
       "      <td>1052</td>\n",
       "      <td>??Artists to support??</td>\n",
       "      <td>https://soundcloud.com/levitatebeats/sets/artists-to-support</td>\n",
       "      <td>NaN</td>\n",
       "      <td>NaN</td>\n",
       "      <td>NaN</td>\n",
       "      <td>2021-01-21 00:44:31+00:00</td>\n",
       "      <td>12422;12423;12424;12425;12426;12427;12428;12429;12430</td>\n",
       "    </tr>\n",
       "    <tr>\n",
       "      <th>1938</th>\n",
       "      <td>1058</td>\n",
       "      <td>My little orchestra</td>\n",
       "      <td>https://soundcloud.com/mpango/sets/instrumental</td>\n",
       "      <td>NaN</td>\n",
       "      <td>NaN</td>\n",
       "      <td>Electronic</td>\n",
       "      <td>2021-06-01 16:03:51+00:00</td>\n",
       "      <td>12556;12557;12558;12559;12560</td>\n",
       "    </tr>\n",
       "  </tbody>\n",
       "</table>\n",
       "<p>262 rows × 8 columns</p>\n",
       "</div>"
      ],
      "text/plain": [
       "            UserID                                         PlaylistName  \\\n",
       "PlaylistID                                                                \n",
       "916            533                                  Sincerely, Kentrell   \n",
       "926            536                                              SoulFly   \n",
       "1031           609                    Lil Peep & Lil Tracy - CASTLES II   \n",
       "1029           609                Lil Peep & Harry Fraud - HIGH FASHION   \n",
       "917            533  YoungBoy Never Broke Again: The Complete Collection   \n",
       "...            ...                                                  ...   \n",
       "1812           990                                                  +++   \n",
       "1813           990                                         TICNIKRUSRAP   \n",
       "1814           990                                                  GYM   \n",
       "1931          1052                               ??Artists to support??   \n",
       "1938          1058                                  My little orchestra   \n",
       "\n",
       "                                                                   PlaylistURL  \\\n",
       "PlaylistID                                                                       \n",
       "916                https://soundcloud.com/nba-youngboy/sets/sincerely-kentrell   \n",
       "926                                https://soundcloud.com/rodwave/sets/soulfly   \n",
       "1031        https://soundcloud.com/lil_peep/sets/lil-peep-lil-tracy-castles-ii   \n",
       "1029            https://soundcloud.com/lil_peep/sets/lil-peep-harry-fraud-high   \n",
       "917           https://soundcloud.com/nba-youngboy/sets/the-complete-collection   \n",
       "...                                                                        ...   \n",
       "1812                 https://soundcloud.com/vasily-stroganov/sets/2w6igewpwdo0   \n",
       "1813                 https://soundcloud.com/vasily-stroganov/sets/ticnikrusrap   \n",
       "1814                          https://soundcloud.com/vasily-stroganov/sets/gym   \n",
       "1931              https://soundcloud.com/levitatebeats/sets/artists-to-support   \n",
       "1938                           https://soundcloud.com/mpango/sets/instrumental   \n",
       "\n",
       "               Likes  Reposts                  TagContent  \\\n",
       "PlaylistID                                                  \n",
       "916        73100.000 2521.000  YoungBoy Never Broke Again   \n",
       "926        49500.000 1835.000               Hip-hop & Rap   \n",
       "1031       18700.000 1063.000               Hip-hop & Rap   \n",
       "1029        8783.000  599.000               Hip-hop & Rap   \n",
       "917         7406.000  552.000               Hip-hop & Rap   \n",
       "...              ...      ...                         ...   \n",
       "1812             NaN      NaN                         NaN   \n",
       "1813             NaN      NaN                         NaN   \n",
       "1814             NaN      NaN                         NaN   \n",
       "1931             NaN      NaN                         NaN   \n",
       "1938             NaN      NaN                  Electronic   \n",
       "\n",
       "                          UploadTime  \\\n",
       "PlaylistID                             \n",
       "916        2021-09-10 04:04:22+00:00   \n",
       "926        2021-03-25 01:58:00+00:00   \n",
       "1031       2021-07-02 04:03:45+00:00   \n",
       "1029       2021-12-03 05:03:58+00:00   \n",
       "917        2021-09-10 01:51:42+00:00   \n",
       "...                              ...   \n",
       "1812       2021-10-09 06:58:57+00:00   \n",
       "1813       2021-09-28 08:22:03+00:00   \n",
       "1814       2021-04-16 18:27:25+00:00   \n",
       "1931       2021-01-21 00:44:31+00:00   \n",
       "1938       2021-06-01 16:03:51+00:00   \n",
       "\n",
       "                                                                                                   ListTrackIDs  \n",
       "PlaylistID                                                                                                       \n",
       "916                                                                                    5712;5713;5714;5715;5716  \n",
       "926                                  5768;5769;5770;5771;5772;5773;5774;5775;5776;5777;5778;5779;5780;5781;5782  \n",
       "1031                                                                                   6195;6196;6197;6198;6199  \n",
       "1029                                                                                             6189;6190;6191  \n",
       "917                                                                                         5717;5718;5719;5720  \n",
       "...                                                                                                         ...  \n",
       "1812                                                                              11891;11892;11893;11894;11895  \n",
       "1813                                                                                    11896;11897;11898;11899  \n",
       "1814        11900;11901;11902;11903;11904;11905;11906;11907;11908;11909;11910;11911;11912;11913;11914;11915;...  \n",
       "1931                                                      12422;12423;12424;12425;12426;12427;12428;12429;12430  \n",
       "1938                                                                              12556;12557;12558;12559;12560  \n",
       "\n",
       "[262 rows x 8 columns]"
      ]
     },
     "execution_count": 50,
     "metadata": {},
     "output_type": "execute_result"
    }
   ],
   "source": [
    "Most_popular_playplist = playlists_df.sort_values(by='Likes', ascending=False)\n",
    "#in 2021\n",
    "Most_popular_playplist = Most_popular_playplist[Most_popular_playplist['UploadTime'].dt.year == 2021]\n",
    "Most_popular_playplist"
   ]
  },
  {
   "cell_type": "code",
   "execution_count": null,
   "id": "832c07c1",
   "metadata": {},
   "outputs": [],
   "source": []
  },
  {
   "cell_type": "markdown",
   "id": "f6726d58",
   "metadata": {
    "deletable": false,
    "editable": false,
    "run_control": {
     "frozen": true
    }
   },
   "source": [
    "## References\n"
   ]
  },
  {
   "cell_type": "code",
   "execution_count": null,
   "id": "9e772a53",
   "metadata": {},
   "outputs": [],
   "source": []
  },
  {
   "cell_type": "code",
   "execution_count": null,
   "id": "7a84980b",
   "metadata": {},
   "outputs": [],
   "source": []
  },
  {
   "cell_type": "code",
   "execution_count": null,
   "id": "ad1b82a9",
   "metadata": {},
   "outputs": [],
   "source": []
  }
 ],
 "metadata": {
  "kernelspec": {
   "display_name": "Python 3 (ipykernel)",
   "language": "python",
   "name": "python3"
  },
  "language_info": {
   "codemirror_mode": {
    "name": "ipython",
    "version": 3
   },
   "file_extension": ".py",
   "mimetype": "text/x-python",
   "name": "python",
   "nbconvert_exporter": "python",
   "pygments_lexer": "ipython3",
   "version": "3.8.8"
  },
  "varInspector": {
   "cols": {
    "lenName": 16,
    "lenType": 16,
    "lenVar": 40
   },
   "kernels_config": {
    "python": {
     "delete_cmd_postfix": "",
     "delete_cmd_prefix": "del ",
     "library": "var_list.py",
     "varRefreshCmd": "print(var_dic_list())"
    },
    "r": {
     "delete_cmd_postfix": ") ",
     "delete_cmd_prefix": "rm(",
     "library": "var_list.r",
     "varRefreshCmd": "cat(var_dic_list()) "
    }
   },
   "types_to_exclude": [
    "module",
    "function",
    "builtin_function_or_method",
    "instance",
    "_Feature"
   ],
   "window_display": false
  },
  "vscode": {
   "interpreter": {
    "hash": "b030d41fcbb3283539ae19cff4af54be756dad4883c730ee47897827c9982579"
   }
  }
 },
 "nbformat": 4,
 "nbformat_minor": 5
}
