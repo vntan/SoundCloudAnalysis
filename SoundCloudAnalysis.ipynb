{
 "cells": [
  {
   "cell_type": "markdown",
   "id": "a0bcc353",
   "metadata": {
    "deletable": false,
    "editable": false,
    "run_control": {
     "frozen": true
    }
   },
   "source": [
    "# PROJECT 1: EXPLORATORY DATA ANALYSIS"
   ]
  },
  {
   "cell_type": "markdown",
   "id": "03dbd956",
   "metadata": {
    "deletable": false,
    "editable": false,
    "run_control": {
     "frozen": true
    }
   },
   "source": [
    "## Project Name: "
   ]
  },
  {
   "cell_type": "markdown",
   "id": "dc227b11",
   "metadata": {
    "deletable": false,
    "editable": false,
    "run_control": {
     "frozen": true
    }
   },
   "source": [
    "SOUNDCLOUD ANALYSIS"
   ]
  },
  {
   "cell_type": "markdown",
   "id": "7fcd00d0",
   "metadata": {
    "deletable": false,
    "editable": false,
    "run_control": {
     "frozen": true
    }
   },
   "source": [
    "## Assignment Table"
   ]
  },
  {
   "cell_type": "markdown",
   "id": "086fa5ec",
   "metadata": {
    "deletable": false,
    "editable": false,
    "run_control": {
     "frozen": true
    }
   },
   "source": [
    "| ID            | Fullname              | Contribution rate |\n",
    "| :-----------: | :-------------------  | :-----------:     |\n",
    "| 20127323      | Võ Nhật Tân           |                   |\n",
    "| 20127447      | Ngô Đức Bảo           |                   |\n",
    "| 20127275      | Lê Nguyễn Nhật Phú    |                   |\n",
    "| 20127681      | Nguyễn Thiên Phúc     |                   |\n",
    "\n"
   ]
  },
  {
   "cell_type": "markdown",
   "id": "8d9a0c2c",
   "metadata": {},
   "source": [
    "# Import Libraries"
   ]
  },
  {
   "cell_type": "code",
   "execution_count": 1,
   "id": "1b03b544",
   "metadata": {},
   "outputs": [],
   "source": [
    "import numpy as np\n",
    "import time\n",
    "import pandas as pd\n",
    "import random\n",
    "import requests\n",
    "import requests_cache\n",
    "from bs4 import BeautifulSoup\n",
    "import os.path\n",
    "from concurrent.futures import ThreadPoolExecutor, process, wait"
   ]
  },
  {
   "cell_type": "code",
   "execution_count": 2,
   "id": "a1b2a123",
   "metadata": {},
   "outputs": [],
   "source": [
    "from selenium import webdriver\n",
    "from selenium.webdriver.common.keys import Keys\n",
    "from selenium.webdriver.common.by import By\n",
    "from selenium.webdriver.support.ui import WebDriverWait\n",
    "from selenium.webdriver.support import expected_conditions as EC"
   ]
  },
  {
   "cell_type": "code",
   "execution_count": 3,
   "id": "0533e35a",
   "metadata": {},
   "outputs": [],
   "source": [
    "requests_cache.install_cache('cache', expire_after=None)"
   ]
  },
  {
   "cell_type": "code",
   "execution_count": 4,
   "id": "e9fef3af",
   "metadata": {},
   "outputs": [],
   "source": [
    "SLEEP_TIME = 2\n",
    "SCROLL_PAUSE_TIME = 0.5"
   ]
  },
  {
   "cell_type": "markdown",
   "id": "23b98d35",
   "metadata": {
    "deletable": false,
    "editable": false,
    "run_control": {
     "frozen": true
    }
   },
   "source": [
    "## Data Collection"
   ]
  },
  {
   "cell_type": "code",
   "execution_count": 137,
   "id": "d8ee96fb",
   "metadata": {},
   "outputs": [],
   "source": [
    "def asynchronousGetWebData(listData, getDataFunc, *argv, max_screens = 6,):\n",
    "    '''\n",
    "    Input:\n",
    "        - listData: list of urls which need to parse the content to the useful information \n",
    "        - getDataFunc - func: Fucntion supports parse each item in listData to get information\n",
    "            * First parameter must be the item in list data\n",
    "            * The next parameter is saved in *argv\n",
    "        - max_screens - int: Maximum screens that open at the same time\n",
    "        \n",
    "    Output:\n",
    "        - Returns list of result data\n",
    "    '''\n",
    "    result_value = []\n",
    "    \n",
    "    for item_index in range(0, len(listData), max_screens):\n",
    "        start = item_index\n",
    "        end = item_index + max_screens\n",
    "        if end > len(listData):\n",
    "            end = len(listData)\n",
    "            \n",
    "        tmpData = listData[start:end]\n",
    "        threadList = []\n",
    "        with ThreadPoolExecutor() as executor:\n",
    "            for url in tmpData:\n",
    "                threadList.append(executor.submit(getDataFunc, url, *argv))\n",
    "                \n",
    "        wait(threadList)\n",
    "        \n",
    "        for thread in threadList:\n",
    "            if thread.done() and not thread.cancelled():\n",
    "                result_value.append(thread.result())\n",
    "    return result_value\n",
    "    "
   ]
  },
  {
   "cell_type": "markdown",
   "id": "1156f81e",
   "metadata": {},
   "source": [
    "### Collect Users"
   ]
  },
  {
   "cell_type": "code",
   "execution_count": 138,
   "id": "88e0b079",
   "metadata": {},
   "outputs": [],
   "source": [
    "urlList = [ 'https://soundcloud.com/user-593335594/sets/is-500-songs-the-playlist', \\\n",
    "            'https://soundcloud.com/user-593335594/sets/amazing-artistry-2',\\\n",
    "            'https://soundcloud.com/user-593335594/sets/playlist-that-wont-crash-my',\\\n",
    "            'https://soundcloud.com/user-593335594/sets/my-personal-favorites',\\\n",
    "            'https://soundcloud.com/user-593335594/sets/amazing',\\\n",
    "            'https://soundcloud.com/user-593335594/sets/i-found-more-music',\\\n",
    "            'https://soundcloud.com/user-593335594/sets/chivalry-is-dead',\\\n",
    "            'https://soundcloud.com/idla/sets/old-songs',\\\n",
    "            'https://soundcloud.com/idla/sets/pop-playlist-2020',\\\n",
    "            'https://soundcloud.com/idla/sets/lost-in-the-blues',\\\n",
    "            'https://soundcloud.com/user987150052/sets/hot-playlist',\\\n",
    "            'https://soundcloud.com/user61185041/sets/hot-playlist',\\\n",
    "            'https://soundcloud.com/discover/sets/charts-top:all-music:vn',\\\n",
    "            'https://soundcloud.com/discover/sets/charts-trending:danceedm:vn',\\\n",
    "            'https://soundcloud.com/bytufekci/sets/top-100-songs-of-2020']"
   ]
  },
  {
   "cell_type": "code",
   "execution_count": 139,
   "id": "20be5a34",
   "metadata": {},
   "outputs": [],
   "source": [
    "def getAllUserURL(url):\n",
    "    driver = webdriver.Chrome()\n",
    "    driver.maximize_window()\n",
    "    driver.get(url)\n",
    "    userProfileUrl = set()\n",
    "    try:\n",
    "        WebDriverWait(driver, 10).until(EC.element_to_be_clickable((By.ID, 'onetrust-accept-btn-handler'))).click()\n",
    "    except:\n",
    "        pass\n",
    "\n",
    "    #Scroll to the bottom\n",
    "    last_height = driver.execute_script(\"return document.body.scrollHeight\")\n",
    "    while True:\n",
    "        # Scroll down to bottom\n",
    "        driver.execute_script(\"window.scrollTo(0, document.body.scrollHeight);\")\n",
    "        # Wait to load page\n",
    "        time.sleep(SCROLL_PAUSE_TIME)\n",
    "        # Calculate new scroll height and compare with last scroll height\n",
    "        new_height = driver.execute_script(\"return document.body.scrollHeight\")\n",
    "        if new_height == last_height:\n",
    "            break\n",
    "        last_height = new_height\n",
    "        \n",
    "    WebDriverWait(driver, 10).until(EC.element_to_be_clickable((By.CLASS_NAME, 'trackItem__username')))\n",
    "    newUserUrl = driver.find_elements(By.CLASS_NAME, 'trackItem__username')\n",
    "    for user in newUserUrl:\n",
    "        userProfileUrl.add(user.get_attribute('href'))\n",
    "    driver.close()\n",
    "    return userProfileUrl"
   ]
  },
  {
   "cell_type": "code",
   "execution_count": 140,
   "id": "16102445",
   "metadata": {},
   "outputs": [
    {
     "name": "stdout",
     "output_type": "stream",
     "text": [
      "The number of profile link: 1354\n"
     ]
    }
   ],
   "source": [
    "userUrlList = []\n",
    "if os.path.isfile('linkusercaches.txt'):\n",
    "    with open('linkusercaches.txt', 'r') as f:\n",
    "        userUrlList = f.read().splitlines()\n",
    "\n",
    "else:\n",
    "    data = asynchronousGetWebData(urlList, getAllUserURL)\n",
    "    userUrlList = []\n",
    "    for item in data:\n",
    "        userUrlList = userUrlList + list(item)\n",
    "    userUrlList = set(userUrlList)\n",
    "    with open(r'linkusercaches.txt', 'w') as fp:\n",
    "        for item in userUrlList:\n",
    "            # write each item on a new line\n",
    "            fp.write(\"%s\\n\" % item)\n",
    "            \n",
    "print(f'The number of profile link: {len(userUrlList)}')"
   ]
  },
  {
   "cell_type": "code",
   "execution_count": 141,
   "id": "ac21a6a3",
   "metadata": {},
   "outputs": [],
   "source": [
    "def get_user_info(url):    \n",
    "    driver = webdriver.Chrome()\n",
    "    driver.maximize_window()\n",
    "    driver.get(url)\n",
    "    #try:\n",
    "    #WebDriverWait(driver, 10).until(EC.element_to_be_clickable((By.ID, 'onetrust-accept-btn-handler'))).click()\n",
    "    #except:\n",
    "        #pass\n",
    "    username = WebDriverWait(driver, 10).until(EC.element_to_be_clickable((By.CSS_SELECTOR, 'h2.profileHeaderInfo__userName'))).text\n",
    "\n",
    "    isVertified = driver.find_element(By.CSS_SELECTOR, 'h2.profileHeaderInfo__userName>div').text\n",
    "    if len(isVertified) > 0: username = username.strip()[:-len(isVertified.strip())].strip()\n",
    "    userID = url.split('/')[-1]\n",
    "    userurl = url\n",
    "    WebDriverWait(driver, 10).until(EC.element_to_be_clickable((By.CLASS_NAME, 'infoStats__value.sc-font-light')))\n",
    "    info = driver.find_elements(By.CLASS_NAME, 'infoStats__value.sc-font-light')\n",
    "    followers = info[0].text\n",
    "    following = info[1].text\n",
    "    tracks = info[2].text\n",
    "    #go to user's sets which have the url https://soundcloud.com/{userID}/sets\n",
    "    driver.get(f'https://soundcloud.com/{userID}/sets')\n",
    "    playlistIDs = []\n",
    "    time.sleep(1)\n",
    "    WebDriverWait(driver, 10).until(EC.presence_of_element_located((By.CSS_SELECTOR, \".emptyNetworkPage__headline, .sc-link-primary.soundTitle__title.sc-link-dark.sc-text-h4\")))\n",
    "\n",
    "    if not driver.find_elements(By.CLASS_NAME, 'emptyNetworkPage__headline'):\n",
    "        playlist = driver.find_elements(By.CLASS_NAME, 'sc-link-primary.soundTitle__title.sc-link-dark.sc-text-h4')\n",
    "        if len(playlist) != 0:\n",
    "            for p in playlist:\n",
    "                playlistIDs.append(p.get_attribute('href').split('/')[-1])\n",
    "\n",
    "        \n",
    "    driver.close()\n",
    "    return [userID, username, len(isVertified.strip()) > 0, userurl, followers, following, tracks, \";\".join(playlistIDs)]"
   ]
  },
  {
   "cell_type": "code",
   "execution_count": null,
   "id": "c0f92d76",
   "metadata": {},
   "outputs": [],
   "source": [
    "#this cell takes a long time to run (more than 114 minutes to go through 1278 users)\n",
    "#data = asynchronousGetWebData(userUrlList, get_user_info)\n",
    "index_range_list = np.linspace(0, len(userUrlList), 6).astype(np.int64)\n",
    "users = pd.DataFrame(columns=['userID', 'username', 'Verified', 'userUrl', 'followers', 'following', 'tracks', 'playlistIDs'])\n",
    "for i in range(5):\n",
    "    start_index = index_range_list[i]\n",
    "    end_index = index_range_list[i + 1]\n",
    "    data = asynchronousGetWebData(userUrlList[start_index:end_index], get_user_info)\n",
    "\n",
    "    mini_user = pd.DataFrame(data, columns=['userID', 'username', 'Verified', 'userUrl', 'followers', 'following', 'tracks', 'playlistIDs'])\n",
    "    users = pd.concat([users, mini_user])\n",
    "    \n",
    "users.to_csv('users.csv', index=False)"
   ]
  },
  {
   "cell_type": "markdown",
   "id": "79d0cd44",
   "metadata": {},
   "source": [
    "### Collect Playlists"
   ]
  },
  {
   "cell_type": "code",
   "execution_count": 14,
   "id": "cc57e0f0",
   "metadata": {},
   "outputs": [
    {
     "name": "stdout",
     "output_type": "stream",
     "text": [
      "(1354, 7)\n"
     ]
    },
    {
     "data": {
      "text/html": [
       "<div>\n",
       "<style scoped>\n",
       "    .dataframe tbody tr th:only-of-type {\n",
       "        vertical-align: middle;\n",
       "    }\n",
       "\n",
       "    .dataframe tbody tr th {\n",
       "        vertical-align: top;\n",
       "    }\n",
       "\n",
       "    .dataframe thead th {\n",
       "        text-align: right;\n",
       "    }\n",
       "</style>\n",
       "<table border=\"1\" class=\"dataframe\">\n",
       "  <thead>\n",
       "    <tr style=\"text-align: right;\">\n",
       "      <th></th>\n",
       "      <th>username</th>\n",
       "      <th>Verified</th>\n",
       "      <th>userUrl</th>\n",
       "      <th>followers</th>\n",
       "      <th>following</th>\n",
       "      <th>tracks</th>\n",
       "      <th>playlistIDs</th>\n",
       "    </tr>\n",
       "    <tr>\n",
       "      <th>userID</th>\n",
       "      <th></th>\n",
       "      <th></th>\n",
       "      <th></th>\n",
       "      <th></th>\n",
       "      <th></th>\n",
       "      <th></th>\n",
       "      <th></th>\n",
       "    </tr>\n",
       "  </thead>\n",
       "  <tbody>\n",
       "    <tr>\n",
       "      <th>e-p-beats</th>\n",
       "      <td>P-Town Anthems (E.P. Beats)</td>\n",
       "      <td>False</td>\n",
       "      <td>https://soundcloud.com/e-p-beats</td>\n",
       "      <td>510</td>\n",
       "      <td>1,327</td>\n",
       "      <td>2</td>\n",
       "      <td>the-arcane-trilogy;prod-by-e-p-beats;killers-i...</td>\n",
       "    </tr>\n",
       "    <tr>\n",
       "      <th>mahnorabotdf</th>\n",
       "      <td>Mahnora-Botdf</td>\n",
       "      <td>False</td>\n",
       "      <td>https://soundcloud.com/mahnorabotdf</td>\n",
       "      <td>89</td>\n",
       "      <td>1</td>\n",
       "      <td>14</td>\n",
       "      <td>mahnorabotdf</td>\n",
       "    </tr>\n",
       "    <tr>\n",
       "      <th>alecbenjamin</th>\n",
       "      <td>Alec Benjamin</td>\n",
       "      <td>True</td>\n",
       "      <td>https://soundcloud.com/alecbenjamin</td>\n",
       "      <td>223K</td>\n",
       "      <td>0</td>\n",
       "      <td>91</td>\n",
       "      <td>these-two-windows</td>\n",
       "    </tr>\n",
       "    <tr>\n",
       "      <th>muhammad-salman-mansoor</th>\n",
       "      <td>Shaikh &amp; Shaikhi</td>\n",
       "      <td>False</td>\n",
       "      <td>https://soundcloud.com/muhammad-salman-mansoor</td>\n",
       "      <td>2,043</td>\n",
       "      <td>161</td>\n",
       "      <td>39</td>\n",
       "      <td>NaN</td>\n",
       "    </tr>\n",
       "    <tr>\n",
       "      <th>jialaji</th>\n",
       "      <td>Jiala Ji</td>\n",
       "      <td>False</td>\n",
       "      <td>https://soundcloud.com/jialaji</td>\n",
       "      <td>164</td>\n",
       "      <td>204</td>\n",
       "      <td>9</td>\n",
       "      <td>NaN</td>\n",
       "    </tr>\n",
       "  </tbody>\n",
       "</table>\n",
       "</div>"
      ],
      "text/plain": [
       "                                            username  Verified  \\\n",
       "userID                                                           \n",
       "e-p-beats                P-Town Anthems (E.P. Beats)     False   \n",
       "mahnorabotdf                           Mahnora-Botdf     False   \n",
       "alecbenjamin                           Alec Benjamin      True   \n",
       "muhammad-salman-mansoor             Shaikh & Shaikhi     False   \n",
       "jialaji                                     Jiala Ji     False   \n",
       "\n",
       "                                                                userUrl  \\\n",
       "userID                                                                    \n",
       "e-p-beats                              https://soundcloud.com/e-p-beats   \n",
       "mahnorabotdf                        https://soundcloud.com/mahnorabotdf   \n",
       "alecbenjamin                        https://soundcloud.com/alecbenjamin   \n",
       "muhammad-salman-mansoor  https://soundcloud.com/muhammad-salman-mansoor   \n",
       "jialaji                                  https://soundcloud.com/jialaji   \n",
       "\n",
       "                        followers following tracks  \\\n",
       "userID                                               \n",
       "e-p-beats                     510     1,327      2   \n",
       "mahnorabotdf                   89         1     14   \n",
       "alecbenjamin                 223K         0     91   \n",
       "muhammad-salman-mansoor     2,043       161     39   \n",
       "jialaji                       164       204      9   \n",
       "\n",
       "                                                               playlistIDs  \n",
       "userID                                                                      \n",
       "e-p-beats                the-arcane-trilogy;prod-by-e-p-beats;killers-i...  \n",
       "mahnorabotdf                                                  mahnorabotdf  \n",
       "alecbenjamin                                             these-two-windows  \n",
       "muhammad-salman-mansoor                                                NaN  \n",
       "jialaji                                                                NaN  "
      ]
     },
     "execution_count": 14,
     "metadata": {},
     "output_type": "execute_result"
    }
   ],
   "source": [
    "users = pd.read_csv('users.csv', index_col=\"userID\")\n",
    "print(users.shape)\n",
    "users.head()"
   ]
  },
  {
   "cell_type": "code",
   "execution_count": 15,
   "id": "bf303baf",
   "metadata": {},
   "outputs": [],
   "source": [
    "users[\"playlistIDs\"] = users[\"playlistIDs\"].str.split(';')"
   ]
  },
  {
   "cell_type": "code",
   "execution_count": 16,
   "id": "285769cc",
   "metadata": {},
   "outputs": [],
   "source": [
    "userPlaylist = users.explode(\"playlistIDs\").dropna(subset=[\"playlistIDs\"])"
   ]
  },
  {
   "cell_type": "code",
   "execution_count": 17,
   "id": "6dc13c7a",
   "metadata": {},
   "outputs": [
    {
     "name": "stderr",
     "output_type": "stream",
     "text": [
      "C:\\Users\\Admin\\AppData\\Local\\Temp/ipykernel_16660/5826554.py:2: SettingWithCopyWarning: \n",
      "A value is trying to be set on a copy of a slice from a DataFrame.\n",
      "Try using .loc[row_indexer,col_indexer] = value instead\n",
      "\n",
      "See the caveats in the documentation: https://pandas.pydata.org/pandas-docs/stable/user_guide/indexing.html#returning-a-view-versus-a-copy\n",
      "  listPlaylistURL['playlistUrl'] = listPlaylistURL['userUrl'] + '/sets/' + listPlaylistURL['playlistIDs']\n"
     ]
    }
   ],
   "source": [
    "listPlaylistURL = userPlaylist[['playlistIDs', 'userUrl']]\n",
    "listPlaylistURL['playlistUrl'] = listPlaylistURL['userUrl'] + '/sets/' + listPlaylistURL['playlistIDs']\n",
    "listPlaylistURL.reset_index(inplace=True)"
   ]
  },
  {
   "cell_type": "code",
   "execution_count": null,
   "id": "29687935",
   "metadata": {},
   "outputs": [],
   "source": [
    "def getPlayListInfo(urlPlaylistInfo):\n",
    "    userID ,urlPlaylist = urlPlaylistInfo[0], urlPlaylistInfo[1]\n",
    "    \n",
    "    driver = webdriver.Chrome()\n",
    "    driver.maximize_window()\n",
    "    driver.get(urlPlaylist)\n",
    "    \n",
    "    last_height = driver.execute_script(\"return document.body.scrollHeight\")\n",
    "    while True:\n",
    "        # Scroll down to bottom\n",
    "        driver.execute_script(\"window.scrollTo(0, document.body.scrollHeight);\")\n",
    "        # Wait to load page\n",
    "        time.sleep(SCROLL_PAUSE_TIME)\n",
    "        # Calculate new scroll height and compare with last scroll height\n",
    "        new_height = driver.execute_script(\"return document.body.scrollHeight\")\n",
    "        if new_height == last_height:\n",
    "            break\n",
    "        last_height = new_height\n",
    "\n",
    "    #check Likes \n",
    "    time.sleep(SLEEP_TIME)\n",
    "    try:\n",
    "        Likes = driver.find_element(By.CLASS_NAME, 'sc-ministats-likes').find_elements(By.TAG_NAME, 'span')[1].text\n",
    "    except:\n",
    "        Likes = None\n",
    "    #check Reposts\n",
    "    try:\n",
    "        Reposts = driver.find_element(By.CLASS_NAME, 'sc-ministats-reposts').find_elements(By.TAG_NAME, 'span')[1].text\n",
    "    except:\n",
    "        Reposts = None\n",
    "    #check Datetime\n",
    "    try:\n",
    "        Datetime = driver.find_element(By.CLASS_NAME, 'relativeTime').get_attribute('datetime')\n",
    "    except:\n",
    "        Datetime = None\n",
    "    #check TagContent\n",
    "    try:\n",
    "        TagContent = driver.find_element(By.CLASS_NAME, 'sc-tagContent').text.split(',')\n",
    "    except:\n",
    "        TagContent = None\n",
    "    \n",
    "\n",
    "    driver.close()\n",
    "    return [userID, urlPlaylist, Likes, Reposts, TagContent, Datetime]"
   ]
  },
  {
   "cell_type": "code",
   "execution_count": null,
   "id": "d71e756b",
   "metadata": {},
   "outputs": [],
   "source": [
    "index_range_list = np.linspace(0, len(listPlaylistURL), 10).astype(np.int64)\n",
    "playlists = pd.DataFrame(columns=['UserIDPlaylist' ,'PlaylistURL', 'Likes', 'Reposts', 'TagContent' , 'Uploadtime'])\n",
    "\n",
    "for i in range(len(index_range_list) - 1):\n",
    "    start_index = index_range_list[i]\n",
    "    end_index = index_range_list[i + 1]\n",
    "    data = asynchronousGetWebData(listPlaylistURL[[\"userID\", \"playlistUrl\"]][start_index:end_index].values, getPlayListInfo)\n",
    "\n",
    "    mini_playlists = pd.DataFrame(data, columns=['UserIDPlaylist' ,'PlaylistURL', 'Likes', 'Reposts', 'TagContent' , 'Uploadtime'])\n",
    "    playlists = pd.concat([playlists, mini_playlists])\n"
   ]
  },
  {
   "cell_type": "code",
   "execution_count": null,
   "id": "552f7a7b",
   "metadata": {},
   "outputs": [],
   "source": [
    "playlists = playlists[~pd.isnull(playlists['Uploadtime'])]\n",
    "for row in playlists.loc[playlists['TagContent'].isnull(), 'TagContent'].index:\n",
    "    playlists.at[row, 'TagContent'] = ['']\n",
    "def fill_correct_form(row):\n",
    "    if row['TagContent'][0] == '':\n",
    "        return None\n",
    "    else:\n",
    "        return row['TagContent'][0]\n",
    "playlists['TagContent'] = playlists.apply(fill_correct_form, axis=1)\n"
   ]
  },
  {
   "cell_type": "code",
   "execution_count": null,
   "id": "cd924e48",
   "metadata": {},
   "outputs": [],
   "source": [
    "driver = webdriver.Chrome()\n",
    "driver.maximize_window()\n",
    "url_col = list()\n",
    "for i in range(len(playlists)):\n",
    "    row = list()\n",
    "    driver.get(playlists['PlaylistURL'][i])\n",
    "\n",
    "    last_height = driver.execute_script(\"return document.body.scrollHeight\")\n",
    "    while True:\n",
    "        # Scroll down to bottom\n",
    "        driver.execute_script(\"window.scrollTo(0, document.body.scrollHeight);\")\n",
    "        # Wait to load page\n",
    "        time.sleep(SCROLL_PAUSE_TIME)\n",
    "        # Calculate new scroll height and compare with last scroll height\n",
    "        new_height = driver.execute_script(\"return document.body.scrollHeight\")\n",
    "        if new_height == last_height:\n",
    "            break\n",
    "        last_height = new_height\n",
    "\n",
    "    try:\n",
    "        WebDriverWait(driver, 10).until(EC.element_to_be_clickable((By.CLASS_NAME, 'trackItem__trackTitle')))\n",
    "        list_of_url = driver.find_elements(By.CLASS_NAME, 'trackItem__trackTitle')\n",
    "        for element in driver.find_elements(By.CLASS_NAME, 'trackItem__trackTitle'):\n",
    "            row.append(element.get_attribute('href').split('?')[0])\n",
    "    except:\n",
    "        pass\n",
    "\n",
    "    url_col.append(row)\n",
    "driver.quit()\n",
    "\n",
    "url_col_new = list()\n",
    "for row in url_col:\n",
    "    url_col_new.append(';'.join(row))\n",
    "playlists.insert(len(playlists.columns), 'trackUrl', url_col_new)\n",
    "\n",
    "def empty_to_none(row):\n",
    "    if row['trackUrl'] == '':\n",
    "        return None\n",
    "    else:\n",
    "        return row['trackUrl']\n",
    "\n",
    "playlists = playlists['trackUrl'].apply(empty_to_none, axis=1)\n",
    "playlists.to_csv('playlists.csv', index=False)"
   ]
  },
  {
   "cell_type": "markdown",
   "id": "3db4c37e",
   "metadata": {},
   "source": [
    "### Collect Tracks"
   ]
  },
  {
   "cell_type": "code",
   "execution_count": 78,
   "id": "b54424fb",
   "metadata": {},
   "outputs": [
    {
     "data": {
      "text/html": [
       "<div>\n",
       "<style scoped>\n",
       "    .dataframe tbody tr th:only-of-type {\n",
       "        vertical-align: middle;\n",
       "    }\n",
       "\n",
       "    .dataframe tbody tr th {\n",
       "        vertical-align: top;\n",
       "    }\n",
       "\n",
       "    .dataframe thead th {\n",
       "        text-align: right;\n",
       "    }\n",
       "</style>\n",
       "<table border=\"1\" class=\"dataframe\">\n",
       "  <thead>\n",
       "    <tr style=\"text-align: right;\">\n",
       "      <th></th>\n",
       "      <th>UserIDPlaylist</th>\n",
       "      <th>PlaylistURL</th>\n",
       "      <th>Likes</th>\n",
       "      <th>Reposts</th>\n",
       "      <th>TagContent</th>\n",
       "      <th>Uploadtime</th>\n",
       "      <th>trackUrl</th>\n",
       "    </tr>\n",
       "  </thead>\n",
       "  <tbody>\n",
       "    <tr>\n",
       "      <th>0</th>\n",
       "      <td>e-p-beats</td>\n",
       "      <td>https://soundcloud.com/e-p-beats/sets/the-arca...</td>\n",
       "      <td>3</td>\n",
       "      <td>3</td>\n",
       "      <td>NaN</td>\n",
       "      <td>2022-01-14T22:11:32.000Z</td>\n",
       "      <td>https://soundcloud.com/lala-land-361191160/arc...</td>\n",
       "    </tr>\n",
       "    <tr>\n",
       "      <th>1</th>\n",
       "      <td>e-p-beats</td>\n",
       "      <td>https://soundcloud.com/e-p-beats/sets/prod-by-...</td>\n",
       "      <td>44</td>\n",
       "      <td>18</td>\n",
       "      <td>Hip-hop &amp; Rap</td>\n",
       "      <td>2019-07-30T21:23:37.000Z</td>\n",
       "      <td>https://soundcloud.com/dj_david254/e-p-speaks-...</td>\n",
       "    </tr>\n",
       "    <tr>\n",
       "      <th>2</th>\n",
       "      <td>mahnorabotdf</td>\n",
       "      <td>https://soundcloud.com/mahnorabotdf/sets/mahno...</td>\n",
       "      <td>1</td>\n",
       "      <td>NaN</td>\n",
       "      <td>blue</td>\n",
       "      <td>2015-07-22T07:02:08.000Z</td>\n",
       "      <td>https://soundcloud.com/mahnorabotdf/25-hours-c...</td>\n",
       "    </tr>\n",
       "    <tr>\n",
       "      <th>3</th>\n",
       "      <td>alecbenjamin</td>\n",
       "      <td>https://soundcloud.com/alecbenjamin/sets/these...</td>\n",
       "      <td>4,441</td>\n",
       "      <td>348</td>\n",
       "      <td>NaN</td>\n",
       "      <td>2020-05-29T04:01:28.000Z</td>\n",
       "      <td>https://soundcloud.com/alecbenjamin/mind-is-a-...</td>\n",
       "    </tr>\n",
       "    <tr>\n",
       "      <th>4</th>\n",
       "      <td>etherealmedia</td>\n",
       "      <td>https://soundcloud.com/etherealmedia/sets/sgv-...</td>\n",
       "      <td>8</td>\n",
       "      <td>2</td>\n",
       "      <td>NaN</td>\n",
       "      <td>2020-04-22T03:13:36.000Z</td>\n",
       "      <td>https://soundcloud.com/etherealmedia/sgv-snow-...</td>\n",
       "    </tr>\n",
       "    <tr>\n",
       "      <th>...</th>\n",
       "      <td>...</td>\n",
       "      <td>...</td>\n",
       "      <td>...</td>\n",
       "      <td>...</td>\n",
       "      <td>...</td>\n",
       "      <td>...</td>\n",
       "      <td>...</td>\n",
       "    </tr>\n",
       "    <tr>\n",
       "      <th>2517</th>\n",
       "      <td>tastynetwork</td>\n",
       "      <td>https://soundcloud.com/tastynetwork/sets/blank...</td>\n",
       "      <td>30</td>\n",
       "      <td>4</td>\n",
       "      <td>Dance &amp; EDM</td>\n",
       "      <td>2020-12-04T18:14:49.000Z</td>\n",
       "      <td>https://soundcloud.com/tastynetwork/message-no...</td>\n",
       "    </tr>\n",
       "    <tr>\n",
       "      <th>2518</th>\n",
       "      <td>tastynetwork</td>\n",
       "      <td>https://soundcloud.com/tastynetwork/sets/stay-...</td>\n",
       "      <td>60</td>\n",
       "      <td>14</td>\n",
       "      <td>Electronic</td>\n",
       "      <td>2020-09-21T16:04:35.000Z</td>\n",
       "      <td>https://soundcloud.com/tastynetwork/last-islan...</td>\n",
       "    </tr>\n",
       "    <tr>\n",
       "      <th>2519</th>\n",
       "      <td>darren-styles</td>\n",
       "      <td>https://soundcloud.com/darren-styles/sets/2022...</td>\n",
       "      <td>73</td>\n",
       "      <td>9</td>\n",
       "      <td>NaN</td>\n",
       "      <td>2022-04-08T11:22:08.000Z</td>\n",
       "      <td>https://soundcloud.com/darren-styles/darren-st...</td>\n",
       "    </tr>\n",
       "    <tr>\n",
       "      <th>2520</th>\n",
       "      <td>darren-styles</td>\n",
       "      <td>https://soundcloud.com/darren-styles/sets/darr...</td>\n",
       "      <td>611</td>\n",
       "      <td>117</td>\n",
       "      <td>NaN</td>\n",
       "      <td>2017-05-16T20:17:58.000Z</td>\n",
       "      <td>https://soundcloud.com/monstercat/darren-style...</td>\n",
       "    </tr>\n",
       "    <tr>\n",
       "      <th>2521</th>\n",
       "      <td>darren-styles</td>\n",
       "      <td>https://soundcloud.com/darren-styles/sets/darr...</td>\n",
       "      <td>1,049</td>\n",
       "      <td>206</td>\n",
       "      <td>NaN</td>\n",
       "      <td>2017-05-16T20:14:14.000Z</td>\n",
       "      <td>https://soundcloud.com/monstercat/darren-style...</td>\n",
       "    </tr>\n",
       "  </tbody>\n",
       "</table>\n",
       "<p>2522 rows × 7 columns</p>\n",
       "</div>"
      ],
      "text/plain": [
       "     UserIDPlaylist                                        PlaylistURL  Likes  \\\n",
       "0         e-p-beats  https://soundcloud.com/e-p-beats/sets/the-arca...      3   \n",
       "1         e-p-beats  https://soundcloud.com/e-p-beats/sets/prod-by-...     44   \n",
       "2      mahnorabotdf  https://soundcloud.com/mahnorabotdf/sets/mahno...      1   \n",
       "3      alecbenjamin  https://soundcloud.com/alecbenjamin/sets/these...  4,441   \n",
       "4     etherealmedia  https://soundcloud.com/etherealmedia/sets/sgv-...      8   \n",
       "...             ...                                                ...    ...   \n",
       "2517   tastynetwork  https://soundcloud.com/tastynetwork/sets/blank...     30   \n",
       "2518   tastynetwork  https://soundcloud.com/tastynetwork/sets/stay-...     60   \n",
       "2519  darren-styles  https://soundcloud.com/darren-styles/sets/2022...     73   \n",
       "2520  darren-styles  https://soundcloud.com/darren-styles/sets/darr...    611   \n",
       "2521  darren-styles  https://soundcloud.com/darren-styles/sets/darr...  1,049   \n",
       "\n",
       "     Reposts     TagContent                Uploadtime  \\\n",
       "0          3            NaN  2022-01-14T22:11:32.000Z   \n",
       "1         18  Hip-hop & Rap  2019-07-30T21:23:37.000Z   \n",
       "2        NaN           blue  2015-07-22T07:02:08.000Z   \n",
       "3        348            NaN  2020-05-29T04:01:28.000Z   \n",
       "4          2            NaN  2020-04-22T03:13:36.000Z   \n",
       "...      ...            ...                       ...   \n",
       "2517       4    Dance & EDM  2020-12-04T18:14:49.000Z   \n",
       "2518      14     Electronic  2020-09-21T16:04:35.000Z   \n",
       "2519       9            NaN  2022-04-08T11:22:08.000Z   \n",
       "2520     117            NaN  2017-05-16T20:17:58.000Z   \n",
       "2521     206            NaN  2017-05-16T20:14:14.000Z   \n",
       "\n",
       "                                               trackUrl  \n",
       "0     https://soundcloud.com/lala-land-361191160/arc...  \n",
       "1     https://soundcloud.com/dj_david254/e-p-speaks-...  \n",
       "2     https://soundcloud.com/mahnorabotdf/25-hours-c...  \n",
       "3     https://soundcloud.com/alecbenjamin/mind-is-a-...  \n",
       "4     https://soundcloud.com/etherealmedia/sgv-snow-...  \n",
       "...                                                 ...  \n",
       "2517  https://soundcloud.com/tastynetwork/message-no...  \n",
       "2518  https://soundcloud.com/tastynetwork/last-islan...  \n",
       "2519  https://soundcloud.com/darren-styles/darren-st...  \n",
       "2520  https://soundcloud.com/monstercat/darren-style...  \n",
       "2521  https://soundcloud.com/monstercat/darren-style...  \n",
       "\n",
       "[2522 rows x 7 columns]"
      ]
     },
     "execution_count": 78,
     "metadata": {},
     "output_type": "execute_result"
    }
   ],
   "source": [
    "playlists = pd.read_csv('playlists.csv')\n",
    "playlists"
   ]
  },
  {
   "cell_type": "code",
   "execution_count": 79,
   "id": "99246250",
   "metadata": {},
   "outputs": [
    {
     "data": {
      "text/plain": [
       "pandas.core.series.Series"
      ]
     },
     "execution_count": 79,
     "metadata": {},
     "output_type": "execute_result"
    }
   ],
   "source": [
    "list_track_url = playlists['trackUrl']\n",
    "list_track_url = list_track_url.str.split(';')\n",
    "list_track_url = list_track_url.explode().dropna()\n",
    "type(list_track_url)"
   ]
  },
  {
   "cell_type": "code",
   "execution_count": 80,
   "id": "9adc6090",
   "metadata": {},
   "outputs": [],
   "source": [
    "def asynchronousGetWebData_2(listData, getDataFunc, *argv, max_screens = 3,):\n",
    "    '''\n",
    "    Input:\n",
    "        - listData: list of urls which need to parse the content to the useful information \n",
    "        - getDataFunc - func: Fucntion supports parse each item in listData to get information\n",
    "            * Parameter base on function's parameter(s)\n",
    "            * Parameters must be ordered\n",
    "        - max_screens - int: Maximum screens that open at the same time\n",
    "        \n",
    "    Output:\n",
    "        - Returns list of result data\n",
    "    '''\n",
    "    result_value = []\n",
    "\n",
    "    i_range_list = np.linspace(0, len(listData), max_screens + 1).astype(np.int64)\n",
    "\n",
    "    thread_list = []\n",
    "    with ThreadPoolExecutor() as executor:\n",
    "        for i in range(len(i_range_list) - 1):\n",
    "            start = i_range_list[i]\n",
    "            end = i_range_list[i + 1]\n",
    "            thread_list.append(executor.submit(getDataFunc, listData[start:end], *argv))\n",
    "\n",
    "    wait(thread_list)\n",
    "\n",
    "    # thread.result() gonna be a 2D list\n",
    "    for thread in thread_list:\n",
    "        if thread.done() and not thread.cancelled():\n",
    "            result_value.extend(thread.result())\n",
    "\n",
    "    return result_value\n",
    "    "
   ]
  },
  {
   "cell_type": "code",
   "execution_count": 81,
   "id": "cfed5598",
   "metadata": {},
   "outputs": [],
   "source": [
    "def getTrackInfo(url_list):\n",
    "    driver = webdriver.Chrome()\n",
    "    driver.maximize_window()\n",
    "\n",
    "    track_info_list = list()\n",
    "\n",
    "    for url in url_list: \n",
    "        driver.get(url)\n",
    "        \n",
    "        # get user that upload the track\n",
    "        user_id = url.split('/')[3]\n",
    "\n",
    "        # get url track (for clearer variable)\n",
    "        url_track = url\n",
    "        \n",
    "        time.sleep(5)\n",
    "        #get plays, likes, reposts container\n",
    "        try:\n",
    "            container = driver.find_element(By.CLASS_NAME, 'listenEngagement__stats')\n",
    "        except:\n",
    "            container = driver.find_element(By.CLASS_NAME, 'sound__soundStats')\n",
    "        \n",
    "        #check plays\n",
    "        try:\n",
    "            plays = container.find_element(By.CLASS_NAME, 'sc-ministats-plays').find_elements(By.TAG_NAME, 'span')[1].text\n",
    "        except:\n",
    "            plays = None\n",
    "\n",
    "        #check likes\n",
    "        try:\n",
    "            likes = container.find_element(By.CLASS_NAME, 'sc-ministats-likes').find_elements(By.TAG_NAME, 'span')[1].text\n",
    "        except:\n",
    "            likes = None\n",
    "\n",
    "        #check reposts\n",
    "        try:\n",
    "            reposts = container.find_element(By.CLASS_NAME, 'sc-ministats-reposts').find_elements(By.TAG_NAME, 'span')[1].text\n",
    "        except:\n",
    "            reposts = None\n",
    "\n",
    "         #check comments\n",
    "        try:\n",
    "            comments = driver.find_element(By.CLASS_NAME, 'commentsList__actualTitle').text.split(' ')[0]\n",
    "        except:\n",
    "            comments = None\n",
    "\n",
    "        #check date time\n",
    "        try:\n",
    "            date_time = driver.find_element(By.CLASS_NAME, 'relativeTime').get_attribute('datetime')\n",
    "        except:\n",
    "            date_time = None\n",
    "\n",
    "        #check tag content\n",
    "        try:\n",
    "            tag_content = driver.find_element(By.CLASS_NAME, 'sc-tagContent').text\n",
    "        except:\n",
    "            tag_content = None\n",
    "        \n",
    "        track_info_list.append([user_id, url_track, plays, likes, reposts, comments, tag_content, date_time])\n",
    "    \n",
    "    driver.quit()\n",
    "\n",
    "    return track_info_list"
   ]
  },
  {
   "cell_type": "code",
   "execution_count": 85,
   "id": "db2e9184",
   "metadata": {},
   "outputs": [],
   "source": [
    "index_range_list = np.linspace(0, len(list_track_url), 6).astype(np.int64)\n",
    "tracks = pd.DataFrame(columns=['UserIDTrack' ,'TrackURL','Plays', 'Likes', 'Reposts', 'Comments', 'TagContent' , 'Uploadtime'])\n",
    "\n",
    "for i in range(len(index_range_list) - 1):\n",
    "    start_index = index_range_list[i]\n",
    "    end_index = index_range_list[i + 1]\n",
    "    data = asynchronousGetWebData_2(list_track_url[start_index:end_index].values, getTrackInfo)\n",
    "\n",
    "    mini_tracks = pd.DataFrame(data, columns=['UserIDTrack' ,'TrackURL','Plays', 'Likes', 'Reposts', 'Comments', 'TagContent' , 'Uploadtime'])\n",
    "    tracks = pd.concat([tracks, mini_tracks])"
   ]
  },
  {
   "cell_type": "code",
   "execution_count": 91,
   "id": "a5098eac",
   "metadata": {},
   "outputs": [],
   "source": [
    "tracks.to_csv('tracks.csv', index=False)"
   ]
  },
  {
   "cell_type": "markdown",
   "id": "ff526629",
   "metadata": {},
   "source": [
    "### Make three file relate to each other"
   ]
  },
  {
   "cell_type": "markdown",
   "id": "6a89d136",
   "metadata": {
    "deletable": false,
    "editable": false,
    "run_control": {
     "frozen": true
    }
   },
   "source": [
    "## Exploratory Data Analysis"
   ]
  },
  {
   "cell_type": "code",
   "execution_count": null,
   "id": "74beaeb8",
   "metadata": {},
   "outputs": [],
   "source": []
  },
  {
   "cell_type": "code",
   "execution_count": null,
   "id": "53333af4",
   "metadata": {},
   "outputs": [],
   "source": []
  },
  {
   "cell_type": "code",
   "execution_count": null,
   "id": "90e02053",
   "metadata": {},
   "outputs": [],
   "source": []
  },
  {
   "cell_type": "markdown",
   "id": "f6726d58",
   "metadata": {
    "deletable": false,
    "editable": false,
    "run_control": {
     "frozen": true
    }
   },
   "source": [
    "## References"
   ]
  },
  {
   "cell_type": "code",
   "execution_count": null,
   "id": "9e772a53",
   "metadata": {},
   "outputs": [],
   "source": []
  },
  {
   "cell_type": "code",
   "execution_count": null,
   "id": "7a84980b",
   "metadata": {},
   "outputs": [],
   "source": []
  },
  {
   "cell_type": "code",
   "execution_count": null,
   "id": "ad1b82a9",
   "metadata": {},
   "outputs": [],
   "source": []
  }
 ],
 "metadata": {
  "kernelspec": {
   "display_name": "Python 3.9.7 ('base')",
   "language": "python",
   "name": "python3"
  },
  "language_info": {
   "codemirror_mode": {
    "name": "ipython",
    "version": 3
   },
   "file_extension": ".py",
   "mimetype": "text/x-python",
   "name": "python",
   "nbconvert_exporter": "python",
   "pygments_lexer": "ipython3",
   "version": "3.9.7"
  },
  "varInspector": {
   "cols": {
    "lenName": 16,
    "lenType": 16,
    "lenVar": 40
   },
   "kernels_config": {
    "python": {
     "delete_cmd_postfix": "",
     "delete_cmd_prefix": "del ",
     "library": "var_list.py",
     "varRefreshCmd": "print(var_dic_list())"
    },
    "r": {
     "delete_cmd_postfix": ") ",
     "delete_cmd_prefix": "rm(",
     "library": "var_list.r",
     "varRefreshCmd": "cat(var_dic_list()) "
    }
   },
   "types_to_exclude": [
    "module",
    "function",
    "builtin_function_or_method",
    "instance",
    "_Feature"
   ],
   "window_display": false
  },
  "vscode": {
   "interpreter": {
    "hash": "88279d2366fe020547cde40dd65aa0e3aa662a6ec1f3ca12d88834876c85e1a6"
   }
  }
 },
 "nbformat": 4,
 "nbformat_minor": 5
}
