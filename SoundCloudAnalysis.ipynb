{
 "cells": [
  {
   "cell_type": "markdown",
   "id": "a0bcc353",
   "metadata": {
    "deletable": false,
    "editable": false,
    "run_control": {
     "frozen": true
    }
   },
   "source": [
    "# PROJECT 1: EXPLORATORY DATA ANALYSIS"
   ]
  },
  {
   "cell_type": "markdown",
   "id": "03dbd956",
   "metadata": {
    "deletable": false,
    "editable": false,
    "run_control": {
     "frozen": true
    }
   },
   "source": [
    "## Project Name: "
   ]
  },
  {
   "cell_type": "markdown",
   "id": "dc227b11",
   "metadata": {
    "deletable": false,
    "editable": false,
    "run_control": {
     "frozen": true
    }
   },
   "source": [
    "SOUNDCLOUD ANALYSIS"
   ]
  },
  {
   "cell_type": "markdown",
   "id": "7fcd00d0",
   "metadata": {
    "deletable": false,
    "editable": false,
    "run_control": {
     "frozen": true
    }
   },
   "source": [
    "## Assignment Table"
   ]
  },
  {
   "cell_type": "markdown",
   "id": "086fa5ec",
   "metadata": {
    "deletable": false,
    "editable": false,
    "run_control": {
     "frozen": true
    }
   },
   "source": [
    "| ID            | Fullname              | Contribution rate |\n",
    "| :-----------: | :-------------------  | :-----------:     |\n",
    "| 20127323      | Võ Nhật Tân           |                   |\n",
    "| 20127447      | Ngô Đức Bảo           |                   |\n",
    "| 20127275      | Lê Nguyễn Nhật Phú    |                   |\n",
    "| 20127681      | Nguyễn Thiên Phúc     |                   |\n",
    "\n"
   ]
  },
  {
   "cell_type": "markdown",
   "id": "8d9a0c2c",
   "metadata": {},
   "source": [
    "# Import Libraries"
   ]
  },
  {
   "cell_type": "code",
   "execution_count": 1,
   "id": "1b03b544",
   "metadata": {},
   "outputs": [],
   "source": [
    "import numpy as np\n",
    "import time\n",
    "import pandas as pd\n",
    "import random\n",
    "import requests\n",
    "import requests_cache\n",
    "from bs4 import BeautifulSoup\n",
    "import os.path\n",
    "from concurrent.futures import ThreadPoolExecutor, process, wait"
   ]
  },
  {
   "cell_type": "code",
   "execution_count": 2,
   "id": "a1b2a123",
   "metadata": {},
   "outputs": [],
   "source": [
    "from selenium import webdriver\n",
    "from selenium.webdriver.common.keys import Keys\n",
    "from selenium.webdriver.common.by import By\n",
    "from selenium.webdriver.support.ui import WebDriverWait\n",
    "from selenium.webdriver.support import expected_conditions as EC"
   ]
  },
  {
   "cell_type": "code",
   "execution_count": 3,
   "id": "0533e35a",
   "metadata": {},
   "outputs": [],
   "source": [
    "requests_cache.install_cache('cache', expire_after=None)"
   ]
  },
  {
   "cell_type": "code",
   "execution_count": 4,
   "id": "e9fef3af",
   "metadata": {},
   "outputs": [],
   "source": [
    "SLEEP_TIME = 2\n",
    "SCROLL_PAUSE_TIME = 0.5"
   ]
  },
  {
   "cell_type": "markdown",
   "id": "23b98d35",
   "metadata": {
    "deletable": false,
    "editable": false,
    "run_control": {
     "frozen": true
    }
   },
   "source": [
    "## Data Collection"
   ]
  },
  {
   "cell_type": "code",
   "execution_count": 5,
   "id": "d8ee96fb",
   "metadata": {},
   "outputs": [],
   "source": [
    "def asynchronousGetWebData(listData, getDataFunc, *argv, max_screens = 6,):\n",
    "    '''\n",
    "    Input:\n",
    "        - listData: list of urls which need to parse the content to the useful information \n",
    "        - getDataFunc - func: Fucntion supports parse each item in listData to get information\n",
    "            * First parameter must be the item in list data\n",
    "            * The next parameter is saved in *argv\n",
    "        - max_screens - int: Maximum screens that open at the same time\n",
    "        \n",
    "    Output:\n",
    "        - Returns list of result data\n",
    "    '''\n",
    "    result_value = []\n",
    "    \n",
    "    for item_index in range(0, len(listData), max_screens):\n",
    "        start = item_index\n",
    "        end = item_index + max_screens\n",
    "        if end > len(listData):\n",
    "            end = len(listData)\n",
    "            \n",
    "        tmpData = listData[start:end]\n",
    "        threadList = []\n",
    "        with ThreadPoolExecutor() as executor:\n",
    "            for url in tmpData:\n",
    "                threadList.append(executor.submit(getDataFunc, url, *argv))\n",
    "                \n",
    "        wait(threadList)\n",
    "        \n",
    "        for thread in threadList:\n",
    "            if thread.done() and not thread.cancelled():\n",
    "                result_value.append(thread.result())\n",
    "    return result_value\n",
    "    "
   ]
  },
  {
   "cell_type": "markdown",
   "id": "1156f81e",
   "metadata": {},
   "source": [
    "### Collect Users"
   ]
  },
  {
   "cell_type": "code",
   "execution_count": 6,
   "id": "88e0b079",
   "metadata": {},
   "outputs": [],
   "source": [
    "urlList = [ 'https://soundcloud.com/user-593335594/sets/is-500-songs-the-playlist', \\\n",
    "            'https://soundcloud.com/user-593335594/sets/amazing-artistry-2',\\\n",
    "            'https://soundcloud.com/user-593335594/sets/playlist-that-wont-crash-my',\\\n",
    "            'https://soundcloud.com/user-593335594/sets/my-personal-favorites',\\\n",
    "            'https://soundcloud.com/user-593335594/sets/amazing',\\\n",
    "            'https://soundcloud.com/user-593335594/sets/i-found-more-music',\\\n",
    "            'https://soundcloud.com/user-593335594/sets/chivalry-is-dead',\\\n",
    "            'https://soundcloud.com/idla/sets/old-songs',\\\n",
    "            'https://soundcloud.com/idla/sets/pop-playlist-2020',\\\n",
    "            'https://soundcloud.com/idla/sets/lost-in-the-blues',\\\n",
    "            'https://soundcloud.com/user987150052/sets/hot-playlist',\\\n",
    "            'https://soundcloud.com/user61185041/sets/hot-playlist',\\\n",
    "            'https://soundcloud.com/discover/sets/charts-top:all-music:vn',\\\n",
    "            'https://soundcloud.com/discover/sets/charts-trending:danceedm:vn',\\\n",
    "            'https://soundcloud.com/bytufekci/sets/top-100-songs-of-2020']"
   ]
  },
  {
   "cell_type": "code",
   "execution_count": 7,
   "id": "20be5a34",
   "metadata": {},
   "outputs": [],
   "source": [
    "def getAllUserURL(url):\n",
    "    driver = webdriver.Chrome()\n",
    "    driver.maximize_window()\n",
    "    driver.get(url)\n",
    "    userProfileUrl = set()\n",
    "    try:\n",
    "        WebDriverWait(driver, 10).until(EC.element_to_be_clickable((By.ID, 'onetrust-accept-btn-handler'))).click()\n",
    "    except:\n",
    "        pass\n",
    "\n",
    "    #Scroll to the bottom\n",
    "    last_height = driver.execute_script(\"return document.body.scrollHeight\")\n",
    "    while True:\n",
    "        # Scroll down to bottom\n",
    "        driver.execute_script(\"window.scrollTo(0, document.body.scrollHeight);\")\n",
    "        # Wait to load page\n",
    "        time.sleep(SCROLL_PAUSE_TIME)\n",
    "        # Calculate new scroll height and compare with last scroll height\n",
    "        new_height = driver.execute_script(\"return document.body.scrollHeight\")\n",
    "        if new_height == last_height:\n",
    "            break\n",
    "        last_height = new_height\n",
    "        \n",
    "    WebDriverWait(driver, 10).until(EC.element_to_be_clickable((By.CLASS_NAME, 'trackItem__username')))\n",
    "    newUserUrl = driver.find_elements(By.CLASS_NAME, 'trackItem__username')\n",
    "    for user in newUserUrl:\n",
    "        userProfileUrl.add(user.get_attribute('href'))\n",
    "    driver.close()\n",
    "    return userProfileUrl"
   ]
  },
  {
   "cell_type": "code",
   "execution_count": 8,
   "id": "16102445",
   "metadata": {},
   "outputs": [
    {
     "name": "stdout",
     "output_type": "stream",
     "text": [
      "The number of profile link: 1354\n"
     ]
    }
   ],
   "source": [
    "userUrlList = []\n",
    "if os.path.isfile('linkusercaches.txt'):\n",
    "    with open('linkusercaches.txt', 'r') as f:\n",
    "        userUrlList = f.read().splitlines()\n",
    "\n",
    "else:\n",
    "    data = asynchronousGetWebData(urlList, getAllUserURL)\n",
    "    userUrlList = []\n",
    "    for item in data:\n",
    "        userUrlList = userUrlList + list(item)\n",
    "    userUrlList = set(userUrlList)\n",
    "    with open(r'linkusercaches.txt', 'w') as fp:\n",
    "        for item in userUrlList:\n",
    "            # write each item on a new line\n",
    "            fp.write(\"%s\\n\" % item)\n",
    "            \n",
    "print(f'The number of profile link: {len(userUrlList)}')"
   ]
  },
  {
   "cell_type": "code",
   "execution_count": 9,
   "id": "ac21a6a3",
   "metadata": {},
   "outputs": [],
   "source": [
    "def get_user_info(url):    \n",
    "    driver = webdriver.Chrome()\n",
    "    driver.maximize_window()\n",
    "    driver.get(url)\n",
    "    #try:\n",
    "    #WebDriverWait(driver, 10).until(EC.element_to_be_clickable((By.ID, 'onetrust-accept-btn-handler'))).click()\n",
    "    #except:\n",
    "        #pass\n",
    "    username = WebDriverWait(driver, 10).until(EC.element_to_be_clickable((By.CSS_SELECTOR, 'h2.profileHeaderInfo__userName'))).text\n",
    "\n",
    "    isVertified = driver.find_element(By.CSS_SELECTOR, 'h2.profileHeaderInfo__userName>div').text\n",
    "    if len(isVertified) > 0: username = username.strip()[:-len(isVertified.strip())].strip()\n",
    "    userID = url.split('/')[-1]\n",
    "    userurl = url\n",
    "    WebDriverWait(driver, 10).until(EC.element_to_be_clickable((By.CLASS_NAME, 'infoStats__value.sc-font-light')))\n",
    "    info = driver.find_elements(By.CLASS_NAME, 'infoStats__value.sc-font-light')\n",
    "    followers = info[0].text\n",
    "    following = info[1].text\n",
    "    tracks = info[2].text\n",
    "    #go to user's sets which have the url https://soundcloud.com/{userID}/sets\n",
    "    driver.get(f'https://soundcloud.com/{userID}/sets')\n",
    "    playlistIDs = []\n",
    "    time.sleep(1)\n",
    "    WebDriverWait(driver, 10).until(EC.presence_of_element_located((By.CSS_SELECTOR, \".emptyNetworkPage__headline, .sc-link-primary.soundTitle__title.sc-link-dark.sc-text-h4\")))\n",
    "\n",
    "    if not driver.find_elements(By.CLASS_NAME, 'emptyNetworkPage__headline'):\n",
    "        playlist = driver.find_elements(By.CLASS_NAME, 'sc-link-primary.soundTitle__title.sc-link-dark.sc-text-h4')\n",
    "        if len(playlist) != 0:\n",
    "            for p in playlist:\n",
    "                playlistIDs.append(p.get_attribute('href').split('/')[-1])\n",
    "\n",
    "        \n",
    "    driver.close()\n",
    "    return [userID, username, len(isVertified.strip()) > 0, userurl, followers, following, tracks, \";\".join(playlistIDs)]"
   ]
  },
  {
   "cell_type": "code",
   "execution_count": 10,
   "id": "c0f92d76",
   "metadata": {},
   "outputs": [
    {
     "name": "stdout",
     "output_type": "stream",
     "text": [
      "541\n",
      "812\n",
      "1083\n"
     ]
    }
   ],
   "source": [
    "index_range_list = np.linspace(0, len(userUrlList), 6).astype(np.int64)\n",
    "users = pd.DataFrame(columns=['userID', 'username', 'Verified', 'userUrl', 'followers', 'following', 'tracks', 'playlistIDs'])\n",
    "for i in range(2, 5):\n",
    "    print(index_range_list[i])\n",
    "    start_index = index_range_list[i]\n",
    "    end_index = index_range_list[i + 1]\n",
    "    data = asynchronousGetWebData(userUrlList[start_index:end_index], get_user_info)\n",
    "\n",
    "    mini_user = pd.DataFrame(data, columns=['userID', 'username', 'Verified', 'userUrl', 'followers', 'following', 'tracks', 'playlistIDs'])\n",
    "    users = pd.concat([users, mini_user])\n",
    "    \n",
    "users.to_csv('users.csv', index=False)"
   ]
  },
  {
   "cell_type": "code",
   "execution_count": 23,
   "id": "80ed057d",
   "metadata": {},
   "outputs": [],
   "source": [
    "usertemp = users.copy()\n",
    "usertemp.to_csv('usertemp.csv', index=False)"
   ]
  },
  {
   "cell_type": "code",
   "execution_count": 22,
   "id": "ff78fe44",
   "metadata": {},
   "outputs": [],
   "source": [
    "new_users = pd.read_csv('newusers.csv')\n",
    "users = pd.concat([users, new_users])\n",
    "users.to_csv('users.csv', index=False)"
   ]
  },
  {
   "cell_type": "code",
   "execution_count": 21,
   "id": "9d3edfac",
   "metadata": {},
   "outputs": [
    {
     "name": "stdout",
     "output_type": "stream",
     "text": [
      "                                            username Verified  \\\n",
      "e-p-beats                P-Town Anthems (E.P. Beats)    False   \n",
      "mahnorabotdf                           Mahnora-Botdf    False   \n",
      "alecbenjamin                           Alec Benjamin     True   \n",
      "muhammad-salman-mansoor             Shaikh & Shaikhi    False   \n",
      "jialaji                                     Jiala Ji    False   \n",
      "...                                              ...      ...   \n",
      "536                                          Ava Max      NaN   \n",
      "537                                      ♦HLTR$KLTR♦      NaN   \n",
      "538                                            Tasty      NaN   \n",
      "539                                    Darren Styles      NaN   \n",
      "540                                     Fasih Dawood      NaN   \n",
      "\n",
      "                                                                userUrl  \\\n",
      "e-p-beats                              https://soundcloud.com/e-p-beats   \n",
      "mahnorabotdf                        https://soundcloud.com/mahnorabotdf   \n",
      "alecbenjamin                        https://soundcloud.com/alecbenjamin   \n",
      "muhammad-salman-mansoor  https://soundcloud.com/muhammad-salman-mansoor   \n",
      "jialaji                                  https://soundcloud.com/jialaji   \n",
      "...                                                                 ...   \n",
      "536                               https://soundcloud.com/user-478177208   \n",
      "537                                    https://soundcloud.com/hltrskltr   \n",
      "538                                 https://soundcloud.com/tastynetwork   \n",
      "539                                https://soundcloud.com/darren-styles   \n",
      "540                                 https://soundcloud.com/fasih-dawood   \n",
      "\n",
      "                        followers following tracks  \\\n",
      "e-p-beats                     510     1,327      2   \n",
      "mahnorabotdf                   89         1     14   \n",
      "alecbenjamin                 223K         0     91   \n",
      "muhammad-salman-mansoor     2,043       161     39   \n",
      "jialaji                       164       204      9   \n",
      "...                           ...       ...    ...   \n",
      "536                           539         0     11   \n",
      "537                         13.9K         1     24   \n",
      "538                          195K        47    219   \n",
      "539                         91.2K       112    153   \n",
      "540                           380         7     28   \n",
      "\n",
      "                                                               playlistIDs  \\\n",
      "e-p-beats                [the-arcane-trilogy, prod-by-e-p-beats, killer...   \n",
      "mahnorabotdf                                                [mahnorabotdf]   \n",
      "alecbenjamin                                           [these-two-windows]   \n",
      "muhammad-salman-mansoor                                                NaN   \n",
      "jialaji                                                                NaN   \n",
      "...                                                                    ...   \n",
      "536                                                                    NaN   \n",
      "537                      helter-skelter-vol1;prod-by-hltr-kltr;katana-o...   \n",
      "538                      the-forgotten-dreams-the-remixes;another-dimen...   \n",
      "539                      2022-releases;darren-styles-gammer-feel-like;d...   \n",
      "540                                                                    NaN   \n",
      "\n",
      "                                 userID Vertified  \n",
      "e-p-beats                           NaN       NaN  \n",
      "mahnorabotdf                        NaN       NaN  \n",
      "alecbenjamin                        NaN       NaN  \n",
      "muhammad-salman-mansoor             NaN       NaN  \n",
      "jialaji                             NaN       NaN  \n",
      "...                                 ...       ...  \n",
      "536                      user-478177208     False  \n",
      "537                           hltrskltr     False  \n",
      "538                        tastynetwork      True  \n",
      "539                       darren-styles      True  \n",
      "540                        fasih-dawood     False  \n",
      "\n",
      "[1354 rows x 9 columns]\n"
     ]
    }
   ],
   "source": [
    "print(usertemp)"
   ]
  },
  {
   "cell_type": "code",
   "execution_count": 11,
   "id": "7aef0b8a",
   "metadata": {},
   "outputs": [],
   "source": [
    "#this cell takes a long time to run (more than 114 minutes to go through 1278 users)\n",
    "#data = asynchronousGetWebData(userUrlList, get_user_info)\n",
    "\n",
    "#users = pd.DataFrame(data, columns=['userID', 'username', 'Verified', 'userUrl', 'followers', 'following', 'tracks', 'playlistIDs'])\n",
    "#users.to_csv('users.csv', index=False)"
   ]
  },
  {
   "cell_type": "markdown",
   "id": "79d0cd44",
   "metadata": {},
   "source": [
    "### Collect Playlists"
   ]
  },
  {
   "cell_type": "code",
   "execution_count": 12,
   "id": "cc57e0f0",
   "metadata": {},
   "outputs": [
    {
     "name": "stdout",
     "output_type": "stream",
     "text": [
      "(813, 7)\n"
     ]
    },
    {
     "data": {
      "text/html": [
       "<div>\n",
       "<style scoped>\n",
       "    .dataframe tbody tr th:only-of-type {\n",
       "        vertical-align: middle;\n",
       "    }\n",
       "\n",
       "    .dataframe tbody tr th {\n",
       "        vertical-align: top;\n",
       "    }\n",
       "\n",
       "    .dataframe thead th {\n",
       "        text-align: right;\n",
       "    }\n",
       "</style>\n",
       "<table border=\"1\" class=\"dataframe\">\n",
       "  <thead>\n",
       "    <tr style=\"text-align: right;\">\n",
       "      <th></th>\n",
       "      <th>username</th>\n",
       "      <th>Verified</th>\n",
       "      <th>userUrl</th>\n",
       "      <th>followers</th>\n",
       "      <th>following</th>\n",
       "      <th>tracks</th>\n",
       "      <th>playlistIDs</th>\n",
       "    </tr>\n",
       "    <tr>\n",
       "      <th>userID</th>\n",
       "      <th></th>\n",
       "      <th></th>\n",
       "      <th></th>\n",
       "      <th></th>\n",
       "      <th></th>\n",
       "      <th></th>\n",
       "      <th></th>\n",
       "    </tr>\n",
       "  </thead>\n",
       "  <tbody>\n",
       "    <tr>\n",
       "      <th>e-p-beats</th>\n",
       "      <td>P-Town Anthems (E.P. Beats)</td>\n",
       "      <td>False</td>\n",
       "      <td>https://soundcloud.com/e-p-beats</td>\n",
       "      <td>510</td>\n",
       "      <td>1,327</td>\n",
       "      <td>2</td>\n",
       "      <td>the-arcane-trilogy;prod-by-e-p-beats;killers-i...</td>\n",
       "    </tr>\n",
       "    <tr>\n",
       "      <th>mahnorabotdf</th>\n",
       "      <td>Mahnora-Botdf</td>\n",
       "      <td>False</td>\n",
       "      <td>https://soundcloud.com/mahnorabotdf</td>\n",
       "      <td>89</td>\n",
       "      <td>1</td>\n",
       "      <td>14</td>\n",
       "      <td>mahnorabotdf</td>\n",
       "    </tr>\n",
       "    <tr>\n",
       "      <th>alecbenjamin</th>\n",
       "      <td>Alec Benjamin</td>\n",
       "      <td>True</td>\n",
       "      <td>https://soundcloud.com/alecbenjamin</td>\n",
       "      <td>223K</td>\n",
       "      <td>0</td>\n",
       "      <td>91</td>\n",
       "      <td>these-two-windows</td>\n",
       "    </tr>\n",
       "    <tr>\n",
       "      <th>muhammad-salman-mansoor</th>\n",
       "      <td>Shaikh &amp; Shaikhi</td>\n",
       "      <td>False</td>\n",
       "      <td>https://soundcloud.com/muhammad-salman-mansoor</td>\n",
       "      <td>2,043</td>\n",
       "      <td>161</td>\n",
       "      <td>39</td>\n",
       "      <td>NaN</td>\n",
       "    </tr>\n",
       "    <tr>\n",
       "      <th>jialaji</th>\n",
       "      <td>Jiala Ji</td>\n",
       "      <td>False</td>\n",
       "      <td>https://soundcloud.com/jialaji</td>\n",
       "      <td>164</td>\n",
       "      <td>204</td>\n",
       "      <td>9</td>\n",
       "      <td>NaN</td>\n",
       "    </tr>\n",
       "  </tbody>\n",
       "</table>\n",
       "</div>"
      ],
      "text/plain": [
       "                                            username  Verified  \\\n",
       "userID                                                           \n",
       "e-p-beats                P-Town Anthems (E.P. Beats)     False   \n",
       "mahnorabotdf                           Mahnora-Botdf     False   \n",
       "alecbenjamin                           Alec Benjamin      True   \n",
       "muhammad-salman-mansoor             Shaikh & Shaikhi     False   \n",
       "jialaji                                     Jiala Ji     False   \n",
       "\n",
       "                                                                userUrl  \\\n",
       "userID                                                                    \n",
       "e-p-beats                              https://soundcloud.com/e-p-beats   \n",
       "mahnorabotdf                        https://soundcloud.com/mahnorabotdf   \n",
       "alecbenjamin                        https://soundcloud.com/alecbenjamin   \n",
       "muhammad-salman-mansoor  https://soundcloud.com/muhammad-salman-mansoor   \n",
       "jialaji                                  https://soundcloud.com/jialaji   \n",
       "\n",
       "                        followers following tracks  \\\n",
       "userID                                               \n",
       "e-p-beats                     510     1,327      2   \n",
       "mahnorabotdf                   89         1     14   \n",
       "alecbenjamin                 223K         0     91   \n",
       "muhammad-salman-mansoor     2,043       161     39   \n",
       "jialaji                       164       204      9   \n",
       "\n",
       "                                                               playlistIDs  \n",
       "userID                                                                      \n",
       "e-p-beats                the-arcane-trilogy;prod-by-e-p-beats;killers-i...  \n",
       "mahnorabotdf                                                  mahnorabotdf  \n",
       "alecbenjamin                                             these-two-windows  \n",
       "muhammad-salman-mansoor                                                NaN  \n",
       "jialaji                                                                NaN  "
      ]
     },
     "execution_count": 12,
     "metadata": {},
     "output_type": "execute_result"
    }
   ],
   "source": [
    "users = pd.read_csv('users.csv', index_col=\"userID\")\n",
    "print(users.shape)\n",
    "users.head()"
   ]
  },
  {
   "cell_type": "code",
   "execution_count": 13,
   "id": "bf303baf",
   "metadata": {},
   "outputs": [],
   "source": [
    "users[\"playlistIDs\"] = users[\"playlistIDs\"].str.split(';')"
   ]
  },
  {
   "cell_type": "code",
   "execution_count": 14,
   "id": "285769cc",
   "metadata": {},
   "outputs": [],
   "source": [
    "userPlaylist = users.explode(\"playlistIDs\").dropna(subset=[\"playlistIDs\"])"
   ]
  },
  {
   "cell_type": "code",
   "execution_count": 15,
   "id": "6dc13c7a",
   "metadata": {},
   "outputs": [
    {
     "name": "stderr",
     "output_type": "stream",
     "text": [
      "C:\\Users\\PHU\\AppData\\Local\\Temp\\ipykernel_8404\\5826554.py:2: SettingWithCopyWarning: \n",
      "A value is trying to be set on a copy of a slice from a DataFrame.\n",
      "Try using .loc[row_indexer,col_indexer] = value instead\n",
      "\n",
      "See the caveats in the documentation: https://pandas.pydata.org/pandas-docs/stable/user_guide/indexing.html#returning-a-view-versus-a-copy\n",
      "  listPlaylistURL['playlistUrl'] = listPlaylistURL['userUrl'] + '/sets/' + listPlaylistURL['playlistIDs']\n"
     ]
    }
   ],
   "source": [
    "listPlaylistURL = userPlaylist[['playlistIDs', 'userUrl']]\n",
    "listPlaylistURL['playlistUrl'] = listPlaylistURL['userUrl'] + '/sets/' + listPlaylistURL['playlistIDs']\n",
    "listPlaylistURL.reset_index(inplace=True)"
   ]
  },
  {
   "cell_type": "code",
   "execution_count": 16,
   "id": "29687935",
   "metadata": {},
   "outputs": [],
   "source": [
    "def getPlayListInfo(urlPlaylistInfo):\n",
    "    userID ,urlPlaylist = urlPlaylistInfo[0], urlPlaylistInfo[1]\n",
    "    \n",
    "    driver = webdriver.Chrome()\n",
    "    driver.maximize_window()\n",
    "    driver.get(urlPlaylist)\n",
    "    \n",
    "    WebDriverWait(driver, 10).until(EC.element_to_be_clickable((By.ID, 'onetrust-accept-btn-handler'))).click()\n",
    "    \n",
    "    last_height = driver.execute_script(\"return document.body.scrollHeight\")\n",
    "    while True:\n",
    "        # Scroll down to bottom\n",
    "        driver.execute_script(\"window.scrollTo(0, document.body.scrollHeight);\")\n",
    "        # Wait to load page\n",
    "        time.sleep(SCROLL_PAUSE_TIME)\n",
    "        # Calculate new scroll height and compare with last scroll height\n",
    "        new_height = driver.execute_script(\"return document.body.scrollHeight\")\n",
    "        if new_height == last_height:\n",
    "            break\n",
    "        last_height = new_height\n",
    "\n",
    "    #check Likes \n",
    "    time.sleep(SLEEP_TIME)\n",
    "    try:\n",
    "        Likes = driver.find_element(By.CLASS_NAME, 'sc-ministats-likes').find_elements(By.TAG_NAME, 'span')[1].text\n",
    "    except:\n",
    "        Likes = None\n",
    "    #check Reposts\n",
    "    try:\n",
    "        Reposts = driver.find_element(By.CLASS_NAME, 'sc-ministats-reposts').find_elements(By.TAG_NAME, 'span')[1].text\n",
    "    except:\n",
    "        Reposts = None\n",
    "    #check Datetime\n",
    "    try:\n",
    "        Datetime = driver.find_element(By.CLASS_NAME, 'relativeTime').get_attribute('datetime')\n",
    "    except:\n",
    "        Datetime = None\n",
    "    #check TagContent\n",
    "    try:\n",
    "        TagContent = driver.find_element(By.CLASS_NAME, 'sc-tagContent').text.split(',')\n",
    "    except:\n",
    "        TagContent = None\n",
    "    \n",
    "\n",
    "    driver.close()\n",
    "    return [userID, urlPlaylist, Likes, Reposts, TagContent, Datetime]"
   ]
  },
  {
   "cell_type": "code",
   "execution_count": 17,
   "id": "d71e756b",
   "metadata": {},
   "outputs": [
    {
     "ename": "KeyboardInterrupt",
     "evalue": "",
     "output_type": "error",
     "traceback": [
      "\u001b[1;31m---------------------------------------------------------------------------\u001b[0m",
      "\u001b[1;31mKeyboardInterrupt\u001b[0m                         Traceback (most recent call last)",
      "\u001b[1;32md:\\DS hw\\SoundCloudAnalysis\\SoundCloudAnalysis.ipynb Cell 26\u001b[0m in \u001b[0;36m<cell line: 1>\u001b[1;34m()\u001b[0m\n\u001b[1;32m----> <a href='vscode-notebook-cell:/d%3A/DS%20hw/SoundCloudAnalysis/SoundCloudAnalysis.ipynb#X34sZmlsZQ%3D%3D?line=0'>1</a>\u001b[0m data \u001b[39m=\u001b[39m asynchronousGetWebData(listPlaylistURL[[\u001b[39m\"\u001b[39;49m\u001b[39muserID\u001b[39;49m\u001b[39m\"\u001b[39;49m, \u001b[39m\"\u001b[39;49m\u001b[39mplaylistUrl\u001b[39;49m\u001b[39m\"\u001b[39;49m]]\u001b[39m.\u001b[39;49mvalues, getPlayListInfo)\n\u001b[0;32m      <a href='vscode-notebook-cell:/d%3A/DS%20hw/SoundCloudAnalysis/SoundCloudAnalysis.ipynb#X34sZmlsZQ%3D%3D?line=2'>3</a>\u001b[0m playlists \u001b[39m=\u001b[39m pd\u001b[39m.\u001b[39mDataFrame(data, columns\u001b[39m=\u001b[39m[\u001b[39m'\u001b[39m\u001b[39mUserIDPlaylist\u001b[39m\u001b[39m'\u001b[39m ,\u001b[39m'\u001b[39m\u001b[39mPlaylistURL\u001b[39m\u001b[39m'\u001b[39m, \u001b[39m'\u001b[39m\u001b[39mLikes\u001b[39m\u001b[39m'\u001b[39m, \u001b[39m'\u001b[39m\u001b[39mReposts\u001b[39m\u001b[39m'\u001b[39m, \u001b[39m'\u001b[39m\u001b[39mTagContent\u001b[39m\u001b[39m'\u001b[39m , \u001b[39m'\u001b[39m\u001b[39mUploadtime\u001b[39m\u001b[39m'\u001b[39m])\n\u001b[0;32m      <a href='vscode-notebook-cell:/d%3A/DS%20hw/SoundCloudAnalysis/SoundCloudAnalysis.ipynb#X34sZmlsZQ%3D%3D?line=3'>4</a>\u001b[0m playlists\u001b[39m.\u001b[39mto_csv(\u001b[39m'\u001b[39m\u001b[39mplaylists.csv\u001b[39m\u001b[39m'\u001b[39m, index\u001b[39m=\u001b[39m\u001b[39mFalse\u001b[39;00m)\n",
      "\u001b[1;32md:\\DS hw\\SoundCloudAnalysis\\SoundCloudAnalysis.ipynb Cell 26\u001b[0m in \u001b[0;36masynchronousGetWebData\u001b[1;34m(listData, getDataFunc, max_screens, *argv)\u001b[0m\n\u001b[0;32m     <a href='vscode-notebook-cell:/d%3A/DS%20hw/SoundCloudAnalysis/SoundCloudAnalysis.ipynb#X34sZmlsZQ%3D%3D?line=22'>23</a>\u001b[0m \u001b[39mwith\u001b[39;00m ThreadPoolExecutor() \u001b[39mas\u001b[39;00m executor:\n\u001b[0;32m     <a href='vscode-notebook-cell:/d%3A/DS%20hw/SoundCloudAnalysis/SoundCloudAnalysis.ipynb#X34sZmlsZQ%3D%3D?line=23'>24</a>\u001b[0m     \u001b[39mfor\u001b[39;00m url \u001b[39min\u001b[39;00m tmpData:\n\u001b[1;32m---> <a href='vscode-notebook-cell:/d%3A/DS%20hw/SoundCloudAnalysis/SoundCloudAnalysis.ipynb#X34sZmlsZQ%3D%3D?line=24'>25</a>\u001b[0m         threadList\u001b[39m.\u001b[39mappend(executor\u001b[39m.\u001b[39msubmit(getDataFunc, url, \u001b[39m*\u001b[39margv))\n\u001b[0;32m     <a href='vscode-notebook-cell:/d%3A/DS%20hw/SoundCloudAnalysis/SoundCloudAnalysis.ipynb#X34sZmlsZQ%3D%3D?line=26'>27</a>\u001b[0m wait(threadList)\n\u001b[0;32m     <a href='vscode-notebook-cell:/d%3A/DS%20hw/SoundCloudAnalysis/SoundCloudAnalysis.ipynb#X34sZmlsZQ%3D%3D?line=28'>29</a>\u001b[0m \u001b[39mfor\u001b[39;00m thread \u001b[39min\u001b[39;00m threadList:\n",
      "File \u001b[1;32mc:\\Users\\PHU\\AppData\\Local\\Programs\\Python\\Python39\\lib\\concurrent\\futures\\_base.py:636\u001b[0m, in \u001b[0;36mExecutor.__exit__\u001b[1;34m(self, exc_type, exc_val, exc_tb)\u001b[0m\n\u001b[0;32m    635\u001b[0m \u001b[39mdef\u001b[39;00m \u001b[39m__exit__\u001b[39m(\u001b[39mself\u001b[39m, exc_type, exc_val, exc_tb):\n\u001b[1;32m--> 636\u001b[0m     \u001b[39mself\u001b[39;49m\u001b[39m.\u001b[39;49mshutdown(wait\u001b[39m=\u001b[39;49m\u001b[39mTrue\u001b[39;49;00m)\n\u001b[0;32m    637\u001b[0m     \u001b[39mreturn\u001b[39;00m \u001b[39mFalse\u001b[39;00m\n",
      "File \u001b[1;32mc:\\Users\\PHU\\AppData\\Local\\Programs\\Python\\Python39\\lib\\concurrent\\futures\\thread.py:229\u001b[0m, in \u001b[0;36mThreadPoolExecutor.shutdown\u001b[1;34m(self, wait, cancel_futures)\u001b[0m\n\u001b[0;32m    227\u001b[0m \u001b[39mif\u001b[39;00m wait:\n\u001b[0;32m    228\u001b[0m     \u001b[39mfor\u001b[39;00m t \u001b[39min\u001b[39;00m \u001b[39mself\u001b[39m\u001b[39m.\u001b[39m_threads:\n\u001b[1;32m--> 229\u001b[0m         t\u001b[39m.\u001b[39;49mjoin()\n",
      "File \u001b[1;32mc:\\Users\\PHU\\AppData\\Local\\Programs\\Python\\Python39\\lib\\threading.py:1053\u001b[0m, in \u001b[0;36mThread.join\u001b[1;34m(self, timeout)\u001b[0m\n\u001b[0;32m   1050\u001b[0m     \u001b[39mraise\u001b[39;00m \u001b[39mRuntimeError\u001b[39;00m(\u001b[39m\"\u001b[39m\u001b[39mcannot join current thread\u001b[39m\u001b[39m\"\u001b[39m)\n\u001b[0;32m   1052\u001b[0m \u001b[39mif\u001b[39;00m timeout \u001b[39mis\u001b[39;00m \u001b[39mNone\u001b[39;00m:\n\u001b[1;32m-> 1053\u001b[0m     \u001b[39mself\u001b[39;49m\u001b[39m.\u001b[39;49m_wait_for_tstate_lock()\n\u001b[0;32m   1054\u001b[0m \u001b[39melse\u001b[39;00m:\n\u001b[0;32m   1055\u001b[0m     \u001b[39m# the behavior of a negative timeout isn't documented, but\u001b[39;00m\n\u001b[0;32m   1056\u001b[0m     \u001b[39m# historically .join(timeout=x) for x<0 has acted as if timeout=0\u001b[39;00m\n\u001b[0;32m   1057\u001b[0m     \u001b[39mself\u001b[39m\u001b[39m.\u001b[39m_wait_for_tstate_lock(timeout\u001b[39m=\u001b[39m\u001b[39mmax\u001b[39m(timeout, \u001b[39m0\u001b[39m))\n",
      "File \u001b[1;32mc:\\Users\\PHU\\AppData\\Local\\Programs\\Python\\Python39\\lib\\threading.py:1069\u001b[0m, in \u001b[0;36mThread._wait_for_tstate_lock\u001b[1;34m(self, block, timeout)\u001b[0m\n\u001b[0;32m   1067\u001b[0m \u001b[39mif\u001b[39;00m lock \u001b[39mis\u001b[39;00m \u001b[39mNone\u001b[39;00m:  \u001b[39m# already determined that the C code is done\u001b[39;00m\n\u001b[0;32m   1068\u001b[0m     \u001b[39massert\u001b[39;00m \u001b[39mself\u001b[39m\u001b[39m.\u001b[39m_is_stopped\n\u001b[1;32m-> 1069\u001b[0m \u001b[39melif\u001b[39;00m lock\u001b[39m.\u001b[39;49macquire(block, timeout):\n\u001b[0;32m   1070\u001b[0m     lock\u001b[39m.\u001b[39mrelease()\n\u001b[0;32m   1071\u001b[0m     \u001b[39mself\u001b[39m\u001b[39m.\u001b[39m_stop()\n",
      "\u001b[1;31mKeyboardInterrupt\u001b[0m: "
     ]
    }
   ],
   "source": [
    "data = asynchronousGetWebData(listPlaylistURL[[\"userID\", \"playlistUrl\"]].values, getPlayListInfo)\n",
    "\n",
    "playlists = pd.DataFrame(data, columns=['UserIDPlaylist' ,'PlaylistURL', 'Likes', 'Reposts', 'TagContent' , 'Uploadtime'])\n",
    "playlists.to_csv('playlists.csv', index=False)"
   ]
  },
  {
   "cell_type": "markdown",
   "id": "3db4c37e",
   "metadata": {},
   "source": [
    "### Collect Tracks"
   ]
  },
  {
   "cell_type": "code",
   "execution_count": null,
   "id": "c1fb04e2",
   "metadata": {},
   "outputs": [],
   "source": []
  },
  {
   "cell_type": "code",
   "execution_count": null,
   "id": "cfed5598",
   "metadata": {},
   "outputs": [],
   "source": []
  },
  {
   "cell_type": "code",
   "execution_count": null,
   "id": "9b99d2cf",
   "metadata": {},
   "outputs": [],
   "source": []
  },
  {
   "cell_type": "markdown",
   "id": "6a89d136",
   "metadata": {
    "deletable": false,
    "editable": false,
    "run_control": {
     "frozen": true
    }
   },
   "source": [
    "## Exploratory Data Analysis"
   ]
  },
  {
   "cell_type": "code",
   "execution_count": null,
   "id": "74beaeb8",
   "metadata": {},
   "outputs": [],
   "source": []
  },
  {
   "cell_type": "code",
   "execution_count": null,
   "id": "53333af4",
   "metadata": {},
   "outputs": [],
   "source": []
  },
  {
   "cell_type": "code",
   "execution_count": null,
   "id": "90e02053",
   "metadata": {},
   "outputs": [],
   "source": []
  },
  {
   "cell_type": "markdown",
   "id": "f6726d58",
   "metadata": {
    "deletable": false,
    "editable": false,
    "run_control": {
     "frozen": true
    }
   },
   "source": [
    "## References"
   ]
  },
  {
   "cell_type": "code",
   "execution_count": null,
   "id": "9e772a53",
   "metadata": {},
   "outputs": [],
   "source": []
  },
  {
   "cell_type": "code",
   "execution_count": null,
   "id": "7a84980b",
   "metadata": {},
   "outputs": [],
   "source": []
  },
  {
   "cell_type": "code",
   "execution_count": null,
   "id": "ad1b82a9",
   "metadata": {},
   "outputs": [],
   "source": []
  }
 ],
 "metadata": {
  "kernelspec": {
   "display_name": "Python 3 (ipykernel)",
   "language": "python",
   "name": "python3"
  },
  "language_info": {
   "codemirror_mode": {
    "name": "ipython",
    "version": 3
   },
   "file_extension": ".py",
   "mimetype": "text/x-python",
   "name": "python",
   "nbconvert_exporter": "python",
   "pygments_lexer": "ipython3",
   "version": "3.9.6"
  },
  "varInspector": {
   "cols": {
    "lenName": 16,
    "lenType": 16,
    "lenVar": 40
   },
   "kernels_config": {
    "python": {
     "delete_cmd_postfix": "",
     "delete_cmd_prefix": "del ",
     "library": "var_list.py",
     "varRefreshCmd": "print(var_dic_list())"
    },
    "r": {
     "delete_cmd_postfix": ") ",
     "delete_cmd_prefix": "rm(",
     "library": "var_list.r",
     "varRefreshCmd": "cat(var_dic_list()) "
    }
   },
   "types_to_exclude": [
    "module",
    "function",
    "builtin_function_or_method",
    "instance",
    "_Feature"
   ],
   "window_display": false
  },
  "vscode": {
   "interpreter": {
    "hash": "74e5bf51938182123ef7a3e4309ce82395eb9829b681731e8e19a32e1968cddf"
   }
  }
 },
 "nbformat": 4,
 "nbformat_minor": 5
}
