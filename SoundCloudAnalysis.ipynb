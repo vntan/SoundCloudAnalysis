{
 "cells": [
  {
   "cell_type": "markdown",
   "id": "a0bcc353",
   "metadata": {
    "deletable": false,
    "editable": false,
    "run_control": {
     "frozen": true
    }
   },
   "source": [
    "# PROJECT 1: EXPLORATORY DATA ANALYSIS"
   ]
  },
  {
   "cell_type": "markdown",
   "id": "03dbd956",
   "metadata": {
    "deletable": false,
    "editable": false,
    "run_control": {
     "frozen": true
    }
   },
   "source": [
    "## Project Name: "
   ]
  },
  {
   "cell_type": "markdown",
   "id": "dc227b11",
   "metadata": {
    "deletable": false,
    "editable": false,
    "run_control": {
     "frozen": true
    }
   },
   "source": [
    "SOUNDCLOUD ANALYSIS"
   ]
  },
  {
   "cell_type": "markdown",
   "id": "7fcd00d0",
   "metadata": {
    "deletable": false,
    "editable": false,
    "run_control": {
     "frozen": true
    }
   },
   "source": [
    "## Assignment Table"
   ]
  },
  {
   "cell_type": "markdown",
   "id": "086fa5ec",
   "metadata": {
    "deletable": false,
    "editable": false,
    "run_control": {
     "frozen": true
    }
   },
   "source": [
    "| ID            | Fullname              | Contribution rate |\n",
    "| :-----------: | :-------------------  | :-----------:     |\n",
    "| 20127323      | Võ Nhật Tân           |                   |\n",
    "| 20127447      | Ngô Đức Bảo           |                   |\n",
    "| 20127275      | Lê Nguyễn Nhật Phú    |                   |\n",
    "| 20127681      | Nguyễn Thiên Phúc     |                   |\n",
    "\n"
   ]
  },
  {
   "cell_type": "markdown",
   "id": "23b98d35",
   "metadata": {
    "deletable": false,
    "editable": false,
    "run_control": {
     "frozen": true
    }
   },
   "source": [
    "## Data Collection"
   ]
  },
  {
   "cell_type": "markdown",
   "id": "1156f81e",
   "metadata": {},
   "source": [
    "### Collect Users"
   ]
  },
  {
   "cell_type": "code",
   "execution_count": 11,
   "id": "84029bbe",
   "metadata": {},
   "outputs": [],
   "source": [
    "import time\n",
    "import pandas as pd\n",
    "import random\n",
    "import requests\n",
    "import requests_cache\n",
    "from bs4 import BeautifulSoup"
   ]
  },
  {
   "cell_type": "code",
   "execution_count": 12,
   "id": "fa29a3ad",
   "metadata": {},
   "outputs": [],
   "source": [
    "from selenium import webdriver\n",
    "from selenium.webdriver.common.keys import Keys\n",
    "from selenium.webdriver.common.by import By\n",
    "from selenium.webdriver.support.ui import WebDriverWait\n",
    "from selenium.webdriver.support import expected_conditions as EC"
   ]
  },
  {
   "cell_type": "code",
   "execution_count": 13,
   "id": "deea7ada",
   "metadata": {},
   "outputs": [],
   "source": [
    "sleep_time = 2"
   ]
  },
  {
   "cell_type": "code",
   "execution_count": 14,
   "id": "599907b5",
   "metadata": {},
   "outputs": [],
   "source": [
    "SCROLL_PAUSE_TIME = 0.5"
   ]
  },
  {
   "cell_type": "code",
   "execution_count": 15,
   "id": "d793cb9f",
   "metadata": {},
   "outputs": [],
   "source": [
    "requests_cache.install_cache('cache', expire_after=None)"
   ]
  },
  {
   "cell_type": "code",
   "execution_count": 27,
   "id": "88e0b079",
   "metadata": {},
   "outputs": [],
   "source": [
    "urlList = [ 'https://soundcloud.com/user-593335594/sets/is-500-songs-the-playlist', \\\n",
    "            'https://soundcloud.com/user-593335594/sets/amazing-artistry-2',\\\n",
    "            'https://soundcloud.com/user-593335594/sets/playlist-that-wont-crash-my',\\\n",
    "            'https://soundcloud.com/user-593335594/sets/my-personal-favorites',\\\n",
    "            'https://soundcloud.com/user-593335594/sets/amazing',\\\n",
    "            'https://soundcloud.com/user-593335594/sets/i-found-more-music',\\\n",
    "            'https://soundcloud.com/user-593335594/sets/chivalry-is-dead',\\\n",
    "            'https://soundcloud.com/idla/sets/old-songs',\\\n",
    "            'https://soundcloud.com/idla/sets/pop-playlist-2020',\\\n",
    "            'https://soundcloud.com/idla/sets/lost-in-the-blues',\\\n",
    "            'https://soundcloud.com/user987150052/sets/hot-playlist',\\\n",
    "            'https://soundcloud.com/user61185041/sets/hot-playlist',\\\n",
    "            'https://soundcloud.com/discover/sets/charts-top:all-music:vn',\\\n",
    "            'https://soundcloud.com/discover/sets/charts-trending:danceedm:vn',\\\n",
    "            'https://soundcloud.com/bytufekci/sets/top-100-songs-of-2020']"
   ]
  },
  {
   "cell_type": "code",
   "execution_count": 24,
   "id": "20be5a34",
   "metadata": {},
   "outputs": [],
   "source": [
    "def getUserUrl(urlList):\n",
    "    driver = webdriver.Chrome()\n",
    "    userUrl = set()\n",
    "    isCheckCookie = True\n",
    "    for url in urlList:\n",
    "        driver.get(url)\n",
    "        driver.maximize_window()\n",
    "        time.sleep(sleep_time)\n",
    "        if isCheckCookie: \n",
    "            WebDriverWait(driver, 10).until(EC.element_to_be_clickable((By.ID, 'onetrust-accept-btn-handler'))).click()\n",
    "            isCheckCookie = False\n",
    "        last_height = driver.execute_script(\"return document.body.scrollHeight\")\n",
    "        while True:\n",
    "            # Scroll down to bottom\n",
    "            driver.execute_script(\"window.scrollTo(0, document.body.scrollHeight);\")\n",
    "            # Wait to load page\n",
    "            time.sleep(SCROLL_PAUSE_TIME)\n",
    "            # Calculate new scroll height and compare with last scroll height\n",
    "            new_height = driver.execute_script(\"return document.body.scrollHeight\")\n",
    "            if new_height == last_height:\n",
    "                break\n",
    "            last_height = new_height\n",
    "        WebDriverWait(driver, 10).until(EC.element_to_be_clickable((By.CLASS_NAME, 'trackItem__username')))\n",
    "        newUserUrl = driver.find_elements(By.CLASS_NAME, 'trackItem__username')\n",
    "        for i in newUserUrl:\n",
    "            userUrl.add(i.get_attribute('href'))\n",
    "        print(\"Total of user's url\",len(userUrl))\n",
    "    driver.close()\n",
    "    return userUrl\n"
   ]
  },
  {
   "cell_type": "code",
   "execution_count": 25,
   "id": "816f8c3e",
   "metadata": {},
   "outputs": [
    {
     "name": "stdout",
     "output_type": "stream",
     "text": [
      "Total of user's url 318\n",
      "Total of user's url 325\n",
      "Total of user's url 374\n",
      "Total of user's url 386\n",
      "Total of user's url 580\n",
      "Total of user's url 604\n",
      "Total of user's url 614\n",
      "Total of user's url 693\n",
      "Total of user's url 752\n",
      "Total of user's url 798\n",
      "Total of user's url 1003\n",
      "Total of user's url 1279\n"
     ]
    }
   ],
   "source": [
    "userUrl = getUserUrl(urlList)"
   ]
  },
  {
   "cell_type": "code",
   "execution_count": 46,
   "id": "0500b43b",
   "metadata": {},
   "outputs": [],
   "source": [
    "#create a list of users using dataframes\n",
    "users = pd.DataFrame(columns=['userID', 'username', 'userUrl', 'followers', 'following', 'tracks', 'playlistIDs'])"
   ]
  },
  {
   "cell_type": "code",
   "execution_count": 47,
   "id": "6cb75dcb",
   "metadata": {},
   "outputs": [
    {
     "name": "stdout",
     "output_type": "stream",
     "text": [
      "https://soundcloud.com/ambition-beats\n"
     ]
    }
   ],
   "source": [
    "userUrlList = list(userUrl)\n",
    "print(userUrlList[0])"
   ]
  },
  {
   "cell_type": "code",
   "execution_count": 48,
   "id": "ac21a6a3",
   "metadata": {},
   "outputs": [],
   "source": [
    "def get_user_info(userUrl):    \n",
    "    driver = webdriver.Chrome()\n",
    "    isCheckCookie = True\n",
    "    for url in userUrl:\n",
    "        driver.get(url)\n",
    "        driver.maximize_window()\n",
    "        time.sleep(sleep_time)\n",
    "        if isCheckCookie: \n",
    "            WebDriverWait(driver, 10).until(EC.element_to_be_clickable((By.ID, 'onetrust-accept-btn-handler'))).click()\n",
    "            isCheckCookie = False\n",
    "        username = WebDriverWait(driver, 10).until(EC.element_to_be_clickable((By.CLASS_NAME, 'profileHeaderInfo__userName'))).text\n",
    "        userID = url.split('/')[-1]\n",
    "        userurl = url\n",
    "        WebDriverWait(driver, 10).until(EC.element_to_be_clickable((By.CLASS_NAME, 'infoStats__value.sc-font-light')))\n",
    "        info = driver.find_elements(By.CLASS_NAME, 'infoStats__value.sc-font-light')\n",
    "        followers = info[0].text\n",
    "        following = info[1].text\n",
    "        tracks = info[2].text\n",
    "        #go to user's sets which have the url https://soundcloud.com/{userID}/sets\n",
    "        driver.get(f'https://soundcloud.com/{userID}/sets')\n",
    "        time.sleep(sleep_time)\n",
    "        playlist = driver.find_elements(By.CLASS_NAME, 'sc-link-primary.soundTitle__title.sc-link-dark.sc-text-h4')\n",
    "        playlistIDs = []\n",
    "        if len(playlist) == 0:\n",
    "            playlistIDs = None\n",
    "        else:\n",
    "            for p in playlist:\n",
    "                playlistIDs.append(p.get_attribute('href').split('/')[-1])\n",
    "        users.loc[len(users)] = [userID, username, userurl, followers, following, tracks, playlistIDs]\n",
    "    driver.close()"
   ]
  },
  {
   "cell_type": "code",
   "execution_count": 49,
   "id": "7aef0b8a",
   "metadata": {},
   "outputs": [
    {
     "name": "stdout",
     "output_type": "stream",
     "text": [
      "(200, 7)\n",
      "(400, 7)\n",
      "(600, 7)\n",
      "(800, 7)\n",
      "(1000, 7)\n",
      "(1200, 7)\n",
      "(1279, 7)\n"
     ]
    }
   ],
   "source": [
    "#this cell takes a long time to run (more than 114 minutes to go through 1278 users)\n",
    "for i in range(0, len(userUrlList), 200):\n",
    "    start = i\n",
    "    end = i + 200\n",
    "    if end > len(userUrlList):\n",
    "        end = len(userUrlList)\n",
    "    get_user_info(userUrlList[start:end])\n",
    "    users.to_csv('users' + str(i) + '.csv', index=False)\n",
    "    print(users.shape)"
   ]
  },
  {
   "cell_type": "code",
   "execution_count": 50,
   "id": "329df670",
   "metadata": {},
   "outputs": [
    {
     "name": "stdout",
     "output_type": "stream",
     "text": [
      "                                userID                          username  \\\n",
      "0                       ambition-beats                 Ambition Verified   \n",
      "1                   downchildbluesband              Downchild Blues Band   \n",
      "2                            blindface                         BlindFace   \n",
      "3                             leiticia                           Letícia   \n",
      "4                              adamazz                            NoCtrl   \n",
      "...                                ...                               ...   \n",
      "1274                          maroon-5                 Maroon 5 Verified   \n",
      "1275  five-finger-death-punch-official  Five Finger Death Punch Verified   \n",
      "1276                    allaboutmaggie                      Maggie Szabo   \n",
      "1277                        en_network           EN - NETWORK™️ Verified   \n",
      "1278              david-clayton-thomas              David Clayton-Thomas   \n",
      "\n",
      "                                                userUrl followers following  \\\n",
      "0                 https://soundcloud.com/ambition-beats       49K       283   \n",
      "1             https://soundcloud.com/downchildbluesband        18         0   \n",
      "2                      https://soundcloud.com/blindface       205       457   \n",
      "3                       https://soundcloud.com/leiticia        56        24   \n",
      "4                        https://soundcloud.com/adamazz       933        12   \n",
      "...                                                 ...       ...       ...   \n",
      "1274                    https://soundcloud.com/maroon-5     1.69M         0   \n",
      "1275  https://soundcloud.com/five-finger-death-punch...      105K         0   \n",
      "1276              https://soundcloud.com/allaboutmaggie     1,330        14   \n",
      "1277                  https://soundcloud.com/en_network     21.7K       260   \n",
      "1278        https://soundcloud.com/david-clayton-thomas        25         0   \n",
      "\n",
      "     tracks                                        playlistIDs  \n",
      "0        43                                               None  \n",
      "1        41                                               None  \n",
      "2        17                        [death-flamingo-ep-plugger]  \n",
      "3        57  [ellise-live-with-rolling-1, ellise-live-with-...  \n",
      "4        14  [sonic-the-hedgehog-green-hill-zone-smooth-jaz...  \n",
      "...     ...                                                ...  \n",
      "1274    314                   [overexposed-1, dont-wanna-know]  \n",
      "1275    302                                               None  \n",
      "1276     26  [my-oh-my, how-much-i-love-you, oli-harper-mag...  \n",
      "1277     13  [reverie-ep-pseudo-prophet, evoked-natives-hot...  \n",
      "1278    185                                               None  \n",
      "\n",
      "[1279 rows x 7 columns]\n"
     ]
    }
   ],
   "source": [
    "print(users)\n",
    "users.to_csv('users.csv', index=False)"
   ]
  },
  {
   "cell_type": "markdown",
   "id": "79d0cd44",
   "metadata": {},
   "source": [
    "### Collect Playlists"
   ]
  },
  {
   "cell_type": "code",
   "execution_count": null,
   "id": "cc57e0f0",
   "metadata": {},
   "outputs": [],
   "source": []
  },
  {
   "cell_type": "code",
   "execution_count": null,
   "id": "bf303baf",
   "metadata": {},
   "outputs": [],
   "source": []
  },
  {
   "cell_type": "code",
   "execution_count": null,
   "id": "285769cc",
   "metadata": {},
   "outputs": [],
   "source": []
  },
  {
   "cell_type": "markdown",
   "id": "3db4c37e",
   "metadata": {},
   "source": [
    "### Collect Tracks"
   ]
  },
  {
   "cell_type": "code",
   "execution_count": null,
   "id": "c1fb04e2",
   "metadata": {},
   "outputs": [],
   "source": []
  },
  {
   "cell_type": "code",
   "execution_count": null,
   "id": "cfed5598",
   "metadata": {},
   "outputs": [],
   "source": []
  },
  {
   "cell_type": "code",
   "execution_count": null,
   "id": "9b99d2cf",
   "metadata": {},
   "outputs": [],
   "source": []
  },
  {
   "cell_type": "markdown",
   "id": "6a89d136",
   "metadata": {
    "deletable": false,
    "editable": false,
    "run_control": {
     "frozen": true
    }
   },
   "source": [
    "## Exploratory Data Analysis"
   ]
  },
  {
   "cell_type": "code",
   "execution_count": null,
   "id": "74beaeb8",
   "metadata": {},
   "outputs": [],
   "source": []
  },
  {
   "cell_type": "code",
   "execution_count": null,
   "id": "53333af4",
   "metadata": {},
   "outputs": [],
   "source": []
  },
  {
   "cell_type": "code",
   "execution_count": null,
   "id": "90e02053",
   "metadata": {},
   "outputs": [],
   "source": []
  },
  {
   "cell_type": "markdown",
   "id": "f6726d58",
   "metadata": {
    "deletable": false,
    "editable": false,
    "run_control": {
     "frozen": true
    }
   },
   "source": [
    "## References"
   ]
  },
  {
   "cell_type": "code",
   "execution_count": null,
   "id": "9e772a53",
   "metadata": {},
   "outputs": [],
   "source": []
  },
  {
   "cell_type": "code",
   "execution_count": null,
   "id": "7a84980b",
   "metadata": {},
   "outputs": [],
   "source": []
  },
  {
   "cell_type": "code",
   "execution_count": null,
   "id": "ad1b82a9",
   "metadata": {},
   "outputs": [],
   "source": []
  }
 ],
 "metadata": {
  "kernelspec": {
   "display_name": "Python 3.9.6 64-bit",
   "language": "python",
   "name": "python3"
  },
  "language_info": {
   "codemirror_mode": {
    "name": "ipython",
    "version": 3
   },
   "file_extension": ".py",
   "mimetype": "text/x-python",
   "name": "python",
   "nbconvert_exporter": "python",
   "pygments_lexer": "ipython3",
   "version": "3.9.6"
  },
  "varInspector": {
   "cols": {
    "lenName": 16,
    "lenType": 16,
    "lenVar": 40
   },
   "kernels_config": {
    "python": {
     "delete_cmd_postfix": "",
     "delete_cmd_prefix": "del ",
     "library": "var_list.py",
     "varRefreshCmd": "print(var_dic_list())"
    },
    "r": {
     "delete_cmd_postfix": ") ",
     "delete_cmd_prefix": "rm(",
     "library": "var_list.r",
     "varRefreshCmd": "cat(var_dic_list()) "
    }
   },
   "types_to_exclude": [
    "module",
    "function",
    "builtin_function_or_method",
    "instance",
    "_Feature"
   ],
   "window_display": false
  },
  "vscode": {
   "interpreter": {
    "hash": "74e5bf51938182123ef7a3e4309ce82395eb9829b681731e8e19a32e1968cddf"
   }
  }
 },
 "nbformat": 4,
 "nbformat_minor": 5
}
